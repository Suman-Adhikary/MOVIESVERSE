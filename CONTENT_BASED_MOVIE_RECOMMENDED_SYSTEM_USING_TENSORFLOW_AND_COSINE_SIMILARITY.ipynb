{
  "metadata": {
    "colab": {
      "provenance": [],
      "include_colab_link": true
    },
    "kernelspec": {
      "name": "python3",
      "display_name": "Python 3",
      "language": "python"
    },
    "language_info": {
      "name": "python",
      "version": "3.10.12",
      "mimetype": "text/x-python",
      "codemirror_mode": {
        "name": "ipython",
        "version": 3
      },
      "pygments_lexer": "ipython3",
      "nbconvert_exporter": "python",
      "file_extension": ".py"
    }
  },
  "nbformat_minor": 0,
  "nbformat": 4,
  "cells": [
    {
      "cell_type": "markdown",
      "metadata": {
        "id": "view-in-github",
        "colab_type": "text"
      },
      "source": [
        "<a href=\"https://colab.research.google.com/github/Suman-Adhikary/MOVIESVERSE/blob/main/CONTENT_BASED_MOVIE_RECOMMENDED_SYSTEM_USING_TENSORFLOW_AND_COSINE_SIMILARITY.ipynb\" target=\"_parent\"><img src=\"https://colab.research.google.com/assets/colab-badge.svg\" alt=\"Open In Colab\"/></a>"
      ]
    },
    {
      "cell_type": "markdown",
      "source": [
        "# Enable GPU.\n",
        "\n",
        "---\n",
        "\n",
        "\n",
        "\n",
        "---\n",
        "\n"
      ],
      "metadata": {
        "id": "oFRV12bvbjn2"
      }
    },
    {
      "cell_type": "code",
      "source": [
        "import warnings\n",
        "warnings.filterwarnings(\"ignore\")"
      ],
      "metadata": {
        "id": "4YZrRl_32C8F",
        "execution": {
          "iopub.status.busy": "2023-10-18T14:19:31.667405Z",
          "iopub.execute_input": "2023-10-18T14:19:31.667879Z",
          "iopub.status.idle": "2023-10-18T14:19:31.675365Z",
          "shell.execute_reply.started": "2023-10-18T14:19:31.667854Z",
          "shell.execute_reply": "2023-10-18T14:19:31.674561Z"
        },
        "trusted": true
      },
      "execution_count": null,
      "outputs": []
    },
    {
      "cell_type": "code",
      "source": [
        "from tensorflow.python.client import device_lib\n",
        "print(device_lib.list_local_devices())"
      ],
      "metadata": {
        "colab": {
          "base_uri": "https://localhost:8080/"
        },
        "id": "Mn7v0S74bn_I",
        "outputId": "33deacd6-0f38-466f-876f-00c4b621f4eb",
        "execution": {
          "iopub.status.busy": "2023-10-19T04:44:34.387642Z",
          "iopub.execute_input": "2023-10-19T04:44:34.388001Z",
          "iopub.status.idle": "2023-10-19T04:44:34.400119Z",
          "shell.execute_reply.started": "2023-10-19T04:44:34.387972Z",
          "shell.execute_reply": "2023-10-19T04:44:34.399106Z"
        },
        "trusted": true
      },
      "execution_count": null,
      "outputs": [
        {
          "name": "stdout",
          "text": "[name: \"/device:CPU:0\"\ndevice_type: \"CPU\"\nmemory_limit: 268435456\nlocality {\n}\nincarnation: 16390485008630860177\nxla_global_id: -1\n, name: \"/device:GPU:0\"\ndevice_type: \"GPU\"\nmemory_limit: 14337966080\nlocality {\n  bus_id: 1\n  links {\n    link {\n      device_id: 1\n      type: \"StreamExecutor\"\n      strength: 1\n    }\n  }\n}\nincarnation: 12419648760660414659\nphysical_device_desc: \"device: 0, name: Tesla T4, pci bus id: 0000:00:04.0, compute capability: 7.5\"\nxla_global_id: 416903419\n, name: \"/device:GPU:1\"\ndevice_type: \"GPU\"\nmemory_limit: 14337966080\nlocality {\n  bus_id: 1\n  links {\n    link {\n      type: \"StreamExecutor\"\n      strength: 1\n    }\n  }\n}\nincarnation: 10334044682244146005\nphysical_device_desc: \"device: 1, name: Tesla T4, pci bus id: 0000:00:05.0, compute capability: 7.5\"\nxla_global_id: 2144165316\n]\n",
          "output_type": "stream"
        }
      ]
    },
    {
      "cell_type": "code",
      "source": [
        "import tensorflow as tf\n",
        "\n",
        "print(\"GPU Available:\", tf.config.list_physical_devices('GPU'))"
      ],
      "metadata": {
        "id": "cOulDAaOdMYn",
        "colab": {
          "base_uri": "https://localhost:8080/"
        },
        "outputId": "af83db26-03fa-4611-8bc4-4bfc4bb92a7a",
        "execution": {
          "iopub.status.busy": "2023-10-18T14:19:45.183330Z",
          "iopub.execute_input": "2023-10-18T14:19:45.183772Z",
          "iopub.status.idle": "2023-10-18T14:19:45.194540Z",
          "shell.execute_reply.started": "2023-10-18T14:19:45.183750Z",
          "shell.execute_reply": "2023-10-18T14:19:45.193847Z"
        },
        "trusted": true
      },
      "execution_count": null,
      "outputs": [
        {
          "name": "stdout",
          "text": "GPU Available: [PhysicalDevice(name='/physical_device:GPU:0', device_type='GPU'), PhysicalDevice(name='/physical_device:GPU:1', device_type='GPU')]\n",
          "output_type": "stream"
        }
      ]
    },
    {
      "cell_type": "markdown",
      "source": [
        "# Import Required Packages.\n",
        "\n",
        "---\n",
        "\n",
        "\n",
        "\n",
        "---\n",
        "\n"
      ],
      "metadata": {
        "id": "JjFX7zROLAcp"
      }
    },
    {
      "cell_type": "code",
      "source": [
        "!pip install pyspark\n",
        "from pandas import DataFrame\n",
        "import gc\n",
        "import pandas as pd\n",
        "import numpy as np\n",
        "from sklearn.preprocessing import MultiLabelBinarizer\n",
        "import pyspark\n",
        "from pyspark.sql import SparkSession\n",
        "import pickle\n",
        "from sklearn.preprocessing import MinMaxScaler\n",
        "from pyspark.sql import Row\n",
        "from sklearn.model_selection import train_test_split\n",
        "from pyspark.sql.functions import split, explode\n",
        "import pyspark.sql.functions as f\n",
        "from pyspark.sql.functions import explode\n",
        "from pyspark.sql.window import Window\n",
        "from pyspark.sql.functions import monotonically_increasing_id, collect_list\n",
        "from pyspark.sql.types import MapType, IntegerType, ArrayType\n",
        "import matplotlib.pyplot as plt\n",
        "import seaborn as sns\n",
        "import tensorflow as tf\n",
        "from sklearn.preprocessing import StandardScaler, MinMaxScaler, MaxAbsScaler\n",
        "from sklearn.metrics import r2_score,mean_absolute_percentage_error, mean_squared_error\n",
        "from sklearn.metrics.pairwise import cosine_similarity\n",
        "from scipy import sparse"
      ],
      "metadata": {
        "id": "td7PKxCF3_mW",
        "colab": {
          "base_uri": "https://localhost:8080/"
        },
        "outputId": "c76d195a-264b-4a49-dcf4-dc90204f0089",
        "execution": {
          "iopub.status.busy": "2023-10-19T06:48:20.162093Z",
          "iopub.execute_input": "2023-10-19T06:48:20.162470Z",
          "iopub.status.idle": "2023-10-19T06:48:30.031732Z",
          "shell.execute_reply.started": "2023-10-19T06:48:20.162428Z",
          "shell.execute_reply": "2023-10-19T06:48:30.030966Z"
        },
        "trusted": true
      },
      "execution_count": null,
      "outputs": [
        {
          "output_type": "stream",
          "name": "stdout",
          "text": [
            "Collecting pyspark\n",
            "  Downloading pyspark-3.5.0.tar.gz (316.9 MB)\n",
            "\u001b[2K     \u001b[90m━━━━━━━━━━━━━━━━━━━━━━━━━━━━━━━━━━━━━━━━\u001b[0m \u001b[32m316.9/316.9 MB\u001b[0m \u001b[31m3.6 MB/s\u001b[0m eta \u001b[36m0:00:00\u001b[0m\n",
            "\u001b[?25h  Preparing metadata (setup.py) ... \u001b[?25l\u001b[?25hdone\n",
            "Requirement already satisfied: py4j==0.10.9.7 in /usr/local/lib/python3.10/dist-packages (from pyspark) (0.10.9.7)\n",
            "Building wheels for collected packages: pyspark\n",
            "  Building wheel for pyspark (setup.py) ... \u001b[?25l\u001b[?25hdone\n",
            "  Created wheel for pyspark: filename=pyspark-3.5.0-py2.py3-none-any.whl size=317425344 sha256=63c77a1204777068e2fa26bbc79985205ea9b95ac5812aac8e708549e7a676a4\n",
            "  Stored in directory: /root/.cache/pip/wheels/41/4e/10/c2cf2467f71c678cfc8a6b9ac9241e5e44a01940da8fbb17fc\n",
            "Successfully built pyspark\n",
            "Installing collected packages: pyspark\n",
            "Successfully installed pyspark-3.5.0\n"
          ]
        }
      ]
    },
    {
      "cell_type": "markdown",
      "source": [
        "# Setup SparkSesion.\n",
        "\n",
        "---\n",
        "\n",
        "\n",
        "\n",
        "---\n",
        "\n"
      ],
      "metadata": {
        "id": "lyKwCSMwNTYZ"
      }
    },
    {
      "cell_type": "code",
      "source": [
        "spark = SparkSession.builder.appName('Recommended System').getOrCreate()"
      ],
      "metadata": {
        "id": "pAreG0xD69LV",
        "execution": {
          "iopub.status.busy": "2023-10-18T14:19:45.808639Z",
          "iopub.execute_input": "2023-10-18T14:19:45.808868Z",
          "iopub.status.idle": "2023-10-18T14:19:45.813881Z",
          "shell.execute_reply.started": "2023-10-18T14:19:45.808829Z",
          "shell.execute_reply": "2023-10-18T14:19:45.813049Z"
        },
        "trusted": true
      },
      "execution_count": null,
      "outputs": []
    },
    {
      "cell_type": "markdown",
      "source": [
        "# Import and Read Dataset.\n",
        "\n",
        "---\n",
        "\n",
        "\n",
        "\n",
        "---\n",
        "\n"
      ],
      "metadata": {
        "id": "Ghc99P-5NXiJ"
      }
    },
    {
      "cell_type": "code",
      "source": [
        "from google.colab import drive\n",
        "drive.mount('/content/drive')"
      ],
      "metadata": {
        "colab": {
          "base_uri": "https://localhost:8080/"
        },
        "id": "7A_URrISG6Yf",
        "outputId": "297dfcbd-9d66-47e0-de84-3dfde56328ca"
      },
      "execution_count": null,
      "outputs": [
        {
          "output_type": "stream",
          "name": "stdout",
          "text": [
            "Mounted at /content/drive\n"
          ]
        }
      ]
    },
    {
      "cell_type": "markdown",
      "source": [
        "## Genome Scores Dataset.\n",
        "\n",
        "---\n",
        "\n"
      ],
      "metadata": {
        "id": "ZmlvGGHyNeRZ"
      }
    },
    {
      "cell_type": "code",
      "source": [
        "%%time\n",
        "df_genome_scores = spark.read.option('header', 'true').csv('/content/drive/MyDrive/MovieLens Dataset/genome-scores.csv')\n",
        "df_genome_scores.show()"
      ],
      "metadata": {
        "id": "QTEGKJB77a01",
        "execution": {
          "iopub.status.busy": "2023-10-18T14:19:45.814922Z",
          "iopub.execute_input": "2023-10-18T14:19:45.815133Z",
          "iopub.status.idle": "2023-10-18T14:19:45.827566Z",
          "shell.execute_reply.started": "2023-10-18T14:19:45.815115Z",
          "shell.execute_reply": "2023-10-18T14:19:45.826658Z"
        },
        "trusted": true,
        "colab": {
          "base_uri": "https://localhost:8080/"
        },
        "outputId": "3fa30210-51fe-45a8-8099-1f436531bd57"
      },
      "execution_count": null,
      "outputs": [
        {
          "output_type": "stream",
          "name": "stdout",
          "text": [
            "+-------+-----+--------------------+\n",
            "|movieId|tagId|           relevance|\n",
            "+-------+-----+--------------------+\n",
            "|      1|    1|0.028749999999999998|\n",
            "|      1|    2|0.023749999999999993|\n",
            "|      1|    3|              0.0625|\n",
            "|      1|    4| 0.07574999999999998|\n",
            "|      1|    5|             0.14075|\n",
            "|      1|    6|             0.14675|\n",
            "|      1|    7|              0.0635|\n",
            "|      1|    8|             0.20375|\n",
            "|      1|    9|               0.202|\n",
            "|      1|   10|             0.03075|\n",
            "|      1|   11|             0.58025|\n",
            "|      1|   12| 0.10249999999999998|\n",
            "|      1|   13| 0.20174999999999998|\n",
            "|      1|   14|0.007000000000000006|\n",
            "|      1|   15|0.024500000000000022|\n",
            "|      1|   16| 0.17275000000000001|\n",
            "|      1|   17|0.016500000000000015|\n",
            "|      1|   18| 0.10399999999999998|\n",
            "|      1|   19|              0.6625|\n",
            "|      1|   20| 0.30074999999999996|\n",
            "+-------+-----+--------------------+\n",
            "only showing top 20 rows\n",
            "\n",
            "CPU times: user 76.9 ms, sys: 17.8 ms, total: 94.7 ms\n",
            "Wall time: 15.4 s\n"
          ]
        }
      ]
    },
    {
      "cell_type": "code",
      "source": [
        "print(f\"Genome Scores Data Shape : {(df_genome_scores.count(), len(df_genome_scores.columns))}\")"
      ],
      "metadata": {
        "id": "rz2nnMJb8HjR",
        "execution": {
          "iopub.status.busy": "2023-10-18T14:19:45.830071Z",
          "iopub.execute_input": "2023-10-18T14:19:45.830285Z",
          "iopub.status.idle": "2023-10-18T14:19:45.841410Z",
          "shell.execute_reply.started": "2023-10-18T14:19:45.830266Z",
          "shell.execute_reply": "2023-10-18T14:19:45.840633Z"
        },
        "trusted": true,
        "colab": {
          "base_uri": "https://localhost:8080/"
        },
        "outputId": "9d1f4834-cde1-48f4-b4b8-5349d93b2e60"
      },
      "execution_count": null,
      "outputs": [
        {
          "output_type": "stream",
          "name": "stdout",
          "text": [
            "Genome Scores Data Shape : (15584448, 3)\n"
          ]
        }
      ]
    },
    {
      "cell_type": "markdown",
      "source": [
        "## Genome Tags Dataset.\n",
        "\n",
        "---\n",
        "\n"
      ],
      "metadata": {
        "id": "W8Nj9CKQO3v5"
      }
    },
    {
      "cell_type": "code",
      "source": [
        "%%time\n",
        "df_genome_tags = spark.read.option('header', 'true').csv('/content/drive/MyDrive/MovieLens Dataset/genome-tags.csv')\n",
        "df_genome_tags.show()"
      ],
      "metadata": {
        "id": "PWY4IrN38QvC",
        "execution": {
          "iopub.status.busy": "2023-10-18T14:19:45.842305Z",
          "iopub.execute_input": "2023-10-18T14:19:45.842534Z",
          "iopub.status.idle": "2023-10-18T14:19:45.853773Z",
          "shell.execute_reply.started": "2023-10-18T14:19:45.842503Z",
          "shell.execute_reply": "2023-10-18T14:19:45.853043Z"
        },
        "trusted": true,
        "colab": {
          "base_uri": "https://localhost:8080/"
        },
        "outputId": "65413760-5d2f-44ef-d7c4-b24910be3d07"
      },
      "execution_count": null,
      "outputs": [
        {
          "output_type": "stream",
          "name": "stdout",
          "text": [
            "+-----+---------------+\n",
            "|tagId|            tag|\n",
            "+-----+---------------+\n",
            "|    1|            007|\n",
            "|    2|   007 (series)|\n",
            "|    3|   18th century|\n",
            "|    4|          1920s|\n",
            "|    5|          1930s|\n",
            "|    6|          1950s|\n",
            "|    7|          1960s|\n",
            "|    8|          1970s|\n",
            "|    9|          1980s|\n",
            "|   10|   19th century|\n",
            "|   11|             3d|\n",
            "|   12|           70mm|\n",
            "|   13|            80s|\n",
            "|   14|           9/11|\n",
            "|   15|        aardman|\n",
            "|   16|aardman studios|\n",
            "|   17|       abortion|\n",
            "|   18|         absurd|\n",
            "|   19|         action|\n",
            "|   20|  action packed|\n",
            "+-----+---------------+\n",
            "only showing top 20 rows\n",
            "\n",
            "CPU times: user 12.7 ms, sys: 149 µs, total: 12.8 ms\n",
            "Wall time: 1.39 s\n"
          ]
        }
      ]
    },
    {
      "cell_type": "code",
      "source": [
        "print(f\"Genome Tags Data Shape : {(df_genome_tags.count(), len(df_genome_tags.columns))}\")"
      ],
      "metadata": {
        "id": "GBMZeUm98xf7",
        "execution": {
          "iopub.status.busy": "2023-10-18T14:19:45.854619Z",
          "iopub.execute_input": "2023-10-18T14:19:45.854811Z",
          "iopub.status.idle": "2023-10-18T14:19:45.866311Z",
          "shell.execute_reply.started": "2023-10-18T14:19:45.854794Z",
          "shell.execute_reply": "2023-10-18T14:19:45.865643Z"
        },
        "trusted": true,
        "colab": {
          "base_uri": "https://localhost:8080/"
        },
        "outputId": "9ca3040d-2910-4ee5-b8bc-ab04122c2eb8"
      },
      "execution_count": null,
      "outputs": [
        {
          "output_type": "stream",
          "name": "stdout",
          "text": [
            "Genome Tags Data Shape : (1128, 2)\n"
          ]
        }
      ]
    },
    {
      "cell_type": "markdown",
      "source": [
        "## Links Dataset.\n",
        "\n",
        "---\n",
        "\n"
      ],
      "metadata": {
        "id": "R6rWaKrlPbah"
      }
    },
    {
      "cell_type": "code",
      "source": [
        "%%time\n",
        "df_links = spark.read.option('header', 'true').csv('/content/drive/MyDrive/MovieLens Dataset/links.csv')\n",
        "df_links.show()"
      ],
      "metadata": {
        "id": "SCJWBuvwPjC5",
        "execution": {
          "iopub.status.busy": "2023-10-18T14:19:45.867412Z",
          "iopub.execute_input": "2023-10-18T14:19:45.868234Z",
          "iopub.status.idle": "2023-10-18T14:19:45.879714Z",
          "shell.execute_reply.started": "2023-10-18T14:19:45.868213Z",
          "shell.execute_reply": "2023-10-18T14:19:45.879000Z"
        },
        "trusted": true,
        "colab": {
          "base_uri": "https://localhost:8080/"
        },
        "outputId": "d3b311a7-c17a-4e86-d040-c575552a11f6"
      },
      "execution_count": null,
      "outputs": [
        {
          "output_type": "stream",
          "name": "stdout",
          "text": [
            "+-------+-------+------+\n",
            "|movieId| imdbId|tmdbId|\n",
            "+-------+-------+------+\n",
            "|      1|0114709|   862|\n",
            "|      2|0113497|  8844|\n",
            "|      3|0113228| 15602|\n",
            "|      4|0114885| 31357|\n",
            "|      5|0113041| 11862|\n",
            "|      6|0113277|   949|\n",
            "|      7|0114319| 11860|\n",
            "|      8|0112302| 45325|\n",
            "|      9|0114576|  9091|\n",
            "|     10|0113189|   710|\n",
            "|     11|0112346|  9087|\n",
            "|     12|0112896| 12110|\n",
            "|     13|0112453| 21032|\n",
            "|     14|0113987| 10858|\n",
            "|     15|0112760|  1408|\n",
            "|     16|0112641|   524|\n",
            "|     17|0114388|  4584|\n",
            "|     18|0113101|     5|\n",
            "|     19|0112281|  9273|\n",
            "|     20|0113845| 11517|\n",
            "+-------+-------+------+\n",
            "only showing top 20 rows\n",
            "\n",
            "CPU times: user 11.9 ms, sys: 342 µs, total: 12.2 ms\n",
            "Wall time: 1.57 s\n"
          ]
        }
      ]
    },
    {
      "cell_type": "code",
      "source": [
        "print(f\"Links Data Shape : {(df_links.count(), len(df_links.columns))}\")"
      ],
      "metadata": {
        "id": "bYsx_5I_XwTB",
        "execution": {
          "iopub.status.busy": "2023-10-18T14:19:45.882287Z",
          "iopub.execute_input": "2023-10-18T14:19:45.882547Z",
          "iopub.status.idle": "2023-10-18T14:19:45.892478Z",
          "shell.execute_reply.started": "2023-10-18T14:19:45.882517Z",
          "shell.execute_reply": "2023-10-18T14:19:45.891859Z"
        },
        "trusted": true,
        "colab": {
          "base_uri": "https://localhost:8080/"
        },
        "outputId": "c316a1ec-5c74-4a82-c419-9da1bfc1aa57"
      },
      "execution_count": null,
      "outputs": [
        {
          "output_type": "stream",
          "name": "stdout",
          "text": [
            "Links Data Shape : (62423, 3)\n"
          ]
        }
      ]
    },
    {
      "cell_type": "markdown",
      "source": [
        "## Movies Dataset.\n",
        "\n",
        "---\n",
        "\n"
      ],
      "metadata": {
        "id": "WQOCE58CYex4"
      }
    },
    {
      "cell_type": "code",
      "source": [
        "%%time\n",
        "df_movies = spark.read.option('header', 'true').csv('/content/drive/MyDrive/MovieLens Dataset/movies.csv')\n",
        "df_movies.show()"
      ],
      "metadata": {
        "id": "dwirK5_ZYX7h",
        "execution": {
          "iopub.status.busy": "2023-10-18T14:19:45.893359Z",
          "iopub.execute_input": "2023-10-18T14:19:45.893972Z",
          "iopub.status.idle": "2023-10-18T14:19:45.905103Z",
          "shell.execute_reply.started": "2023-10-18T14:19:45.893952Z",
          "shell.execute_reply": "2023-10-18T14:19:45.904353Z"
        },
        "trusted": true,
        "colab": {
          "base_uri": "https://localhost:8080/"
        },
        "outputId": "2bc63cc1-47f6-4840-c9b1-df812ba5cce4"
      },
      "execution_count": null,
      "outputs": [
        {
          "output_type": "stream",
          "name": "stdout",
          "text": [
            "+-------+--------------------+--------------------+\n",
            "|movieId|               title|              genres|\n",
            "+-------+--------------------+--------------------+\n",
            "|      1|    Toy Story (1995)|Adventure|Animati...|\n",
            "|      2|      Jumanji (1995)|Adventure|Childre...|\n",
            "|      3|Grumpier Old Men ...|      Comedy|Romance|\n",
            "|      4|Waiting to Exhale...|Comedy|Drama|Romance|\n",
            "|      5|Father of the Bri...|              Comedy|\n",
            "|      6|         Heat (1995)|Action|Crime|Thri...|\n",
            "|      7|      Sabrina (1995)|      Comedy|Romance|\n",
            "|      8| Tom and Huck (1995)|  Adventure|Children|\n",
            "|      9| Sudden Death (1995)|              Action|\n",
            "|     10|    GoldenEye (1995)|Action|Adventure|...|\n",
            "|     11|American Presiden...|Comedy|Drama|Romance|\n",
            "|     12|Dracula: Dead and...|       Comedy|Horror|\n",
            "|     13|        Balto (1995)|Adventure|Animati...|\n",
            "|     14|        Nixon (1995)|               Drama|\n",
            "|     15|Cutthroat Island ...|Action|Adventure|...|\n",
            "|     16|       Casino (1995)|         Crime|Drama|\n",
            "|     17|Sense and Sensibi...|       Drama|Romance|\n",
            "|     18|   Four Rooms (1995)|              Comedy|\n",
            "|     19|Ace Ventura: When...|              Comedy|\n",
            "|     20|  Money Train (1995)|Action|Comedy|Cri...|\n",
            "+-------+--------------------+--------------------+\n",
            "only showing top 20 rows\n",
            "\n",
            "CPU times: user 8.37 ms, sys: 2.43 ms, total: 10.8 ms\n",
            "Wall time: 1.44 s\n"
          ]
        }
      ]
    },
    {
      "cell_type": "code",
      "source": [
        "print(f\"Movies Data Shape : {(df_movies.count(), len(df_movies.columns))}\")"
      ],
      "metadata": {
        "id": "UXZHm8VUYsAD",
        "execution": {
          "iopub.status.busy": "2023-10-18T14:19:45.906031Z",
          "iopub.execute_input": "2023-10-18T14:19:45.906233Z",
          "iopub.status.idle": "2023-10-18T14:19:45.922050Z",
          "shell.execute_reply.started": "2023-10-18T14:19:45.906216Z",
          "shell.execute_reply": "2023-10-18T14:19:45.921235Z"
        },
        "trusted": true,
        "colab": {
          "base_uri": "https://localhost:8080/"
        },
        "outputId": "b1ba6ee9-e8f8-4af3-8ae0-8b954d72197b"
      },
      "execution_count": null,
      "outputs": [
        {
          "output_type": "stream",
          "name": "stdout",
          "text": [
            "Movies Data Shape : (62423, 3)\n"
          ]
        }
      ]
    },
    {
      "cell_type": "markdown",
      "source": [
        "## Ratings Dataset.\n",
        "\n",
        "---\n",
        "\n"
      ],
      "metadata": {
        "id": "IoaDRSOnY4Rk"
      }
    },
    {
      "cell_type": "code",
      "source": [
        "%%time\n",
        "df_ratings = spark.read.option('header', 'true').csv('/content/drive/MyDrive/MovieLens Dataset/ratings.csv')\n",
        "df_ratings.show()"
      ],
      "metadata": {
        "id": "S8uO0_VgY1W0",
        "execution": {
          "iopub.status.busy": "2023-10-18T14:19:45.922897Z",
          "iopub.execute_input": "2023-10-18T14:19:45.923091Z",
          "iopub.status.idle": "2023-10-18T14:19:45.934090Z",
          "shell.execute_reply.started": "2023-10-18T14:19:45.923074Z",
          "shell.execute_reply": "2023-10-18T14:19:45.933355Z"
        },
        "trusted": true,
        "colab": {
          "base_uri": "https://localhost:8080/"
        },
        "outputId": "8130f290-3bf9-4d2b-c655-0ac2e6a724a9"
      },
      "execution_count": null,
      "outputs": [
        {
          "output_type": "stream",
          "name": "stdout",
          "text": [
            "+------+-------+------+----------+\n",
            "|userId|movieId|rating| timestamp|\n",
            "+------+-------+------+----------+\n",
            "|     1|    296|   5.0|1147880044|\n",
            "|     1|    306|   3.5|1147868817|\n",
            "|     1|    307|   5.0|1147868828|\n",
            "|     1|    665|   5.0|1147878820|\n",
            "|     1|    899|   3.5|1147868510|\n",
            "|     1|   1088|   4.0|1147868495|\n",
            "|     1|   1175|   3.5|1147868826|\n",
            "|     1|   1217|   3.5|1147878326|\n",
            "|     1|   1237|   5.0|1147868839|\n",
            "|     1|   1250|   4.0|1147868414|\n",
            "|     1|   1260|   3.5|1147877857|\n",
            "|     1|   1653|   4.0|1147868097|\n",
            "|     1|   2011|   2.5|1147868079|\n",
            "|     1|   2012|   2.5|1147868068|\n",
            "|     1|   2068|   2.5|1147869044|\n",
            "|     1|   2161|   3.5|1147868609|\n",
            "|     1|   2351|   4.5|1147877957|\n",
            "|     1|   2573|   4.0|1147878923|\n",
            "|     1|   2632|   5.0|1147878248|\n",
            "|     1|   2692|   5.0|1147869100|\n",
            "+------+-------+------+----------+\n",
            "only showing top 20 rows\n",
            "\n",
            "CPU times: user 15.4 ms, sys: 0 ns, total: 15.4 ms\n",
            "Wall time: 1.53 s\n"
          ]
        }
      ]
    },
    {
      "cell_type": "code",
      "source": [
        "print(f\"Ratings Data Shape : {(df_ratings.count(), len(df_ratings.columns))}\")"
      ],
      "metadata": {
        "id": "M-L9SNOiZFEO",
        "execution": {
          "iopub.status.busy": "2023-10-18T14:19:45.934896Z",
          "iopub.execute_input": "2023-10-18T14:19:45.935091Z",
          "iopub.status.idle": "2023-10-18T14:19:45.947375Z",
          "shell.execute_reply.started": "2023-10-18T14:19:45.935075Z",
          "shell.execute_reply": "2023-10-18T14:19:45.946614Z"
        },
        "trusted": true,
        "colab": {
          "base_uri": "https://localhost:8080/"
        },
        "outputId": "09188cbf-69c9-4a18-8946-ebc28b9ebd3f"
      },
      "execution_count": null,
      "outputs": [
        {
          "output_type": "stream",
          "name": "stdout",
          "text": [
            "Ratings Data Shape : (25000095, 4)\n"
          ]
        }
      ]
    },
    {
      "cell_type": "markdown",
      "source": [
        "## Tags Dataset.\n",
        "\n",
        "---\n",
        "\n"
      ],
      "metadata": {
        "id": "SF__cWlEZbX9"
      }
    },
    {
      "cell_type": "code",
      "source": [
        "%%time\n",
        "df_tags = spark.read.option('header', 'true').csv('/content/drive/MyDrive/MovieLens Dataset/tags.csv')\n",
        "df_tags.show()"
      ],
      "metadata": {
        "id": "fxZjZI-tZPzM",
        "execution": {
          "iopub.status.busy": "2023-10-18T14:19:45.948333Z",
          "iopub.execute_input": "2023-10-18T14:19:45.948539Z",
          "iopub.status.idle": "2023-10-18T14:19:45.959609Z",
          "shell.execute_reply.started": "2023-10-18T14:19:45.948522Z",
          "shell.execute_reply": "2023-10-18T14:19:45.958894Z"
        },
        "trusted": true,
        "colab": {
          "base_uri": "https://localhost:8080/"
        },
        "outputId": "d3a68f86-f537-4fe3-abbf-f4c69da5c278"
      },
      "execution_count": null,
      "outputs": [
        {
          "output_type": "stream",
          "name": "stdout",
          "text": [
            "+------+-------+--------------------+----------+\n",
            "|userId|movieId|                 tag| timestamp|\n",
            "+------+-------+--------------------+----------+\n",
            "|     3|    260|             classic|1439472355|\n",
            "|     3|    260|              sci-fi|1439472256|\n",
            "|     4|   1732|         dark comedy|1573943598|\n",
            "|     4|   1732|      great dialogue|1573943604|\n",
            "|     4|   7569|    so bad it's good|1573943455|\n",
            "|     4|  44665|unreliable narrators|1573943619|\n",
            "|     4| 115569|               tense|1573943077|\n",
            "|     4| 115713|artificial intell...|1573942979|\n",
            "|     4| 115713|       philosophical|1573943033|\n",
            "|     4| 115713|               tense|1573943042|\n",
            "|     4| 148426|    so bad it's good|1573942965|\n",
            "|     4| 164909|              cliche|1573943721|\n",
            "|     4| 164909|             musical|1573943714|\n",
            "|     4| 168250|              horror|1573945163|\n",
            "|     4| 168250|       unpredictable|1573945171|\n",
            "|    19|   2160|Oscar (Best Suppo...|1446909853|\n",
            "|    19|   7099|           adventure|1445286141|\n",
            "|    19|   7099|               anime|1445286127|\n",
            "|    19|   7099|             ecology|1445286153|\n",
            "|    19|   7099|             fantasy|1445286144|\n",
            "+------+-------+--------------------+----------+\n",
            "only showing top 20 rows\n",
            "\n",
            "CPU times: user 9.36 ms, sys: 429 µs, total: 9.79 ms\n",
            "Wall time: 1.13 s\n"
          ]
        }
      ]
    },
    {
      "cell_type": "code",
      "source": [
        "print(f\"Tags Data Shape : {(df_tags.count(), len(df_tags.columns))}\")"
      ],
      "metadata": {
        "id": "0BvF10WrZjx9",
        "execution": {
          "iopub.status.busy": "2023-10-18T14:19:45.960636Z",
          "iopub.execute_input": "2023-10-18T14:19:45.961027Z",
          "iopub.status.idle": "2023-10-18T14:19:45.972656Z",
          "shell.execute_reply.started": "2023-10-18T14:19:45.961006Z",
          "shell.execute_reply": "2023-10-18T14:19:45.971892Z"
        },
        "trusted": true,
        "colab": {
          "base_uri": "https://localhost:8080/"
        },
        "outputId": "cf605a2e-85b9-4ce8-f399-5ed8d45ea45f"
      },
      "execution_count": null,
      "outputs": [
        {
          "output_type": "stream",
          "name": "stdout",
          "text": [
            "Tags Data Shape : (1093360, 4)\n"
          ]
        }
      ]
    },
    {
      "cell_type": "markdown",
      "source": [
        "# Exploratory Data Analysis(EDA).\n",
        "\n",
        "---\n",
        "\n",
        "\n",
        "\n",
        "---\n",
        "\n"
      ],
      "metadata": {
        "id": "4HJJl-EKy5pX"
      }
    },
    {
      "cell_type": "markdown",
      "source": [
        "## Genome Scores Dataset.\n",
        "\n",
        "---\n",
        "\n"
      ],
      "metadata": {
        "id": "N9puCgll4WEk"
      }
    },
    {
      "cell_type": "markdown",
      "source": [
        "### Data Types and Columns."
      ],
      "metadata": {
        "id": "xKdsJrvM82eU"
      }
    },
    {
      "cell_type": "code",
      "source": [
        "df_genome_scores.printSchema()"
      ],
      "metadata": {
        "id": "PVMUBxR44b2R",
        "execution": {
          "iopub.status.busy": "2023-10-18T14:19:45.973685Z",
          "iopub.execute_input": "2023-10-18T14:19:45.974145Z",
          "iopub.status.idle": "2023-10-18T14:19:45.986397Z",
          "shell.execute_reply.started": "2023-10-18T14:19:45.974124Z",
          "shell.execute_reply": "2023-10-18T14:19:45.985586Z"
        },
        "trusted": true,
        "colab": {
          "base_uri": "https://localhost:8080/"
        },
        "outputId": "126d55d9-b58b-41f5-fd44-9344dbd68601"
      },
      "execution_count": null,
      "outputs": [
        {
          "output_type": "stream",
          "name": "stdout",
          "text": [
            "root\n",
            " |-- movieId: string (nullable = true)\n",
            " |-- tagId: string (nullable = true)\n",
            " |-- relevance: string (nullable = true)\n",
            "\n"
          ]
        }
      ]
    },
    {
      "cell_type": "markdown",
      "source": [
        "### Change Datatype Of Relevance Feature To Interger."
      ],
      "metadata": {
        "id": "Mxt-KxL59KcL"
      }
    },
    {
      "cell_type": "code",
      "source": [
        "df_genome_scores = df_genome_scores.withColumn(\"relevance\", df_genome_scores[\"relevance\"].cast('float'))\n",
        "df_genome_scores.printSchema()"
      ],
      "metadata": {
        "id": "Ioa6wJ1e9Jh8",
        "execution": {
          "iopub.status.busy": "2023-10-18T14:19:45.987564Z",
          "iopub.execute_input": "2023-10-18T14:19:45.988028Z",
          "iopub.status.idle": "2023-10-18T14:19:45.999233Z",
          "shell.execute_reply.started": "2023-10-18T14:19:45.988007Z",
          "shell.execute_reply": "2023-10-18T14:19:45.998400Z"
        },
        "trusted": true,
        "colab": {
          "base_uri": "https://localhost:8080/"
        },
        "outputId": "ca1afd61-aa18-4925-972f-892a9431ba2e"
      },
      "execution_count": null,
      "outputs": [
        {
          "output_type": "stream",
          "name": "stdout",
          "text": [
            "root\n",
            " |-- movieId: string (nullable = true)\n",
            " |-- tagId: string (nullable = true)\n",
            " |-- relevance: float (nullable = true)\n",
            "\n"
          ]
        }
      ]
    },
    {
      "cell_type": "markdown",
      "source": [
        "### Histogram Of Avarage Relevance Respect To Movie Id."
      ],
      "metadata": {
        "id": "AayVL2gr-X6F"
      }
    },
    {
      "cell_type": "code",
      "source": [
        "# Group by on movieId respect to relevance.\n",
        "relevance_rating = df_genome_scores.groupBy('movieId').mean('relevance')\n",
        "relevance_rating.show()"
      ],
      "metadata": {
        "id": "XaA8jop2-Uyk",
        "execution": {
          "iopub.status.busy": "2023-10-18T14:19:46.000321Z",
          "iopub.execute_input": "2023-10-18T14:19:46.000786Z",
          "iopub.status.idle": "2023-10-18T14:19:46.011649Z",
          "shell.execute_reply.started": "2023-10-18T14:19:46.000766Z",
          "shell.execute_reply": "2023-10-18T14:19:46.010991Z"
        },
        "trusted": true,
        "colab": {
          "base_uri": "https://localhost:8080/"
        },
        "outputId": "268089d3-f744-4f5e-8b89-8ea7511ceb88"
      },
      "execution_count": null,
      "outputs": [
        {
          "output_type": "stream",
          "name": "stdout",
          "text": [
            "+-------+-------------------+\n",
            "|movieId|     avg(relevance)|\n",
            "+-------+-------------------+\n",
            "|    296|0.20342331544676934|\n",
            "|    467|0.08196032801556322|\n",
            "|    691|0.08993971624666766|\n",
            "|    829|0.08501817372706817|\n",
            "|   1090|0.19710239373805524|\n",
            "|   1436|0.09218860813819041|\n",
            "|   1572|0.10893262399132247|\n",
            "|   2069| 0.1157535461629229|\n",
            "|   2088|0.09713408693461514|\n",
            "|   2136|0.11364162240403619|\n",
            "|   2162|0.08546343092795904|\n",
            "|   2294|0.11833333351330647|\n",
            "|   2904|0.09500709212660056|\n",
            "|   3210|0.15985505313757833|\n",
            "|   3414|0.09584264191679148|\n",
            "|   3606|0.12563430862224673|\n",
            "|   3959|0.15059286358841392|\n",
            "|   4032|0.09761391837684048|\n",
            "|   4821|0.10422340435605885|\n",
            "|    125|0.12320057627272707|\n",
            "+-------+-------------------+\n",
            "only showing top 20 rows\n",
            "\n"
          ]
        }
      ]
    },
    {
      "cell_type": "code",
      "source": [
        "# Converting spark dataframe to pandas dataframe.\n",
        "%time\n",
        "relevance_rating = relevance_rating.toPandas()\n",
        "sns.histplot(data = relevance_rating, x = 'avg(relevance)')\n",
        "plt.title('Bar Diagram of Rating')\n",
        "plt.xlabel('Avarage relevance')\n",
        "plt.show()"
      ],
      "metadata": {
        "id": "SaDMgC9yBlq8",
        "execution": {
          "iopub.status.busy": "2023-10-18T14:19:46.024945Z",
          "iopub.execute_input": "2023-10-18T14:19:46.025358Z",
          "iopub.status.idle": "2023-10-18T14:19:46.037227Z",
          "shell.execute_reply.started": "2023-10-18T14:19:46.025337Z",
          "shell.execute_reply": "2023-10-18T14:19:46.036489Z"
        },
        "trusted": true,
        "colab": {
          "base_uri": "https://localhost:8080/",
          "height": 507
        },
        "outputId": "7e86c545-2537-4110-99f6-285a21f5d503"
      },
      "execution_count": null,
      "outputs": [
        {
          "output_type": "stream",
          "name": "stdout",
          "text": [
            "CPU times: user 3 µs, sys: 0 ns, total: 3 µs\n",
            "Wall time: 8.34 µs\n"
          ]
        },
        {
          "output_type": "display_data",
          "data": {
            "text/plain": [
              "<Figure size 640x480 with 1 Axes>"
            ],
            "image/png": "[encoded data removed]"
          },
          "metadata": {}
        }
      ]
    },
    {
      "cell_type": "markdown",
      "source": [
        "## Rating Dataset.\n",
        "\n",
        "---\n",
        "\n"
      ],
      "metadata": {
        "id": "0u2Gp4b_58Lx"
      }
    },
    {
      "cell_type": "markdown",
      "source": [
        "### Find Max and Min Value."
      ],
      "metadata": {
        "id": "ouyNoJLuO5Gp"
      }
    },
    {
      "cell_type": "code",
      "source": [
        "%%time\n",
        "max_rating = df_ratings.agg({'rating' : 'max'}).collect()[0][0]\n",
        "min_rating = df_ratings.agg({'rating' : 'min'}).collect()[0][0]"
      ],
      "metadata": {
        "id": "q10uVvqFZ0Hk",
        "execution": {
          "iopub.status.busy": "2023-10-18T14:19:46.038209Z",
          "iopub.execute_input": "2023-10-18T14:19:46.038624Z",
          "iopub.status.idle": "2023-10-18T14:19:46.050282Z",
          "shell.execute_reply.started": "2023-10-18T14:19:46.038605Z",
          "shell.execute_reply": "2023-10-18T14:19:46.049414Z"
        },
        "trusted": true,
        "colab": {
          "base_uri": "https://localhost:8080/"
        },
        "outputId": "0db2ae6c-d9e1-4842-e25d-7dfabd0b859d"
      },
      "execution_count": null,
      "outputs": [
        {
          "output_type": "stream",
          "name": "stdout",
          "text": [
            "CPU times: user 544 ms, sys: 59 ms, total: 603 ms\n",
            "Wall time: 1min 46s\n"
          ]
        }
      ]
    },
    {
      "cell_type": "code",
      "source": [
        "print(f\"The Max Rating : {max_rating}\")\n",
        "print(f\"The Min Rating : {min_rating}\")"
      ],
      "metadata": {
        "id": "cfAKjveY72Ku",
        "execution": {
          "iopub.status.busy": "2023-10-18T14:19:46.051138Z",
          "iopub.execute_input": "2023-10-18T14:19:46.051362Z",
          "iopub.status.idle": "2023-10-18T14:19:46.061497Z",
          "shell.execute_reply.started": "2023-10-18T14:19:46.051344Z",
          "shell.execute_reply": "2023-10-18T14:19:46.060597Z"
        },
        "trusted": true,
        "colab": {
          "base_uri": "https://localhost:8080/"
        },
        "outputId": "fa7b66bf-1e40-41c1-b700-836e105f840e"
      },
      "execution_count": null,
      "outputs": [
        {
          "output_type": "stream",
          "name": "stdout",
          "text": [
            "The Max Rating : 5.0\n",
            "The Min Rating : 0.5\n"
          ]
        }
      ]
    },
    {
      "cell_type": "markdown",
      "source": [
        "### Groupby Upon Rating Column."
      ],
      "metadata": {
        "id": "KqkKz6GmPB5y"
      }
    },
    {
      "cell_type": "code",
      "source": [
        "Rating_Count  = df_ratings.groupBy(df_ratings.rating).count()\n",
        "Rating_Count.show()"
      ],
      "metadata": {
        "id": "tUYYbwPL-ZGJ",
        "execution": {
          "iopub.status.busy": "2023-10-18T14:19:46.062660Z",
          "iopub.execute_input": "2023-10-18T14:19:46.063168Z",
          "iopub.status.idle": "2023-10-18T14:19:46.073443Z",
          "shell.execute_reply.started": "2023-10-18T14:19:46.063145Z",
          "shell.execute_reply": "2023-10-18T14:19:46.072648Z"
        },
        "trusted": true,
        "colab": {
          "base_uri": "https://localhost:8080/"
        },
        "outputId": "9eca68a6-76ba-4c4c-b66c-cdc6239cee3c"
      },
      "execution_count": null,
      "outputs": [
        {
          "output_type": "stream",
          "name": "stdout",
          "text": [
            "+------+-------+\n",
            "|rating|  count|\n",
            "+------+-------+\n",
            "|   1.0| 776815|\n",
            "|   4.5|2200539|\n",
            "|   2.5|1262797|\n",
            "|   3.5|3177318|\n",
            "|   5.0|3612474|\n",
            "|   0.5| 393068|\n",
            "|   4.0|6639798|\n",
            "|   1.5| 399490|\n",
            "|   2.0|1640868|\n",
            "|   3.0|4896928|\n",
            "+------+-------+\n",
            "\n"
          ]
        }
      ]
    },
    {
      "cell_type": "code",
      "source": [
        "Rating_As_Pandas = Rating_Count.toPandas()"
      ],
      "metadata": {
        "id": "gYykZzp4MH3Y",
        "execution": {
          "iopub.status.busy": "2023-10-18T14:19:46.074266Z",
          "iopub.execute_input": "2023-10-18T14:19:46.074474Z",
          "iopub.status.idle": "2023-10-18T14:19:46.085321Z",
          "shell.execute_reply.started": "2023-10-18T14:19:46.074456Z",
          "shell.execute_reply": "2023-10-18T14:19:46.084481Z"
        },
        "trusted": true
      },
      "execution_count": null,
      "outputs": []
    },
    {
      "cell_type": "markdown",
      "source": [
        "### Bar plot of Rating Dataset.\n",
        "\n"
      ],
      "metadata": {
        "id": "iRvu35L4bxbx"
      }
    },
    {
      "cell_type": "code",
      "source": [
        "sns.barplot(data = Rating_As_Pandas, x = 'rating', y = 'count')\n",
        "plt.title('Bar Diagram of Rating')\n",
        "plt.xlabel('Rating')\n",
        "plt.ylabel('Count')\n",
        "plt.show()"
      ],
      "metadata": {
        "id": "fsLmqQDkN_mo",
        "execution": {
          "iopub.status.busy": "2023-10-18T14:19:46.086262Z",
          "iopub.execute_input": "2023-10-18T14:19:46.086535Z",
          "iopub.status.idle": "2023-10-18T14:19:46.097503Z",
          "shell.execute_reply.started": "2023-10-18T14:19:46.086514Z",
          "shell.execute_reply": "2023-10-18T14:19:46.096892Z"
        },
        "trusted": true,
        "colab": {
          "base_uri": "https://localhost:8080/",
          "height": 472
        },
        "outputId": "d53644cc-3593-4593-ad31-d3059fa517e7"
      },
      "execution_count": null,
      "outputs": [
        {
          "output_type": "display_data",
          "data": {
            "text/plain": [
              "<Figure size 640x480 with 1 Axes>"
            ],
            "image/png": "[encoded data removed]"
          },
          "metadata": {}
        }
      ]
    },
    {
      "cell_type": "markdown",
      "source": [
        "### Histogram of Avarage Rating Respect To MovieId Dataset."
      ],
      "metadata": {
        "id": "zdihN6fcb4tR"
      }
    },
    {
      "cell_type": "code",
      "source": [
        "df_ratings = df_ratings.withColumn(\"rating\", df_ratings[\"rating\"].cast('float'))"
      ],
      "metadata": {
        "id": "5gwZbG1qczCy",
        "execution": {
          "iopub.status.busy": "2023-10-18T14:19:46.098611Z",
          "iopub.execute_input": "2023-10-18T14:19:46.098876Z",
          "iopub.status.idle": "2023-10-18T14:19:46.114056Z",
          "shell.execute_reply.started": "2023-10-18T14:19:46.098856Z",
          "shell.execute_reply": "2023-10-18T14:19:46.113226Z"
        },
        "trusted": true
      },
      "execution_count": null,
      "outputs": []
    },
    {
      "cell_type": "code",
      "source": [
        "Groupby_respect_to_rating = df_ratings.groupBy('movieId').mean('rating')\n",
        "Groupby_respect_to_rating.show()"
      ],
      "metadata": {
        "id": "zrS5lu5PW9LO",
        "execution": {
          "iopub.status.busy": "2023-10-18T14:19:46.119552Z",
          "iopub.execute_input": "2023-10-18T14:19:46.119752Z",
          "iopub.status.idle": "2023-10-18T14:19:46.127071Z",
          "shell.execute_reply.started": "2023-10-18T14:19:46.119736Z",
          "shell.execute_reply": "2023-10-18T14:19:46.126078Z"
        },
        "trusted": true,
        "colab": {
          "base_uri": "https://localhost:8080/"
        },
        "outputId": "c2231b8b-353d-416c-97f8-42639f385f11"
      },
      "execution_count": null,
      "outputs": [
        {
          "output_type": "stream",
          "name": "stdout",
          "text": [
            "+-------+------------------+\n",
            "|movieId|       avg(rating)|\n",
            "+-------+------------------+\n",
            "|    296| 4.188912039361382|\n",
            "|   2294|  3.23630794550608|\n",
            "|  48738|3.8409684723915696|\n",
            "|  88140| 3.515557328470481|\n",
            "| 115713|  3.96935522435642|\n",
            "|   1090|3.9036080019052157|\n",
            "|   3210|3.6631319358816277|\n",
            "|   3959|3.6956912028725313|\n",
            "|  27317|             3.605|\n",
            "|  50802|2.9479166666666665|\n",
            "|   2069|3.7973760932944605|\n",
            "|   2136| 2.855124340617935|\n",
            "|  89864|3.7292743436014058|\n",
            "|    675|2.1538461538461537|\n",
            "|  62912|2.5106382978723403|\n",
            "| 119655| 2.797169811320755|\n",
            "|   2088|2.5539083557951483|\n",
            "|    691|3.0554054054054056|\n",
            "|   5325|  3.71356783919598|\n",
            "|   4821|3.1892829606784887|\n",
            "+-------+------------------+\n",
            "only showing top 20 rows\n",
            "\n"
          ]
        }
      ]
    },
    {
      "cell_type": "code",
      "source": [
        "Groupby_respect_to_rating = Groupby_respect_to_rating.toPandas()"
      ],
      "metadata": {
        "id": "_O1zAolq1f-6",
        "execution": {
          "iopub.status.busy": "2023-10-18T14:19:46.128119Z",
          "iopub.execute_input": "2023-10-18T14:19:46.128559Z",
          "iopub.status.idle": "2023-10-18T14:19:46.138138Z",
          "shell.execute_reply.started": "2023-10-18T14:19:46.128531Z",
          "shell.execute_reply": "2023-10-18T14:19:46.137312Z"
        },
        "trusted": true
      },
      "execution_count": null,
      "outputs": []
    },
    {
      "cell_type": "code",
      "source": [
        "sns.histplot(data = Groupby_respect_to_rating, x = \"avg(rating)\")\n",
        "plt.xlabel('Avarage Rating')\n",
        "plt.ylabel('Count')\n",
        "plt.show()"
      ],
      "metadata": {
        "id": "veprU637YLr-",
        "execution": {
          "iopub.status.busy": "2023-10-18T14:19:46.139018Z",
          "iopub.execute_input": "2023-10-18T14:19:46.139405Z",
          "iopub.status.idle": "2023-10-18T14:19:46.150815Z",
          "shell.execute_reply.started": "2023-10-18T14:19:46.139386Z",
          "shell.execute_reply": "2023-10-18T14:19:46.150133Z"
        },
        "trusted": true,
        "colab": {
          "base_uri": "https://localhost:8080/",
          "height": 449
        },
        "outputId": "46827e70-f8a8-46a6-8790-7e96433439ce"
      },
      "execution_count": null,
      "outputs": [
        {
          "output_type": "display_data",
          "data": {
            "text/plain": [
              "<Figure size 640x480 with 1 Axes>"
            ],
            "image/png": "[encoded data removed]"
          },
          "metadata": {}
        }
      ]
    },
    {
      "cell_type": "markdown",
      "source": [
        "### Histogram of Avarage Rating Respect To UserId."
      ],
      "metadata": {
        "id": "XEMhSsiCEzsP"
      }
    },
    {
      "cell_type": "code",
      "source": [
        "Groupby_respect_to_userid = df_ratings.groupBy('userId').mean('rating')\n",
        "Groupby_respect_to_userid.show()"
      ],
      "metadata": {
        "id": "hPW1qYwcZWMF",
        "execution": {
          "iopub.status.busy": "2023-10-18T14:19:46.151666Z",
          "iopub.execute_input": "2023-10-18T14:19:46.151920Z",
          "iopub.status.idle": "2023-10-18T14:19:46.162489Z",
          "shell.execute_reply.started": "2023-10-18T14:19:46.151894Z",
          "shell.execute_reply": "2023-10-18T14:19:46.161802Z"
        },
        "trusted": true,
        "colab": {
          "base_uri": "https://localhost:8080/"
        },
        "outputId": "9afb5dc9-c049-4e55-9f9e-9901b0c36dfa"
      },
      "execution_count": null,
      "outputs": [
        {
          "output_type": "stream",
          "name": "stdout",
          "text": [
            "+------+------------------+\n",
            "|userId|       avg(rating)|\n",
            "+------+------------------+\n",
            "|   296|2.8762886597938144|\n",
            "|   467|             3.425|\n",
            "|   675|3.8255813953488373|\n",
            "|   691| 4.333333333333333|\n",
            "|   829| 2.942857142857143|\n",
            "|  1090| 4.148148148148148|\n",
            "|  1159|3.7471264367816093|\n",
            "|  1436| 3.485148514851485|\n",
            "|  1512| 4.390243902439025|\n",
            "|  1572|3.8369565217391304|\n",
            "|  2069|3.1373390557939915|\n",
            "|  2088|               3.8|\n",
            "|  2136|              4.65|\n",
            "|  2162| 4.517241379310345|\n",
            "|  2294|             3.388|\n",
            "|  2904|              3.75|\n",
            "|  3210|3.3333333333333335|\n",
            "|  3414|3.6809210526315788|\n",
            "|  3606|3.1702127659574466|\n",
            "|  3959| 2.734982332155477|\n",
            "+------+------------------+\n",
            "only showing top 20 rows\n",
            "\n"
          ]
        }
      ]
    },
    {
      "cell_type": "code",
      "source": [
        "Groupby_respect_to_userid = Groupby_respect_to_userid.toPandas()"
      ],
      "metadata": {
        "id": "V1Frc5VXHZvZ",
        "execution": {
          "iopub.status.busy": "2023-10-18T14:19:46.163467Z",
          "iopub.execute_input": "2023-10-18T14:19:46.163903Z",
          "iopub.status.idle": "2023-10-18T14:19:46.175014Z",
          "shell.execute_reply.started": "2023-10-18T14:19:46.163869Z",
          "shell.execute_reply": "2023-10-18T14:19:46.174217Z"
        },
        "trusted": true
      },
      "execution_count": null,
      "outputs": []
    },
    {
      "cell_type": "code",
      "source": [
        "Groupby_respect_to_userid['avg(rating)'].plot(kind = 'hist')\n",
        "plt.show()"
      ],
      "metadata": {
        "id": "-o6Hn7Nl7Fxw",
        "execution": {
          "iopub.status.busy": "2023-10-18T14:19:46.176067Z",
          "iopub.execute_input": "2023-10-18T14:19:46.176579Z",
          "iopub.status.idle": "2023-10-18T14:19:46.186817Z",
          "shell.execute_reply.started": "2023-10-18T14:19:46.176557Z",
          "shell.execute_reply": "2023-10-18T14:19:46.185901Z"
        },
        "trusted": true,
        "colab": {
          "base_uri": "https://localhost:8080/",
          "height": 430
        },
        "outputId": "b9b5a1cb-fddd-4386-ff03-0db2d0f294ea"
      },
      "execution_count": null,
      "outputs": [
        {
          "output_type": "display_data",
          "data": {
            "text/plain": [
              "<Figure size 640x480 with 1 Axes>"
            ],
            "image/png": "[encoded data removed]"
          },
          "metadata": {}
        }
      ]
    },
    {
      "cell_type": "markdown",
      "source": [
        "## Movie Dataset\n",
        "\n",
        "---\n",
        "\n"
      ],
      "metadata": {
        "id": "2br4VnUZSRep"
      }
    },
    {
      "cell_type": "markdown",
      "source": [
        "### Common genre movies."
      ],
      "metadata": {
        "id": "va0LW-zdsB-y"
      }
    },
    {
      "cell_type": "code",
      "source": [
        "df_movies.printSchema()"
      ],
      "metadata": {
        "id": "VIjVxnMzzovf",
        "execution": {
          "iopub.status.busy": "2023-10-18T14:19:46.187816Z",
          "iopub.execute_input": "2023-10-18T14:19:46.188288Z",
          "iopub.status.idle": "2023-10-18T14:19:46.198407Z",
          "shell.execute_reply.started": "2023-10-18T14:19:46.188267Z",
          "shell.execute_reply": "2023-10-18T14:19:46.197659Z"
        },
        "trusted": true,
        "colab": {
          "base_uri": "https://localhost:8080/"
        },
        "outputId": "f7541d5b-39a4-4956-f64f-deee14049843"
      },
      "execution_count": null,
      "outputs": [
        {
          "output_type": "stream",
          "name": "stdout",
          "text": [
            "root\n",
            " |-- movieId: string (nullable = true)\n",
            " |-- title: string (nullable = true)\n",
            " |-- genres: string (nullable = true)\n",
            "\n"
          ]
        }
      ]
    },
    {
      "cell_type": "code",
      "source": [
        "movies_df = df_movies.toPandas()"
      ],
      "metadata": {
        "id": "SauB7ugQmxQZ",
        "execution": {
          "iopub.status.busy": "2023-10-18T14:19:46.199268Z",
          "iopub.execute_input": "2023-10-18T14:19:46.199506Z",
          "iopub.status.idle": "2023-10-18T14:19:46.210525Z",
          "shell.execute_reply.started": "2023-10-18T14:19:46.199488Z",
          "shell.execute_reply": "2023-10-18T14:19:46.209709Z"
        },
        "trusted": true
      },
      "execution_count": null,
      "outputs": []
    },
    {
      "cell_type": "code",
      "source": [
        "Genres_df = df_movies.withColumn(\"genre\", split(df_movies[\"genres\"], \"\\|\"))\n",
        "genres = Genres_df.select(f.split(Genres_df['genres'], '\\|')).collect()\n",
        "hashset = set()\n",
        "for row in genres:\n",
        "  for ele in row[0]:\n",
        "    hashset.add(ele)\n",
        "# hashset.remove(' We\\'re Comin\\' To Get Ya!\"\" (2014)\"')\n",
        "print(hashset)\n",
        "print(len(hashset))"
      ],
      "metadata": {
        "id": "rozgPBxy-72Y",
        "execution": {
          "iopub.status.busy": "2023-10-18T14:19:46.212883Z",
          "iopub.execute_input": "2023-10-18T14:19:46.213095Z",
          "iopub.status.idle": "2023-10-18T14:19:46.223460Z",
          "shell.execute_reply.started": "2023-10-18T14:19:46.213077Z",
          "shell.execute_reply": "2023-10-18T14:19:46.222753Z"
        },
        "trusted": true,
        "colab": {
          "base_uri": "https://localhost:8080/"
        },
        "outputId": "13cd8979-b351-45f6-8089-908645d3193f"
      },
      "execution_count": null,
      "outputs": [
        {
          "output_type": "stream",
          "name": "stdout",
          "text": [
            "{'Children', 'Crime', 'Action', 'Documentary', 'Western', 'Horror', 'Adventure', 'Fantasy', 'Thriller', 'Mystery', '(no genres listed)', 'Musical', 'Comedy', 'Sci-Fi', 'Drama', 'Romance', 'IMAX', 'Animation', 'Film-Noir', 'War'}\n",
            "20\n"
          ]
        }
      ]
    },
    {
      "cell_type": "code",
      "source": [
        "Genres_df.show()"
      ],
      "metadata": {
        "id": "1ba4_q5RXhZU",
        "execution": {
          "iopub.status.busy": "2023-10-18T14:19:46.224242Z",
          "iopub.execute_input": "2023-10-18T14:19:46.224924Z",
          "iopub.status.idle": "2023-10-18T14:19:46.234165Z",
          "shell.execute_reply.started": "2023-10-18T14:19:46.224890Z",
          "shell.execute_reply": "2023-10-18T14:19:46.233335Z"
        },
        "trusted": true,
        "colab": {
          "base_uri": "https://localhost:8080/"
        },
        "outputId": "fd135edf-b183-4749-9f78-4eb988ab613a"
      },
      "execution_count": null,
      "outputs": [
        {
          "output_type": "stream",
          "name": "stdout",
          "text": [
            "+-------+--------------------+--------------------+--------------------+\n",
            "|movieId|               title|              genres|               genre|\n",
            "+-------+--------------------+--------------------+--------------------+\n",
            "|      1|    Toy Story (1995)|Adventure|Animati...|[Adventure, Anima...|\n",
            "|      2|      Jumanji (1995)|Adventure|Childre...|[Adventure, Child...|\n",
            "|      3|Grumpier Old Men ...|      Comedy|Romance|   [Comedy, Romance]|\n",
            "|      4|Waiting to Exhale...|Comedy|Drama|Romance|[Comedy, Drama, R...|\n",
            "|      5|Father of the Bri...|              Comedy|            [Comedy]|\n",
            "|      6|         Heat (1995)|Action|Crime|Thri...|[Action, Crime, T...|\n",
            "|      7|      Sabrina (1995)|      Comedy|Romance|   [Comedy, Romance]|\n",
            "|      8| Tom and Huck (1995)|  Adventure|Children|[Adventure, Child...|\n",
            "|      9| Sudden Death (1995)|              Action|            [Action]|\n",
            "|     10|    GoldenEye (1995)|Action|Adventure|...|[Action, Adventur...|\n",
            "|     11|American Presiden...|Comedy|Drama|Romance|[Comedy, Drama, R...|\n",
            "|     12|Dracula: Dead and...|       Comedy|Horror|    [Comedy, Horror]|\n",
            "|     13|        Balto (1995)|Adventure|Animati...|[Adventure, Anima...|\n",
            "|     14|        Nixon (1995)|               Drama|             [Drama]|\n",
            "|     15|Cutthroat Island ...|Action|Adventure|...|[Action, Adventur...|\n",
            "|     16|       Casino (1995)|         Crime|Drama|      [Crime, Drama]|\n",
            "|     17|Sense and Sensibi...|       Drama|Romance|    [Drama, Romance]|\n",
            "|     18|   Four Rooms (1995)|              Comedy|            [Comedy]|\n",
            "|     19|Ace Ventura: When...|              Comedy|            [Comedy]|\n",
            "|     20|  Money Train (1995)|Action|Comedy|Cri...|[Action, Comedy, ...|\n",
            "+-------+--------------------+--------------------+--------------------+\n",
            "only showing top 20 rows\n",
            "\n"
          ]
        }
      ]
    },
    {
      "cell_type": "code",
      "source": [
        "df, row_i, col_i = [[0 for i in range(len(hashset))] for j in range(len(genres))], 0, 0\n",
        "for genre in hashset:\n",
        "  row_i = 0\n",
        "  for row in genres:\n",
        "      if genre in row[0]:\n",
        "        df[row_i][col_i] = 1\n",
        "      else:\n",
        "        df[row_i][col_i] = 0\n",
        "      row_i += 1\n",
        "  col_i += 1\n",
        "movieid_title = Genres_df.select(\"movieid\",\"title\", \"genre\")\n",
        "movieid_title.show()"
      ],
      "metadata": {
        "id": "m6s9lsKtFpIQ",
        "execution": {
          "iopub.status.busy": "2023-10-18T14:19:46.235106Z",
          "iopub.execute_input": "2023-10-18T14:19:46.235312Z",
          "iopub.status.idle": "2023-10-18T14:19:46.246557Z",
          "shell.execute_reply.started": "2023-10-18T14:19:46.235283Z",
          "shell.execute_reply": "2023-10-18T14:19:46.245795Z"
        },
        "trusted": true,
        "colab": {
          "base_uri": "https://localhost:8080/"
        },
        "outputId": "7dc6cba9-a24a-4d7a-c9ff-40f8e95b781c"
      },
      "execution_count": null,
      "outputs": [
        {
          "output_type": "stream",
          "name": "stdout",
          "text": [
            "+-------+--------------------+--------------------+\n",
            "|movieid|               title|               genre|\n",
            "+-------+--------------------+--------------------+\n",
            "|      1|    Toy Story (1995)|[Adventure, Anima...|\n",
            "|      2|      Jumanji (1995)|[Adventure, Child...|\n",
            "|      3|Grumpier Old Men ...|   [Comedy, Romance]|\n",
            "|      4|Waiting to Exhale...|[Comedy, Drama, R...|\n",
            "|      5|Father of the Bri...|            [Comedy]|\n",
            "|      6|         Heat (1995)|[Action, Crime, T...|\n",
            "|      7|      Sabrina (1995)|   [Comedy, Romance]|\n",
            "|      8| Tom and Huck (1995)|[Adventure, Child...|\n",
            "|      9| Sudden Death (1995)|            [Action]|\n",
            "|     10|    GoldenEye (1995)|[Action, Adventur...|\n",
            "|     11|American Presiden...|[Comedy, Drama, R...|\n",
            "|     12|Dracula: Dead and...|    [Comedy, Horror]|\n",
            "|     13|        Balto (1995)|[Adventure, Anima...|\n",
            "|     14|        Nixon (1995)|             [Drama]|\n",
            "|     15|Cutthroat Island ...|[Action, Adventur...|\n",
            "|     16|       Casino (1995)|      [Crime, Drama]|\n",
            "|     17|Sense and Sensibi...|    [Drama, Romance]|\n",
            "|     18|   Four Rooms (1995)|            [Comedy]|\n",
            "|     19|Ace Ventura: When...|            [Comedy]|\n",
            "|     20|  Money Train (1995)|[Action, Comedy, ...|\n",
            "+-------+--------------------+--------------------+\n",
            "only showing top 20 rows\n",
            "\n"
          ]
        }
      ]
    },
    {
      "cell_type": "code",
      "source": [
        "movieid_title.count()"
      ],
      "metadata": {
        "id": "wrDTW1C5Ihn7",
        "execution": {
          "iopub.status.busy": "2023-10-18T14:19:46.248346Z",
          "iopub.execute_input": "2023-10-18T14:19:46.248672Z",
          "iopub.status.idle": "2023-10-18T14:19:46.262529Z",
          "shell.execute_reply.started": "2023-10-18T14:19:46.248654Z",
          "shell.execute_reply": "2023-10-18T14:19:46.261906Z"
        },
        "trusted": true,
        "colab": {
          "base_uri": "https://localhost:8080/"
        },
        "outputId": "9438c798-64fb-42c2-9480-113f0bc91000"
      },
      "execution_count": null,
      "outputs": [
        {
          "output_type": "execute_result",
          "data": {
            "text/plain": [
              "62423"
            ]
          },
          "metadata": {},
          "execution_count": 40
        }
      ]
    },
    {
      "cell_type": "code",
      "source": [
        "genre_df = DataFrame.from_records(df)\n",
        "genre_df = spark.createDataFrame(genre_df,schema=list(hashset))\n",
        "window_spec = Window.orderBy(\"Sci-Fi\")\n",
        "genre_df = genre_df.withColumn(\"index\", f.row_number().over(window_spec)-1)\n",
        "movieid_title = movieid_title.withColumn(\"index\", monotonically_increasing_id())\n",
        "Genre_split = movieid_title.join(genre_df, 'index')"
      ],
      "metadata": {
        "id": "AvDgw02aKoKq",
        "execution": {
          "iopub.status.busy": "2023-10-18T14:19:46.265054Z",
          "iopub.execute_input": "2023-10-18T14:19:46.265263Z",
          "iopub.status.idle": "2023-10-18T14:19:46.274121Z",
          "shell.execute_reply.started": "2023-10-18T14:19:46.265245Z",
          "shell.execute_reply": "2023-10-18T14:19:46.273253Z"
        },
        "trusted": true
      },
      "execution_count": null,
      "outputs": []
    },
    {
      "cell_type": "code",
      "source": [
        "genre_df.count()"
      ],
      "metadata": {
        "id": "T3BAJHbj4MCA",
        "execution": {
          "iopub.status.busy": "2023-10-18T14:19:46.275017Z",
          "iopub.execute_input": "2023-10-18T14:19:46.275627Z",
          "iopub.status.idle": "2023-10-18T14:19:46.285475Z",
          "shell.execute_reply.started": "2023-10-18T14:19:46.275607Z",
          "shell.execute_reply": "2023-10-18T14:19:46.284686Z"
        },
        "trusted": true,
        "colab": {
          "base_uri": "https://localhost:8080/"
        },
        "outputId": "5ec37e41-3cbc-45e3-ba06-8d8179fcd0fb"
      },
      "execution_count": null,
      "outputs": [
        {
          "output_type": "execute_result",
          "data": {
            "text/plain": [
              "62423"
            ]
          },
          "metadata": {},
          "execution_count": 42
        }
      ]
    },
    {
      "cell_type": "code",
      "source": [
        "movieid_title.show()"
      ],
      "metadata": {
        "id": "kGFb75widJN5",
        "execution": {
          "iopub.status.busy": "2023-10-18T14:19:46.286240Z",
          "iopub.execute_input": "2023-10-18T14:19:46.286649Z",
          "iopub.status.idle": "2023-10-18T14:19:46.298656Z",
          "shell.execute_reply.started": "2023-10-18T14:19:46.286627Z",
          "shell.execute_reply": "2023-10-18T14:19:46.297876Z"
        },
        "trusted": true,
        "colab": {
          "base_uri": "https://localhost:8080/"
        },
        "outputId": "16f7f144-acaf-4e1a-c4fc-2bb580bd822b"
      },
      "execution_count": null,
      "outputs": [
        {
          "output_type": "stream",
          "name": "stdout",
          "text": [
            "+-------+--------------------+--------------------+-----+\n",
            "|movieid|               title|               genre|index|\n",
            "+-------+--------------------+--------------------+-----+\n",
            "|      1|    Toy Story (1995)|[Adventure, Anima...|    0|\n",
            "|      2|      Jumanji (1995)|[Adventure, Child...|    1|\n",
            "|      3|Grumpier Old Men ...|   [Comedy, Romance]|    2|\n",
            "|      4|Waiting to Exhale...|[Comedy, Drama, R...|    3|\n",
            "|      5|Father of the Bri...|            [Comedy]|    4|\n",
            "|      6|         Heat (1995)|[Action, Crime, T...|    5|\n",
            "|      7|      Sabrina (1995)|   [Comedy, Romance]|    6|\n",
            "|      8| Tom and Huck (1995)|[Adventure, Child...|    7|\n",
            "|      9| Sudden Death (1995)|            [Action]|    8|\n",
            "|     10|    GoldenEye (1995)|[Action, Adventur...|    9|\n",
            "|     11|American Presiden...|[Comedy, Drama, R...|   10|\n",
            "|     12|Dracula: Dead and...|    [Comedy, Horror]|   11|\n",
            "|     13|        Balto (1995)|[Adventure, Anima...|   12|\n",
            "|     14|        Nixon (1995)|             [Drama]|   13|\n",
            "|     15|Cutthroat Island ...|[Action, Adventur...|   14|\n",
            "|     16|       Casino (1995)|      [Crime, Drama]|   15|\n",
            "|     17|Sense and Sensibi...|    [Drama, Romance]|   16|\n",
            "|     18|   Four Rooms (1995)|            [Comedy]|   17|\n",
            "|     19|Ace Ventura: When...|            [Comedy]|   18|\n",
            "|     20|  Money Train (1995)|[Action, Comedy, ...|   19|\n",
            "+-------+--------------------+--------------------+-----+\n",
            "only showing top 20 rows\n",
            "\n"
          ]
        }
      ]
    },
    {
      "cell_type": "code",
      "source": [
        "movieid_title.agg({'index' : 'max'}).collect()[0][0], movieid_title.agg({'index' : 'min'}).collect()[0][0]"
      ],
      "metadata": {
        "id": "YPdL8bqSjlRc",
        "execution": {
          "iopub.status.busy": "2023-10-18T14:19:46.299416Z",
          "iopub.execute_input": "2023-10-18T14:19:46.300150Z",
          "iopub.status.idle": "2023-10-18T14:19:46.310408Z",
          "shell.execute_reply.started": "2023-10-18T14:19:46.300130Z",
          "shell.execute_reply": "2023-10-18T14:19:46.309722Z"
        },
        "trusted": true,
        "colab": {
          "base_uri": "https://localhost:8080/"
        },
        "outputId": "4fffad56-47d3-4ebb-d478-576224f457e4"
      },
      "execution_count": null,
      "outputs": [
        {
          "output_type": "execute_result",
          "data": {
            "text/plain": [
              "(62422, 0)"
            ]
          },
          "metadata": {},
          "execution_count": 44
        }
      ]
    },
    {
      "cell_type": "code",
      "source": [
        "movieid_title.count()"
      ],
      "metadata": {
        "id": "snPsny5qdPqS",
        "execution": {
          "iopub.status.busy": "2023-10-18T14:19:46.311308Z",
          "iopub.execute_input": "2023-10-18T14:19:46.311913Z",
          "iopub.status.idle": "2023-10-18T14:19:46.322532Z",
          "shell.execute_reply.started": "2023-10-18T14:19:46.311893Z",
          "shell.execute_reply": "2023-10-18T14:19:46.321887Z"
        },
        "trusted": true,
        "colab": {
          "base_uri": "https://localhost:8080/"
        },
        "outputId": "c6dbefbb-aa54-447e-8cd1-b4ff66faf26e"
      },
      "execution_count": null,
      "outputs": [
        {
          "output_type": "execute_result",
          "data": {
            "text/plain": [
              "62423"
            ]
          },
          "metadata": {},
          "execution_count": 45
        }
      ]
    },
    {
      "cell_type": "code",
      "source": [
        "genre_df.show()"
      ],
      "metadata": {
        "id": "MSswsyTQVqtS",
        "execution": {
          "iopub.status.busy": "2023-10-18T14:19:46.323494Z",
          "iopub.execute_input": "2023-10-18T14:19:46.324083Z",
          "iopub.status.idle": "2023-10-18T14:19:46.335818Z",
          "shell.execute_reply.started": "2023-10-18T14:19:46.324063Z",
          "shell.execute_reply": "2023-10-18T14:19:46.335145Z"
        },
        "trusted": true,
        "colab": {
          "base_uri": "https://localhost:8080/"
        },
        "outputId": "6a8d91b9-ecc1-4649-c446-c83d8a2f5579"
      },
      "execution_count": null,
      "outputs": [
        {
          "output_type": "stream",
          "name": "stdout",
          "text": [
            "+--------+-----+------+-----------+-------+------+---------+-------+--------+-------+------------------+-------+------+------+-----+-------+----+---------+---------+---+-----+\n",
            "|Children|Crime|Action|Documentary|Western|Horror|Adventure|Fantasy|Thriller|Mystery|(no genres listed)|Musical|Comedy|Sci-Fi|Drama|Romance|IMAX|Animation|Film-Noir|War|index|\n",
            "+--------+-----+------+-----------+-------+------+---------+-------+--------+-------+------------------+-------+------+------+-----+-------+----+---------+---------+---+-----+\n",
            "|       1|    0|     0|          0|      0|     0|        1|      1|       0|      0|                 0|      0|     1|     0|    0|      0|   0|        1|        0|  0|    0|\n",
            "|       1|    0|     0|          0|      0|     0|        1|      1|       0|      0|                 0|      0|     0|     0|    0|      0|   0|        0|        0|  0|    1|\n",
            "|       0|    0|     0|          0|      0|     0|        0|      0|       0|      0|                 0|      0|     1|     0|    0|      1|   0|        0|        0|  0|    2|\n",
            "|       0|    0|     0|          0|      0|     0|        0|      0|       0|      0|                 0|      0|     1|     0|    1|      1|   0|        0|        0|  0|    3|\n",
            "|       0|    0|     0|          0|      0|     0|        0|      0|       0|      0|                 0|      0|     1|     0|    0|      0|   0|        0|        0|  0|    4|\n",
            "|       0|    1|     1|          0|      0|     0|        0|      0|       1|      0|                 0|      0|     0|     0|    0|      0|   0|        0|        0|  0|    5|\n",
            "|       0|    0|     0|          0|      0|     0|        0|      0|       0|      0|                 0|      0|     1|     0|    0|      1|   0|        0|        0|  0|    6|\n",
            "|       1|    0|     0|          0|      0|     0|        1|      0|       0|      0|                 0|      0|     0|     0|    0|      0|   0|        0|        0|  0|    7|\n",
            "|       0|    0|     1|          0|      0|     0|        0|      0|       0|      0|                 0|      0|     0|     0|    0|      0|   0|        0|        0|  0|    8|\n",
            "|       0|    0|     1|          0|      0|     0|        1|      0|       1|      0|                 0|      0|     0|     0|    0|      0|   0|        0|        0|  0|    9|\n",
            "|       0|    0|     0|          0|      0|     0|        0|      0|       0|      0|                 0|      0|     1|     0|    1|      1|   0|        0|        0|  0|   10|\n",
            "|       0|    0|     0|          0|      0|     1|        0|      0|       0|      0|                 0|      0|     1|     0|    0|      0|   0|        0|        0|  0|   11|\n",
            "|       1|    0|     0|          0|      0|     0|        1|      0|       0|      0|                 0|      0|     0|     0|    0|      0|   0|        1|        0|  0|   12|\n",
            "|       0|    0|     0|          0|      0|     0|        0|      0|       0|      0|                 0|      0|     0|     0|    1|      0|   0|        0|        0|  0|   13|\n",
            "|       0|    0|     1|          0|      0|     0|        1|      0|       0|      0|                 0|      0|     0|     0|    0|      1|   0|        0|        0|  0|   14|\n",
            "|       0|    1|     0|          0|      0|     0|        0|      0|       0|      0|                 0|      0|     0|     0|    1|      0|   0|        0|        0|  0|   15|\n",
            "|       0|    0|     0|          0|      0|     0|        0|      0|       0|      0|                 0|      0|     0|     0|    1|      1|   0|        0|        0|  0|   16|\n",
            "|       0|    0|     0|          0|      0|     0|        0|      0|       0|      0|                 0|      0|     1|     0|    0|      0|   0|        0|        0|  0|   17|\n",
            "|       0|    0|     0|          0|      0|     0|        0|      0|       0|      0|                 0|      0|     1|     0|    0|      0|   0|        0|        0|  0|   18|\n",
            "|       0|    1|     1|          0|      0|     0|        0|      0|       1|      0|                 0|      0|     1|     0|    1|      0|   0|        0|        0|  0|   19|\n",
            "+--------+-----+------+-----------+-------+------+---------+-------+--------+-------+------------------+-------+------+------+-----+-------+----+---------+---------+---+-----+\n",
            "only showing top 20 rows\n",
            "\n"
          ]
        }
      ]
    },
    {
      "cell_type": "code",
      "source": [
        "genre_df.count()"
      ],
      "metadata": {
        "id": "Svt_vz_YYiJ4",
        "execution": {
          "iopub.status.busy": "2023-10-18T14:19:46.336759Z",
          "iopub.execute_input": "2023-10-18T14:19:46.337152Z",
          "iopub.status.idle": "2023-10-18T14:19:46.347030Z",
          "shell.execute_reply.started": "2023-10-18T14:19:46.337131Z",
          "shell.execute_reply": "2023-10-18T14:19:46.346196Z"
        },
        "trusted": true,
        "colab": {
          "base_uri": "https://localhost:8080/"
        },
        "outputId": "1a62f931-7211-42e0-e77a-e1f97a5dc156"
      },
      "execution_count": null,
      "outputs": [
        {
          "output_type": "execute_result",
          "data": {
            "text/plain": [
              "62423"
            ]
          },
          "metadata": {},
          "execution_count": 47
        }
      ]
    },
    {
      "cell_type": "code",
      "source": [
        "Genre_split.show()"
      ],
      "metadata": {
        "id": "7N-tiLfidjo7",
        "execution": {
          "iopub.status.busy": "2023-10-18T14:19:46.347944Z",
          "iopub.execute_input": "2023-10-18T14:19:46.348608Z",
          "iopub.status.idle": "2023-10-18T14:19:46.357674Z",
          "shell.execute_reply.started": "2023-10-18T14:19:46.348588Z",
          "shell.execute_reply": "2023-10-18T14:19:46.357058Z"
        },
        "trusted": true,
        "colab": {
          "base_uri": "https://localhost:8080/"
        },
        "outputId": "b07e4504-813e-4f06-fc5e-7cf3924f45ff"
      },
      "execution_count": null,
      "outputs": [
        {
          "output_type": "stream",
          "name": "stdout",
          "text": [
            "+-----+-------+--------------------+--------------------+--------+-----+------+-----------+-------+------+---------+-------+--------+-------+------------------+-------+------+------+-----+-------+----+---------+---------+---+\n",
            "|index|movieid|               title|               genre|Children|Crime|Action|Documentary|Western|Horror|Adventure|Fantasy|Thriller|Mystery|(no genres listed)|Musical|Comedy|Sci-Fi|Drama|Romance|IMAX|Animation|Film-Noir|War|\n",
            "+-----+-------+--------------------+--------------------+--------+-----+------+-----------+-------+------+---------+-------+--------+-------+------------------+-------+------+------+-----+-------+----+---------+---------+---+\n",
            "|    0|      1|    Toy Story (1995)|[Adventure, Anima...|       1|    0|     0|          0|      0|     0|        1|      1|       0|      0|                 0|      0|     1|     0|    0|      0|   0|        1|        0|  0|\n",
            "|    1|      2|      Jumanji (1995)|[Adventure, Child...|       1|    0|     0|          0|      0|     0|        1|      1|       0|      0|                 0|      0|     0|     0|    0|      0|   0|        0|        0|  0|\n",
            "|    2|      3|Grumpier Old Men ...|   [Comedy, Romance]|       0|    0|     0|          0|      0|     0|        0|      0|       0|      0|                 0|      0|     1|     0|    0|      1|   0|        0|        0|  0|\n",
            "|    3|      4|Waiting to Exhale...|[Comedy, Drama, R...|       0|    0|     0|          0|      0|     0|        0|      0|       0|      0|                 0|      0|     1|     0|    1|      1|   0|        0|        0|  0|\n",
            "|    4|      5|Father of the Bri...|            [Comedy]|       0|    0|     0|          0|      0|     0|        0|      0|       0|      0|                 0|      0|     1|     0|    0|      0|   0|        0|        0|  0|\n",
            "|    5|      6|         Heat (1995)|[Action, Crime, T...|       0|    1|     1|          0|      0|     0|        0|      0|       1|      0|                 0|      0|     0|     0|    0|      0|   0|        0|        0|  0|\n",
            "|    6|      7|      Sabrina (1995)|   [Comedy, Romance]|       0|    0|     0|          0|      0|     0|        0|      0|       0|      0|                 0|      0|     1|     0|    0|      1|   0|        0|        0|  0|\n",
            "|    7|      8| Tom and Huck (1995)|[Adventure, Child...|       1|    0|     0|          0|      0|     0|        1|      0|       0|      0|                 0|      0|     0|     0|    0|      0|   0|        0|        0|  0|\n",
            "|    8|      9| Sudden Death (1995)|            [Action]|       0|    0|     1|          0|      0|     0|        0|      0|       0|      0|                 0|      0|     0|     0|    0|      0|   0|        0|        0|  0|\n",
            "|    9|     10|    GoldenEye (1995)|[Action, Adventur...|       0|    0|     1|          0|      0|     0|        1|      0|       1|      0|                 0|      0|     0|     0|    0|      0|   0|        0|        0|  0|\n",
            "|   10|     11|American Presiden...|[Comedy, Drama, R...|       0|    0|     0|          0|      0|     0|        0|      0|       0|      0|                 0|      0|     1|     0|    1|      1|   0|        0|        0|  0|\n",
            "|   11|     12|Dracula: Dead and...|    [Comedy, Horror]|       0|    0|     0|          0|      0|     1|        0|      0|       0|      0|                 0|      0|     1|     0|    0|      0|   0|        0|        0|  0|\n",
            "|   12|     13|        Balto (1995)|[Adventure, Anima...|       1|    0|     0|          0|      0|     0|        1|      0|       0|      0|                 0|      0|     0|     0|    0|      0|   0|        1|        0|  0|\n",
            "|   13|     14|        Nixon (1995)|             [Drama]|       0|    0|     0|          0|      0|     0|        0|      0|       0|      0|                 0|      0|     0|     0|    1|      0|   0|        0|        0|  0|\n",
            "|   14|     15|Cutthroat Island ...|[Action, Adventur...|       0|    0|     1|          0|      0|     0|        1|      0|       0|      0|                 0|      0|     0|     0|    0|      1|   0|        0|        0|  0|\n",
            "|   15|     16|       Casino (1995)|      [Crime, Drama]|       0|    1|     0|          0|      0|     0|        0|      0|       0|      0|                 0|      0|     0|     0|    1|      0|   0|        0|        0|  0|\n",
            "|   16|     17|Sense and Sensibi...|    [Drama, Romance]|       0|    0|     0|          0|      0|     0|        0|      0|       0|      0|                 0|      0|     0|     0|    1|      1|   0|        0|        0|  0|\n",
            "|   17|     18|   Four Rooms (1995)|            [Comedy]|       0|    0|     0|          0|      0|     0|        0|      0|       0|      0|                 0|      0|     1|     0|    0|      0|   0|        0|        0|  0|\n",
            "|   18|     19|Ace Ventura: When...|            [Comedy]|       0|    0|     0|          0|      0|     0|        0|      0|       0|      0|                 0|      0|     1|     0|    0|      0|   0|        0|        0|  0|\n",
            "|   19|     20|  Money Train (1995)|[Action, Comedy, ...|       0|    1|     1|          0|      0|     0|        0|      0|       1|      0|                 0|      0|     1|     0|    1|      0|   0|        0|        0|  0|\n",
            "+-----+-------+--------------------+--------------------+--------+-----+------+-----------+-------+------+---------+-------+--------+-------+------------------+-------+------+------+-----+-------+----+---------+---------+---+\n",
            "only showing top 20 rows\n",
            "\n"
          ]
        }
      ]
    },
    {
      "cell_type": "code",
      "source": [
        "Genre_split.count()"
      ],
      "metadata": {
        "id": "AKzp0rSldmll",
        "execution": {
          "iopub.status.busy": "2023-10-18T14:19:46.358766Z",
          "iopub.execute_input": "2023-10-18T14:19:46.359210Z",
          "iopub.status.idle": "2023-10-18T14:19:46.369850Z",
          "shell.execute_reply.started": "2023-10-18T14:19:46.359190Z",
          "shell.execute_reply": "2023-10-18T14:19:46.369115Z"
        },
        "trusted": true,
        "colab": {
          "base_uri": "https://localhost:8080/"
        },
        "outputId": "ef3134a4-8b4c-4fda-9946-11f4233e20fe"
      },
      "execution_count": null,
      "outputs": [
        {
          "output_type": "execute_result",
          "data": {
            "text/plain": [
              "62423"
            ]
          },
          "metadata": {},
          "execution_count": 49
        }
      ]
    },
    {
      "cell_type": "code",
      "source": [
        "movies_exploded = Genre_split.select(\"*\", explode(\"genre\").alias(\"exploded_genre\"))\n",
        "movies_exploded.show()"
      ],
      "metadata": {
        "id": "kIuxSUfk_c_F",
        "execution": {
          "iopub.status.busy": "2023-10-18T14:19:46.370771Z",
          "iopub.execute_input": "2023-10-18T14:19:46.371226Z",
          "iopub.status.idle": "2023-10-18T14:19:46.381202Z",
          "shell.execute_reply.started": "2023-10-18T14:19:46.371206Z",
          "shell.execute_reply": "2023-10-18T14:19:46.380548Z"
        },
        "trusted": true,
        "colab": {
          "base_uri": "https://localhost:8080/"
        },
        "outputId": "72928ad7-ecb0-4c85-85bf-561c914b89b0"
      },
      "execution_count": null,
      "outputs": [
        {
          "output_type": "stream",
          "name": "stdout",
          "text": [
            "+-----+-------+--------------------+--------------------+--------+-----+------+-----------+-------+------+---------+-------+--------+-------+------------------+-------+------+------+-----+-------+----+---------+---------+---+--------------+\n",
            "|index|movieid|               title|               genre|Children|Crime|Action|Documentary|Western|Horror|Adventure|Fantasy|Thriller|Mystery|(no genres listed)|Musical|Comedy|Sci-Fi|Drama|Romance|IMAX|Animation|Film-Noir|War|exploded_genre|\n",
            "+-----+-------+--------------------+--------------------+--------+-----+------+-----------+-------+------+---------+-------+--------+-------+------------------+-------+------+------+-----+-------+----+---------+---------+---+--------------+\n",
            "|    0|      1|    Toy Story (1995)|[Adventure, Anima...|       1|    0|     0|          0|      0|     0|        1|      1|       0|      0|                 0|      0|     1|     0|    0|      0|   0|        1|        0|  0|     Adventure|\n",
            "|    0|      1|    Toy Story (1995)|[Adventure, Anima...|       1|    0|     0|          0|      0|     0|        1|      1|       0|      0|                 0|      0|     1|     0|    0|      0|   0|        1|        0|  0|     Animation|\n",
            "|    0|      1|    Toy Story (1995)|[Adventure, Anima...|       1|    0|     0|          0|      0|     0|        1|      1|       0|      0|                 0|      0|     1|     0|    0|      0|   0|        1|        0|  0|      Children|\n",
            "|    0|      1|    Toy Story (1995)|[Adventure, Anima...|       1|    0|     0|          0|      0|     0|        1|      1|       0|      0|                 0|      0|     1|     0|    0|      0|   0|        1|        0|  0|        Comedy|\n",
            "|    0|      1|    Toy Story (1995)|[Adventure, Anima...|       1|    0|     0|          0|      0|     0|        1|      1|       0|      0|                 0|      0|     1|     0|    0|      0|   0|        1|        0|  0|       Fantasy|\n",
            "|    1|      2|      Jumanji (1995)|[Adventure, Child...|       1|    0|     0|          0|      0|     0|        1|      1|       0|      0|                 0|      0|     0|     0|    0|      0|   0|        0|        0|  0|     Adventure|\n",
            "|    1|      2|      Jumanji (1995)|[Adventure, Child...|       1|    0|     0|          0|      0|     0|        1|      1|       0|      0|                 0|      0|     0|     0|    0|      0|   0|        0|        0|  0|      Children|\n",
            "|    1|      2|      Jumanji (1995)|[Adventure, Child...|       1|    0|     0|          0|      0|     0|        1|      1|       0|      0|                 0|      0|     0|     0|    0|      0|   0|        0|        0|  0|       Fantasy|\n",
            "|    2|      3|Grumpier Old Men ...|   [Comedy, Romance]|       0|    0|     0|          0|      0|     0|        0|      0|       0|      0|                 0|      0|     1|     0|    0|      1|   0|        0|        0|  0|        Comedy|\n",
            "|    2|      3|Grumpier Old Men ...|   [Comedy, Romance]|       0|    0|     0|          0|      0|     0|        0|      0|       0|      0|                 0|      0|     1|     0|    0|      1|   0|        0|        0|  0|       Romance|\n",
            "|    3|      4|Waiting to Exhale...|[Comedy, Drama, R...|       0|    0|     0|          0|      0|     0|        0|      0|       0|      0|                 0|      0|     1|     0|    1|      1|   0|        0|        0|  0|        Comedy|\n",
            "|    3|      4|Waiting to Exhale...|[Comedy, Drama, R...|       0|    0|     0|          0|      0|     0|        0|      0|       0|      0|                 0|      0|     1|     0|    1|      1|   0|        0|        0|  0|         Drama|\n",
            "|    3|      4|Waiting to Exhale...|[Comedy, Drama, R...|       0|    0|     0|          0|      0|     0|        0|      0|       0|      0|                 0|      0|     1|     0|    1|      1|   0|        0|        0|  0|       Romance|\n",
            "|    4|      5|Father of the Bri...|            [Comedy]|       0|    0|     0|          0|      0|     0|        0|      0|       0|      0|                 0|      0|     1|     0|    0|      0|   0|        0|        0|  0|        Comedy|\n",
            "|    5|      6|         Heat (1995)|[Action, Crime, T...|       0|    1|     1|          0|      0|     0|        0|      0|       1|      0|                 0|      0|     0|     0|    0|      0|   0|        0|        0|  0|        Action|\n",
            "|    5|      6|         Heat (1995)|[Action, Crime, T...|       0|    1|     1|          0|      0|     0|        0|      0|       1|      0|                 0|      0|     0|     0|    0|      0|   0|        0|        0|  0|         Crime|\n",
            "|    5|      6|         Heat (1995)|[Action, Crime, T...|       0|    1|     1|          0|      0|     0|        0|      0|       1|      0|                 0|      0|     0|     0|    0|      0|   0|        0|        0|  0|      Thriller|\n",
            "|    6|      7|      Sabrina (1995)|   [Comedy, Romance]|       0|    0|     0|          0|      0|     0|        0|      0|       0|      0|                 0|      0|     1|     0|    0|      1|   0|        0|        0|  0|        Comedy|\n",
            "|    6|      7|      Sabrina (1995)|   [Comedy, Romance]|       0|    0|     0|          0|      0|     0|        0|      0|       0|      0|                 0|      0|     1|     0|    0|      1|   0|        0|        0|  0|       Romance|\n",
            "|    7|      8| Tom and Huck (1995)|[Adventure, Child...|       1|    0|     0|          0|      0|     0|        1|      0|       0|      0|                 0|      0|     0|     0|    0|      0|   0|        0|        0|  0|     Adventure|\n",
            "+-----+-------+--------------------+--------------------+--------+-----+------+-----------+-------+------+---------+-------+--------+-------+------------------+-------+------+------+-----+-------+----+---------+---------+---+--------------+\n",
            "only showing top 20 rows\n",
            "\n"
          ]
        }
      ]
    },
    {
      "cell_type": "code",
      "source": [
        "movies_exploded = movies_exploded.drop('genre')\n",
        "movies_exploded.show()"
      ],
      "metadata": {
        "id": "ec6YFFD8A7Da",
        "execution": {
          "iopub.status.busy": "2023-10-18T14:19:46.382274Z",
          "iopub.execute_input": "2023-10-18T14:19:46.382676Z",
          "iopub.status.idle": "2023-10-18T14:19:46.394344Z",
          "shell.execute_reply.started": "2023-10-18T14:19:46.382655Z",
          "shell.execute_reply": "2023-10-18T14:19:46.393707Z"
        },
        "trusted": true,
        "colab": {
          "base_uri": "https://localhost:8080/"
        },
        "outputId": "8bd363a0-14f6-4486-ec71-ea0c7605152b"
      },
      "execution_count": null,
      "outputs": [
        {
          "output_type": "stream",
          "name": "stdout",
          "text": [
            "+-----+-------+--------------------+--------+-----+------+-----------+-------+------+---------+-------+--------+-------+------------------+-------+------+------+-----+-------+----+---------+---------+---+--------------+\n",
            "|index|movieid|               title|Children|Crime|Action|Documentary|Western|Horror|Adventure|Fantasy|Thriller|Mystery|(no genres listed)|Musical|Comedy|Sci-Fi|Drama|Romance|IMAX|Animation|Film-Noir|War|exploded_genre|\n",
            "+-----+-------+--------------------+--------+-----+------+-----------+-------+------+---------+-------+--------+-------+------------------+-------+------+------+-----+-------+----+---------+---------+---+--------------+\n",
            "|    0|      1|    Toy Story (1995)|       1|    0|     0|          0|      0|     0|        1|      1|       0|      0|                 0|      0|     1|     0|    0|      0|   0|        1|        0|  0|     Adventure|\n",
            "|    0|      1|    Toy Story (1995)|       1|    0|     0|          0|      0|     0|        1|      1|       0|      0|                 0|      0|     1|     0|    0|      0|   0|        1|        0|  0|     Animation|\n",
            "|    0|      1|    Toy Story (1995)|       1|    0|     0|          0|      0|     0|        1|      1|       0|      0|                 0|      0|     1|     0|    0|      0|   0|        1|        0|  0|      Children|\n",
            "|    0|      1|    Toy Story (1995)|       1|    0|     0|          0|      0|     0|        1|      1|       0|      0|                 0|      0|     1|     0|    0|      0|   0|        1|        0|  0|        Comedy|\n",
            "|    0|      1|    Toy Story (1995)|       1|    0|     0|          0|      0|     0|        1|      1|       0|      0|                 0|      0|     1|     0|    0|      0|   0|        1|        0|  0|       Fantasy|\n",
            "|    1|      2|      Jumanji (1995)|       1|    0|     0|          0|      0|     0|        1|      1|       0|      0|                 0|      0|     0|     0|    0|      0|   0|        0|        0|  0|     Adventure|\n",
            "|    1|      2|      Jumanji (1995)|       1|    0|     0|          0|      0|     0|        1|      1|       0|      0|                 0|      0|     0|     0|    0|      0|   0|        0|        0|  0|      Children|\n",
            "|    1|      2|      Jumanji (1995)|       1|    0|     0|          0|      0|     0|        1|      1|       0|      0|                 0|      0|     0|     0|    0|      0|   0|        0|        0|  0|       Fantasy|\n",
            "|    2|      3|Grumpier Old Men ...|       0|    0|     0|          0|      0|     0|        0|      0|       0|      0|                 0|      0|     1|     0|    0|      1|   0|        0|        0|  0|        Comedy|\n",
            "|    2|      3|Grumpier Old Men ...|       0|    0|     0|          0|      0|     0|        0|      0|       0|      0|                 0|      0|     1|     0|    0|      1|   0|        0|        0|  0|       Romance|\n",
            "|    3|      4|Waiting to Exhale...|       0|    0|     0|          0|      0|     0|        0|      0|       0|      0|                 0|      0|     1|     0|    1|      1|   0|        0|        0|  0|        Comedy|\n",
            "|    3|      4|Waiting to Exhale...|       0|    0|     0|          0|      0|     0|        0|      0|       0|      0|                 0|      0|     1|     0|    1|      1|   0|        0|        0|  0|         Drama|\n",
            "|    3|      4|Waiting to Exhale...|       0|    0|     0|          0|      0|     0|        0|      0|       0|      0|                 0|      0|     1|     0|    1|      1|   0|        0|        0|  0|       Romance|\n",
            "|    4|      5|Father of the Bri...|       0|    0|     0|          0|      0|     0|        0|      0|       0|      0|                 0|      0|     1|     0|    0|      0|   0|        0|        0|  0|        Comedy|\n",
            "|    5|      6|         Heat (1995)|       0|    1|     1|          0|      0|     0|        0|      0|       1|      0|                 0|      0|     0|     0|    0|      0|   0|        0|        0|  0|        Action|\n",
            "|    5|      6|         Heat (1995)|       0|    1|     1|          0|      0|     0|        0|      0|       1|      0|                 0|      0|     0|     0|    0|      0|   0|        0|        0|  0|         Crime|\n",
            "|    5|      6|         Heat (1995)|       0|    1|     1|          0|      0|     0|        0|      0|       1|      0|                 0|      0|     0|     0|    0|      0|   0|        0|        0|  0|      Thriller|\n",
            "|    6|      7|      Sabrina (1995)|       0|    0|     0|          0|      0|     0|        0|      0|       0|      0|                 0|      0|     1|     0|    0|      1|   0|        0|        0|  0|        Comedy|\n",
            "|    6|      7|      Sabrina (1995)|       0|    0|     0|          0|      0|     0|        0|      0|       0|      0|                 0|      0|     1|     0|    0|      1|   0|        0|        0|  0|       Romance|\n",
            "|    7|      8| Tom and Huck (1995)|       1|    0|     0|          0|      0|     0|        1|      0|       0|      0|                 0|      0|     0|     0|    0|      0|   0|        0|        0|  0|     Adventure|\n",
            "+-----+-------+--------------------+--------+-----+------+-----------+-------+------+---------+-------+--------+-------+------------------+-------+------+------+-----+-------+----+---------+---------+---+--------------+\n",
            "only showing top 20 rows\n",
            "\n"
          ]
        }
      ]
    },
    {
      "cell_type": "code",
      "source": [
        "movies_exploded = movies_exploded.filter(movies_exploded.exploded_genre != ' We\\'re Comin\\' To Get Ya!\"\" (2014)\"')\n",
        "movies_exploded.count()"
      ],
      "metadata": {
        "id": "jEp-GE6-BGPf",
        "execution": {
          "iopub.status.busy": "2023-10-18T14:19:46.395360Z",
          "iopub.execute_input": "2023-10-18T14:19:46.395703Z",
          "iopub.status.idle": "2023-10-18T14:19:46.407632Z",
          "shell.execute_reply.started": "2023-10-18T14:19:46.395684Z",
          "shell.execute_reply": "2023-10-18T14:19:46.406755Z"
        },
        "trusted": true,
        "colab": {
          "base_uri": "https://localhost:8080/"
        },
        "outputId": "61e8e6ed-52ab-4c69-a39a-f06d6788849d"
      },
      "execution_count": null,
      "outputs": [
        {
          "output_type": "execute_result",
          "data": {
            "text/plain": [
              "112307"
            ]
          },
          "metadata": {},
          "execution_count": 52
        }
      ]
    },
    {
      "cell_type": "code",
      "source": [
        "movies_exploded_groupby = movies_exploded.groupBy(movies_exploded['exploded_genre']).count()\n",
        "movies_exploded_orderby = movies_exploded_groupby.orderBy(movies_exploded_groupby[\"count\"].desc())\n",
        "movies_exploded_orderby.show()"
      ],
      "metadata": {
        "id": "xZI4GEJtBLMK",
        "execution": {
          "iopub.status.busy": "2023-10-18T14:19:46.408597Z",
          "iopub.execute_input": "2023-10-18T14:19:46.408982Z",
          "iopub.status.idle": "2023-10-18T14:19:46.419920Z",
          "shell.execute_reply.started": "2023-10-18T14:19:46.408963Z",
          "shell.execute_reply": "2023-10-18T14:19:46.419169Z"
        },
        "trusted": true,
        "colab": {
          "base_uri": "https://localhost:8080/"
        },
        "outputId": "460fafa4-4517-496c-8297-d50e720d56c4"
      },
      "execution_count": null,
      "outputs": [
        {
          "output_type": "stream",
          "name": "stdout",
          "text": [
            "+------------------+-----+\n",
            "|    exploded_genre|count|\n",
            "+------------------+-----+\n",
            "|             Drama|25606|\n",
            "|            Comedy|16870|\n",
            "|          Thriller| 8654|\n",
            "|           Romance| 7719|\n",
            "|            Action| 7348|\n",
            "|            Horror| 5989|\n",
            "|       Documentary| 5605|\n",
            "|             Crime| 5319|\n",
            "|(no genres listed)| 5062|\n",
            "|         Adventure| 4145|\n",
            "|            Sci-Fi| 3595|\n",
            "|          Children| 2935|\n",
            "|         Animation| 2929|\n",
            "|           Mystery| 2925|\n",
            "|           Fantasy| 2731|\n",
            "|               War| 1874|\n",
            "|           Western| 1399|\n",
            "|           Musical| 1054|\n",
            "|         Film-Noir|  353|\n",
            "|              IMAX|  195|\n",
            "+------------------+-----+\n",
            "\n"
          ]
        }
      ]
    },
    {
      "cell_type": "code",
      "source": [
        "movies_exploded_pandas = movies_exploded_orderby.toPandas()"
      ],
      "metadata": {
        "id": "IWvLE2JlBQee",
        "execution": {
          "iopub.status.busy": "2023-10-18T14:19:46.420914Z",
          "iopub.execute_input": "2023-10-18T14:19:46.421308Z",
          "iopub.status.idle": "2023-10-18T14:19:46.431210Z",
          "shell.execute_reply.started": "2023-10-18T14:19:46.421287Z",
          "shell.execute_reply": "2023-10-18T14:19:46.430589Z"
        },
        "trusted": true
      },
      "execution_count": null,
      "outputs": []
    },
    {
      "cell_type": "code",
      "source": [
        "plt.figure(figsize=(14,8))\n",
        "sns.barplot(data = movies_exploded_pandas, x = 'count', y = 'exploded_genre')\n",
        "plt.xlabel('Counts')\n",
        "plt.title('Total movies based on genre')\n",
        "plt.show()"
      ],
      "metadata": {
        "id": "iMJVIk9O8kaD",
        "execution": {
          "iopub.status.busy": "2023-10-18T14:19:46.432065Z",
          "iopub.execute_input": "2023-10-18T14:19:46.432381Z",
          "iopub.status.idle": "2023-10-18T14:19:46.443302Z",
          "shell.execute_reply.started": "2023-10-18T14:19:46.432363Z",
          "shell.execute_reply": "2023-10-18T14:19:46.442704Z"
        },
        "trusted": true,
        "colab": {
          "base_uri": "https://localhost:8080/",
          "height": 718
        },
        "outputId": "babadccc-e401-48fe-ee0f-de81f2485fc9"
      },
      "execution_count": null,
      "outputs": [
        {
          "output_type": "display_data",
          "data": {
            "text/plain": [
              "<Figure size 1400x800 with 1 Axes>"
            ],
            "image/png": "[encoded data removed]"
          },
          "metadata": {}
        }
      ]
    },
    {
      "cell_type": "code",
      "source": [
        "merge_df = df_ratings.select('movieid', 'rating').join(movies_exploded.select('movieid', 'exploded_genre'), on = ['movieid'])"
      ],
      "metadata": {
        "id": "CJd_oUNcFigH",
        "execution": {
          "iopub.status.busy": "2023-10-18T14:19:46.444222Z",
          "iopub.execute_input": "2023-10-18T14:19:46.444429Z",
          "iopub.status.idle": "2023-10-18T14:19:46.460384Z",
          "shell.execute_reply.started": "2023-10-18T14:19:46.444412Z",
          "shell.execute_reply": "2023-10-18T14:19:46.459636Z"
        },
        "trusted": true
      },
      "execution_count": null,
      "outputs": []
    },
    {
      "cell_type": "code",
      "source": [
        "merge_df = merge_df.groupBy('exploded_genre').mean('rating')"
      ],
      "metadata": {
        "id": "iaJupQyJGVYF",
        "execution": {
          "iopub.status.busy": "2023-10-18T14:19:46.461239Z",
          "iopub.execute_input": "2023-10-18T14:19:46.461978Z",
          "iopub.status.idle": "2023-10-18T14:19:46.472575Z",
          "shell.execute_reply.started": "2023-10-18T14:19:46.461955Z",
          "shell.execute_reply": "2023-10-18T14:19:46.471883Z"
        },
        "trusted": true
      },
      "execution_count": null,
      "outputs": []
    },
    {
      "cell_type": "code",
      "source": [
        "merge_df = merge_df.toPandas()"
      ],
      "metadata": {
        "id": "taBOVbxmHiAi",
        "execution": {
          "iopub.status.busy": "2023-10-18T14:19:46.473340Z",
          "iopub.execute_input": "2023-10-18T14:19:46.473638Z",
          "iopub.status.idle": "2023-10-18T14:19:46.484616Z",
          "shell.execute_reply.started": "2023-10-18T14:19:46.473612Z",
          "shell.execute_reply": "2023-10-18T14:19:46.483999Z"
        },
        "trusted": true
      },
      "execution_count": null,
      "outputs": []
    },
    {
      "cell_type": "code",
      "source": [
        "sns.barplot(data = merge_df, x = 'avg(rating)', y = 'exploded_genre')\n",
        "plt.xlabel('Movie genre')\n",
        "plt.ylabel('Avarage movie rating')\n",
        "plt.title('Bar diagram of avarage rating and genres')\n",
        "plt.show()"
      ],
      "metadata": {
        "id": "8fEFbHaVmZQ9",
        "execution": {
          "iopub.status.busy": "2023-10-18T14:19:46.499176Z",
          "iopub.execute_input": "2023-10-18T14:19:46.499414Z",
          "iopub.status.idle": "2023-10-18T14:19:46.509970Z",
          "shell.execute_reply.started": "2023-10-18T14:19:46.499394Z",
          "shell.execute_reply": "2023-10-18T14:19:46.509172Z"
        },
        "trusted": true,
        "colab": {
          "base_uri": "https://localhost:8080/",
          "height": 472
        },
        "outputId": "32d4b56d-2706-4b99-8d5e-935d13573810"
      },
      "execution_count": null,
      "outputs": [
        {
          "output_type": "display_data",
          "data": {
            "text/plain": [
              "<Figure size 640x480 with 1 Axes>"
            ],
            "image/png": "[encoded data removed]"
          },
          "metadata": {}
        }
      ]
    },
    {
      "cell_type": "code",
      "source": [
        "movies_df_year = df_movies.withColumn(\"year\", f.regexp_extract(df_movies[\"title\"], r'\\((\\d{4})\\)$', 1))"
      ],
      "metadata": {
        "id": "TLFHHyLkIrLP",
        "execution": {
          "iopub.status.busy": "2023-10-18T14:19:46.510961Z",
          "iopub.execute_input": "2023-10-18T14:19:46.511155Z",
          "iopub.status.idle": "2023-10-18T14:19:46.521519Z",
          "shell.execute_reply.started": "2023-10-18T14:19:46.511138Z",
          "shell.execute_reply": "2023-10-18T14:19:46.520747Z"
        },
        "trusted": true
      },
      "execution_count": null,
      "outputs": []
    },
    {
      "cell_type": "code",
      "source": [
        "movies_df_year.show()"
      ],
      "metadata": {
        "id": "REmPMOwkYu1C",
        "execution": {
          "iopub.status.busy": "2023-10-18T14:19:46.522267Z",
          "iopub.execute_input": "2023-10-18T14:19:46.522505Z",
          "iopub.status.idle": "2023-10-18T14:19:46.534079Z",
          "shell.execute_reply.started": "2023-10-18T14:19:46.522485Z",
          "shell.execute_reply": "2023-10-18T14:19:46.533434Z"
        },
        "trusted": true,
        "colab": {
          "base_uri": "https://localhost:8080/"
        },
        "outputId": "1e447560-11e5-4081-ffcc-cf9f80e6f991"
      },
      "execution_count": null,
      "outputs": [
        {
          "output_type": "stream",
          "name": "stdout",
          "text": [
            "+-------+--------------------+--------------------+----+\n",
            "|movieId|               title|              genres|year|\n",
            "+-------+--------------------+--------------------+----+\n",
            "|      1|    Toy Story (1995)|Adventure|Animati...|1995|\n",
            "|      2|      Jumanji (1995)|Adventure|Childre...|1995|\n",
            "|      3|Grumpier Old Men ...|      Comedy|Romance|1995|\n",
            "|      4|Waiting to Exhale...|Comedy|Drama|Romance|1995|\n",
            "|      5|Father of the Bri...|              Comedy|1995|\n",
            "|      6|         Heat (1995)|Action|Crime|Thri...|1995|\n",
            "|      7|      Sabrina (1995)|      Comedy|Romance|1995|\n",
            "|      8| Tom and Huck (1995)|  Adventure|Children|1995|\n",
            "|      9| Sudden Death (1995)|              Action|1995|\n",
            "|     10|    GoldenEye (1995)|Action|Adventure|...|1995|\n",
            "|     11|American Presiden...|Comedy|Drama|Romance|1995|\n",
            "|     12|Dracula: Dead and...|       Comedy|Horror|1995|\n",
            "|     13|        Balto (1995)|Adventure|Animati...|1995|\n",
            "|     14|        Nixon (1995)|               Drama|1995|\n",
            "|     15|Cutthroat Island ...|Action|Adventure|...|1995|\n",
            "|     16|       Casino (1995)|         Crime|Drama|1995|\n",
            "|     17|Sense and Sensibi...|       Drama|Romance|1995|\n",
            "|     18|   Four Rooms (1995)|              Comedy|1995|\n",
            "|     19|Ace Ventura: When...|              Comedy|1995|\n",
            "|     20|  Money Train (1995)|Action|Comedy|Cri...|1995|\n",
            "+-------+--------------------+--------------------+----+\n",
            "only showing top 20 rows\n",
            "\n"
          ]
        }
      ]
    },
    {
      "cell_type": "code",
      "source": [
        "movies_df_year.count()"
      ],
      "metadata": {
        "id": "kdlkoRjqGwn5",
        "execution": {
          "iopub.status.busy": "2023-10-18T14:19:46.535297Z",
          "iopub.execute_input": "2023-10-18T14:19:46.535627Z",
          "iopub.status.idle": "2023-10-18T14:19:46.547214Z",
          "shell.execute_reply.started": "2023-10-18T14:19:46.535608Z",
          "shell.execute_reply": "2023-10-18T14:19:46.546264Z"
        },
        "trusted": true,
        "colab": {
          "base_uri": "https://localhost:8080/"
        },
        "outputId": "7e15fe03-45e0-42b1-f56f-afc5cfcc069e"
      },
      "execution_count": null,
      "outputs": [
        {
          "output_type": "execute_result",
          "data": {
            "text/plain": [
              "62423"
            ]
          },
          "metadata": {},
          "execution_count": 62
        }
      ]
    },
    {
      "cell_type": "code",
      "source": [
        "movies_df = Genre_split.select('*').join(movies_df_year.select('movieid', 'year'), on = ['movieid'])\n",
        "movies_df.show()"
      ],
      "metadata": {
        "id": "w-OKEvExF1ST",
        "execution": {
          "iopub.status.busy": "2023-10-18T14:19:46.548073Z",
          "iopub.execute_input": "2023-10-18T14:19:46.548324Z",
          "iopub.status.idle": "2023-10-18T14:19:46.559801Z",
          "shell.execute_reply.started": "2023-10-18T14:19:46.548306Z",
          "shell.execute_reply": "2023-10-18T14:19:46.559037Z"
        },
        "trusted": true,
        "colab": {
          "base_uri": "https://localhost:8080/"
        },
        "outputId": "587711dd-a4c0-49d7-f235-0074f36ebbb3"
      },
      "execution_count": null,
      "outputs": [
        {
          "output_type": "stream",
          "name": "stdout",
          "text": [
            "+-------+-----+--------------------+--------------------+--------+-----+------+-----------+-------+------+---------+-------+--------+-------+------------------+-------+------+------+-----+-------+----+---------+---------+---+----+\n",
            "|movieid|index|               title|               genre|Children|Crime|Action|Documentary|Western|Horror|Adventure|Fantasy|Thriller|Mystery|(no genres listed)|Musical|Comedy|Sci-Fi|Drama|Romance|IMAX|Animation|Film-Noir|War|year|\n",
            "+-------+-----+--------------------+--------------------+--------+-----+------+-----------+-------+------+---------+-------+--------+-------+------------------+-------+------+------+-----+-------+----+---------+---------+---+----+\n",
            "|      1|    0|    Toy Story (1995)|[Adventure, Anima...|       1|    0|     0|          0|      0|     0|        1|      1|       0|      0|                 0|      0|     1|     0|    0|      0|   0|        1|        0|  0|1995|\n",
            "|      2|    1|      Jumanji (1995)|[Adventure, Child...|       1|    0|     0|          0|      0|     0|        1|      1|       0|      0|                 0|      0|     0|     0|    0|      0|   0|        0|        0|  0|1995|\n",
            "|      3|    2|Grumpier Old Men ...|   [Comedy, Romance]|       0|    0|     0|          0|      0|     0|        0|      0|       0|      0|                 0|      0|     1|     0|    0|      1|   0|        0|        0|  0|1995|\n",
            "|      4|    3|Waiting to Exhale...|[Comedy, Drama, R...|       0|    0|     0|          0|      0|     0|        0|      0|       0|      0|                 0|      0|     1|     0|    1|      1|   0|        0|        0|  0|1995|\n",
            "|      5|    4|Father of the Bri...|            [Comedy]|       0|    0|     0|          0|      0|     0|        0|      0|       0|      0|                 0|      0|     1|     0|    0|      0|   0|        0|        0|  0|1995|\n",
            "|      6|    5|         Heat (1995)|[Action, Crime, T...|       0|    1|     1|          0|      0|     0|        0|      0|       1|      0|                 0|      0|     0|     0|    0|      0|   0|        0|        0|  0|1995|\n",
            "|      7|    6|      Sabrina (1995)|   [Comedy, Romance]|       0|    0|     0|          0|      0|     0|        0|      0|       0|      0|                 0|      0|     1|     0|    0|      1|   0|        0|        0|  0|1995|\n",
            "|      8|    7| Tom and Huck (1995)|[Adventure, Child...|       1|    0|     0|          0|      0|     0|        1|      0|       0|      0|                 0|      0|     0|     0|    0|      0|   0|        0|        0|  0|1995|\n",
            "|      9|    8| Sudden Death (1995)|            [Action]|       0|    0|     1|          0|      0|     0|        0|      0|       0|      0|                 0|      0|     0|     0|    0|      0|   0|        0|        0|  0|1995|\n",
            "|     10|    9|    GoldenEye (1995)|[Action, Adventur...|       0|    0|     1|          0|      0|     0|        1|      0|       1|      0|                 0|      0|     0|     0|    0|      0|   0|        0|        0|  0|1995|\n",
            "|     11|   10|American Presiden...|[Comedy, Drama, R...|       0|    0|     0|          0|      0|     0|        0|      0|       0|      0|                 0|      0|     1|     0|    1|      1|   0|        0|        0|  0|1995|\n",
            "|     12|   11|Dracula: Dead and...|    [Comedy, Horror]|       0|    0|     0|          0|      0|     1|        0|      0|       0|      0|                 0|      0|     1|     0|    0|      0|   0|        0|        0|  0|1995|\n",
            "|     13|   12|        Balto (1995)|[Adventure, Anima...|       1|    0|     0|          0|      0|     0|        1|      0|       0|      0|                 0|      0|     0|     0|    0|      0|   0|        1|        0|  0|1995|\n",
            "|     14|   13|        Nixon (1995)|             [Drama]|       0|    0|     0|          0|      0|     0|        0|      0|       0|      0|                 0|      0|     0|     0|    1|      0|   0|        0|        0|  0|1995|\n",
            "|     15|   14|Cutthroat Island ...|[Action, Adventur...|       0|    0|     1|          0|      0|     0|        1|      0|       0|      0|                 0|      0|     0|     0|    0|      1|   0|        0|        0|  0|1995|\n",
            "|     16|   15|       Casino (1995)|      [Crime, Drama]|       0|    1|     0|          0|      0|     0|        0|      0|       0|      0|                 0|      0|     0|     0|    1|      0|   0|        0|        0|  0|1995|\n",
            "|     17|   16|Sense and Sensibi...|    [Drama, Romance]|       0|    0|     0|          0|      0|     0|        0|      0|       0|      0|                 0|      0|     0|     0|    1|      1|   0|        0|        0|  0|1995|\n",
            "|     18|   17|   Four Rooms (1995)|            [Comedy]|       0|    0|     0|          0|      0|     0|        0|      0|       0|      0|                 0|      0|     1|     0|    0|      0|   0|        0|        0|  0|1995|\n",
            "|     19|   18|Ace Ventura: When...|            [Comedy]|       0|    0|     0|          0|      0|     0|        0|      0|       0|      0|                 0|      0|     1|     0|    0|      0|   0|        0|        0|  0|1995|\n",
            "|     20|   19|  Money Train (1995)|[Action, Comedy, ...|       0|    1|     1|          0|      0|     0|        0|      0|       1|      0|                 0|      0|     1|     0|    1|      0|   0|        0|        0|  0|1995|\n",
            "+-------+-----+--------------------+--------------------+--------+-----+------+-----------+-------+------+---------+-------+--------+-------+------------------+-------+------+------+-----+-------+----+---------+---------+---+----+\n",
            "only showing top 20 rows\n",
            "\n"
          ]
        }
      ]
    },
    {
      "cell_type": "code",
      "source": [
        "movies_df_year = movies_df_year.groupBy(movies_df_year.year).count()\n",
        "movies_df_year = movies_df_year.orderBy(movies_df_year[\"count\"].desc())"
      ],
      "metadata": {
        "id": "q8-pQO5XYxmO",
        "execution": {
          "iopub.status.busy": "2023-10-18T14:19:46.560850Z",
          "iopub.execute_input": "2023-10-18T14:19:46.561074Z",
          "iopub.status.idle": "2023-10-18T14:19:46.573135Z",
          "shell.execute_reply.started": "2023-10-18T14:19:46.561056Z",
          "shell.execute_reply": "2023-10-18T14:19:46.572104Z"
        },
        "trusted": true
      },
      "execution_count": null,
      "outputs": []
    },
    {
      "cell_type": "code",
      "source": [
        "movie_features = movies_df\n",
        "movie_features = movie_features.withColumnRenamed(\"movieid\", \"movieId\")\n",
        "columns_to_drop = ['title', 'genre', 'index']\n",
        "movie_features = movie_features.drop(*columns_to_drop)\n",
        "movie_features.show()"
      ],
      "metadata": {
        "id": "MHaXQuRLYhw4",
        "execution": {
          "iopub.status.busy": "2023-10-18T14:19:46.599461Z",
          "iopub.execute_input": "2023-10-18T14:19:46.599700Z",
          "iopub.status.idle": "2023-10-18T14:19:46.611280Z",
          "shell.execute_reply.started": "2023-10-18T14:19:46.599679Z",
          "shell.execute_reply": "2023-10-18T14:19:46.610502Z"
        },
        "trusted": true,
        "colab": {
          "base_uri": "https://localhost:8080/"
        },
        "outputId": "34af1f96-eecd-4001-f987-a5ced97902e9"
      },
      "execution_count": null,
      "outputs": [
        {
          "output_type": "stream",
          "name": "stdout",
          "text": [
            "+-------+--------+-----+------+-----------+-------+------+---------+-------+--------+-------+------------------+-------+------+------+-----+-------+----+---------+---------+---+----+\n",
            "|movieId|Children|Crime|Action|Documentary|Western|Horror|Adventure|Fantasy|Thriller|Mystery|(no genres listed)|Musical|Comedy|Sci-Fi|Drama|Romance|IMAX|Animation|Film-Noir|War|year|\n",
            "+-------+--------+-----+------+-----------+-------+------+---------+-------+--------+-------+------------------+-------+------+------+-----+-------+----+---------+---------+---+----+\n",
            "|      1|       1|    0|     0|          0|      0|     0|        1|      1|       0|      0|                 0|      0|     1|     0|    0|      0|   0|        1|        0|  0|1995|\n",
            "|      2|       1|    0|     0|          0|      0|     0|        1|      1|       0|      0|                 0|      0|     0|     0|    0|      0|   0|        0|        0|  0|1995|\n",
            "|      3|       0|    0|     0|          0|      0|     0|        0|      0|       0|      0|                 0|      0|     1|     0|    0|      1|   0|        0|        0|  0|1995|\n",
            "|      4|       0|    0|     0|          0|      0|     0|        0|      0|       0|      0|                 0|      0|     1|     0|    1|      1|   0|        0|        0|  0|1995|\n",
            "|      5|       0|    0|     0|          0|      0|     0|        0|      0|       0|      0|                 0|      0|     1|     0|    0|      0|   0|        0|        0|  0|1995|\n",
            "|      6|       0|    1|     1|          0|      0|     0|        0|      0|       1|      0|                 0|      0|     0|     0|    0|      0|   0|        0|        0|  0|1995|\n",
            "|      7|       0|    0|     0|          0|      0|     0|        0|      0|       0|      0|                 0|      0|     1|     0|    0|      1|   0|        0|        0|  0|1995|\n",
            "|      8|       1|    0|     0|          0|      0|     0|        1|      0|       0|      0|                 0|      0|     0|     0|    0|      0|   0|        0|        0|  0|1995|\n",
            "|      9|       0|    0|     1|          0|      0|     0|        0|      0|       0|      0|                 0|      0|     0|     0|    0|      0|   0|        0|        0|  0|1995|\n",
            "|     10|       0|    0|     1|          0|      0|     0|        1|      0|       1|      0|                 0|      0|     0|     0|    0|      0|   0|        0|        0|  0|1995|\n",
            "|     11|       0|    0|     0|          0|      0|     0|        0|      0|       0|      0|                 0|      0|     1|     0|    1|      1|   0|        0|        0|  0|1995|\n",
            "|     12|       0|    0|     0|          0|      0|     1|        0|      0|       0|      0|                 0|      0|     1|     0|    0|      0|   0|        0|        0|  0|1995|\n",
            "|     13|       1|    0|     0|          0|      0|     0|        1|      0|       0|      0|                 0|      0|     0|     0|    0|      0|   0|        1|        0|  0|1995|\n",
            "|     14|       0|    0|     0|          0|      0|     0|        0|      0|       0|      0|                 0|      0|     0|     0|    1|      0|   0|        0|        0|  0|1995|\n",
            "|     15|       0|    0|     1|          0|      0|     0|        1|      0|       0|      0|                 0|      0|     0|     0|    0|      1|   0|        0|        0|  0|1995|\n",
            "|     16|       0|    1|     0|          0|      0|     0|        0|      0|       0|      0|                 0|      0|     0|     0|    1|      0|   0|        0|        0|  0|1995|\n",
            "|     17|       0|    0|     0|          0|      0|     0|        0|      0|       0|      0|                 0|      0|     0|     0|    1|      1|   0|        0|        0|  0|1995|\n",
            "|     18|       0|    0|     0|          0|      0|     0|        0|      0|       0|      0|                 0|      0|     1|     0|    0|      0|   0|        0|        0|  0|1995|\n",
            "|     19|       0|    0|     0|          0|      0|     0|        0|      0|       0|      0|                 0|      0|     1|     0|    0|      0|   0|        0|        0|  0|1995|\n",
            "|     20|       0|    1|     1|          0|      0|     0|        0|      0|       1|      0|                 0|      0|     1|     0|    1|      0|   0|        0|        0|  0|1995|\n",
            "+-------+--------+-----+------+-----------+-------+------+---------+-------+--------+-------+------------------+-------+------+------+-----+-------+----+---------+---------+---+----+\n",
            "only showing top 20 rows\n",
            "\n"
          ]
        }
      ]
    },
    {
      "cell_type": "code",
      "source": [
        "movie_features = movie_features.join(df_ratings.groupBy(\"movieId\").agg(f.avg(\"rating\").alias(\"avg_rating\")), on=\"movieId\", how=\"left\")\n",
        "cols = movie_features.columns\n",
        "cols = [cols[0], cols[-2], cols[-1]] + cols[1:-2]\n",
        "movie_features = movie_features.select(cols)\n",
        "movie_features.show()"
      ],
      "metadata": {
        "id": "G4JI60PVi9dM",
        "execution": {
          "iopub.status.busy": "2023-10-18T14:19:46.613073Z",
          "iopub.execute_input": "2023-10-18T14:19:46.613368Z",
          "iopub.status.idle": "2023-10-18T14:19:46.623205Z",
          "shell.execute_reply.started": "2023-10-18T14:19:46.613344Z",
          "shell.execute_reply": "2023-10-18T14:19:46.622165Z"
        },
        "trusted": true,
        "colab": {
          "base_uri": "https://localhost:8080/"
        },
        "outputId": "86401b6d-d862-47f1-e8d6-4dd7a32edc13"
      },
      "execution_count": null,
      "outputs": [
        {
          "output_type": "stream",
          "name": "stdout",
          "text": [
            "+-------+----+------------------+--------+-----+------+-----------+-------+------+---------+-------+--------+-------+------------------+-------+------+------+-----+-------+----+---------+---------+---+\n",
            "|movieId|year|        avg_rating|Children|Crime|Action|Documentary|Western|Horror|Adventure|Fantasy|Thriller|Mystery|(no genres listed)|Musical|Comedy|Sci-Fi|Drama|Romance|IMAX|Animation|Film-Noir|War|\n",
            "+-------+----+------------------+--------+-----+------+-----------+-------+------+---------+-------+--------+-------+------------------+-------+------+------+-----+-------+----+---------+---------+---+\n",
            "|      7|1995|3.3636663369601054|       0|    0|     0|          0|      0|     0|        0|      0|       0|      0|                 0|      0|     1|     0|    0|      1|   0|        0|        0|  0|\n",
            "|     15|1995|2.7190217391304348|       0|    0|     1|          0|      0|     0|        1|      0|       0|      0|                 0|      0|     0|     0|    0|      1|   0|        0|        0|  0|\n",
            "|     11|1995|3.6571705198920315|       0|    0|     0|          0|      0|     0|        0|      0|       0|      0|                 0|      0|     1|     0|    1|      1|   0|        0|        0|  0|\n",
            "|      3|1995| 3.142028126058963|       0|    0|     0|          0|      0|     0|        0|      0|       0|      0|                 0|      0|     1|     0|    0|      1|   0|        0|        0|  0|\n",
            "|      8|1995|3.1145833333333335|       1|    0|     0|          0|      0|     0|        1|      0|       0|      0|                 0|      0|     0|     0|    0|      0|   0|        0|        0|  0|\n",
            "|     16|1995|3.8237068028689416|       0|    1|     0|          0|      0|     0|        0|      0|       0|      0|                 0|      0|     0|     0|    1|      0|   0|        0|        0|  0|\n",
            "|      5|1995|3.0584343520573674|       0|    0|     0|          0|      0|     0|        0|      0|       0|      0|                 0|      0|     1|     0|    0|      0|   0|        0|        0|  0|\n",
            "|     18|1995|3.3843505768515074|       0|    0|     0|          0|      0|     0|        0|      0|       0|      0|                 0|      0|     1|     0|    0|      0|   0|        0|        0|  0|\n",
            "|     17|1995| 3.948806325713417|       0|    0|     0|          0|      0|     0|        0|      0|       0|      0|                 0|      0|     0|     0|    1|      1|   0|        0|        0|  0|\n",
            "|      6|1995| 3.854908898649748|       0|    1|     1|          0|      0|     0|        0|      0|       1|      0|                 0|      0|     0|     0|    0|      0|   0|        0|        0|  0|\n",
            "|     19|1995|2.6421677802524126|       0|    0|     0|          0|      0|     0|        0|      0|       0|      0|                 0|      0|     1|     0|    0|      0|   0|        0|        0|  0|\n",
            "|      9|1995| 2.992050660199407|       0|    0|     1|          0|      0|     0|        0|      0|       0|      0|                 0|      0|     0|     0|    0|      0|   0|        0|        0|  0|\n",
            "|      1|1995| 3.893707794587238|       1|    0|     0|          0|      0|     0|        1|      1|       0|      0|                 0|      0|     1|     0|    0|      0|   0|        1|        0|  0|\n",
            "|     20|1995|       2.869921875|       0|    1|     1|          0|      0|     0|        0|      0|       1|      0|                 0|      0|     1|     0|    1|      0|   0|        0|        0|  0|\n",
            "|     10|1995|  3.42145763311516|       0|    0|     1|          0|      0|     0|        1|      0|       1|      0|                 0|      0|     0|     0|    0|      0|   0|        0|        0|  0|\n",
            "|      4|1995|  2.85354736424891|       0|    0|     0|          0|      0|     0|        0|      0|       0|      0|                 0|      0|     1|     0|    1|      1|   0|        0|        0|  0|\n",
            "|     12|1995|2.6245656241646618|       0|    0|     0|          0|      0|     1|        0|      0|       0|      0|                 0|      0|     1|     0|    0|      0|   0|        0|        0|  0|\n",
            "|     13|1995| 3.333527696793003|       1|    0|     0|          0|      0|     0|        1|      0|       0|      0|                 0|      0|     0|     0|    0|      0|   0|        1|        0|  0|\n",
            "|     14|1995|3.4234888364494465|       0|    0|     0|          0|      0|     0|        0|      0|       0|      0|                 0|      0|     0|     0|    1|      0|   0|        0|        0|  0|\n",
            "|     21|1995|3.5701620505454055|       0|    1|     0|          0|      0|     0|        0|      0|       1|      0|                 0|      0|     1|     0|    0|      0|   0|        0|        0|  0|\n",
            "+-------+----+------------------+--------+-----+------+-----------+-------+------+---------+-------+--------+-------+------------------+-------+------+------+-----+-------+----+---------+---------+---+\n",
            "only showing top 20 rows\n",
            "\n"
          ]
        }
      ]
    },
    {
      "cell_type": "code",
      "source": [
        "feature_columns = movie_features.columns[1:]\n",
        "num_features = len(feature_columns)\n",
        "print(\"There are a total\", num_features, \"features for a movie.\\n\")\n",
        "print(\"Features for Movie are:\\n\\n\", feature_columns)"
      ],
      "metadata": {
        "id": "S8uyAYSvlk6T",
        "execution": {
          "iopub.status.busy": "2023-10-18T14:19:46.624648Z",
          "iopub.execute_input": "2023-10-18T14:19:46.625280Z",
          "iopub.status.idle": "2023-10-18T14:19:46.638432Z",
          "shell.execute_reply.started": "2023-10-18T14:19:46.625241Z",
          "shell.execute_reply": "2023-10-18T14:19:46.637968Z"
        },
        "trusted": true,
        "colab": {
          "base_uri": "https://localhost:8080/"
        },
        "outputId": "7aa5818a-55db-4003-e7b3-98b4d903719f"
      },
      "execution_count": null,
      "outputs": [
        {
          "output_type": "stream",
          "name": "stdout",
          "text": [
            "There are a total 22 features for a movie.\n",
            "\n",
            "Features for Movie are:\n",
            "\n",
            " ['year', 'avg_rating', 'Children', 'Crime', 'Action', 'Documentary', 'Western', 'Horror', 'Adventure', 'Fantasy', 'Thriller', 'Mystery', '(no genres listed)', 'Musical', 'Comedy', 'Sci-Fi', 'Drama', 'Romance', 'IMAX', 'Animation', 'Film-Noir', 'War']\n"
          ]
        }
      ]
    },
    {
      "cell_type": "code",
      "source": [
        "user_features = df_ratings.select(\"userId\", \"movieId\", \"rating\").join(Genres_df.select(\"movieId\", \"genres\"), on=\"movieId\", how=\"left\")\n",
        "user_features = user_features.withColumn(\"genre\", split(user_features[\"genres\"], \"\\|\"))\n",
        "user_features = user_features.select(\"userId\", \"movieId\", \"rating\", explode(user_features[\"genre\"]).alias(\"genres\"))\n",
        "user_features.show()"
      ],
      "metadata": {
        "id": "szoO2dSttAId",
        "execution": {
          "iopub.status.busy": "2023-10-18T14:19:46.665141Z",
          "iopub.execute_input": "2023-10-18T14:19:46.665415Z",
          "iopub.status.idle": "2023-10-18T14:19:46.676269Z",
          "shell.execute_reply.started": "2023-10-18T14:19:46.665395Z",
          "shell.execute_reply": "2023-10-18T14:19:46.675568Z"
        },
        "trusted": true,
        "colab": {
          "base_uri": "https://localhost:8080/"
        },
        "outputId": "9a71ec0c-742d-4243-cc1d-73c420445641"
      },
      "execution_count": null,
      "outputs": [
        {
          "output_type": "stream",
          "name": "stdout",
          "text": [
            "+------+-------+------+--------+\n",
            "|userId|movieId|rating|  genres|\n",
            "+------+-------+------+--------+\n",
            "|     1|    296|   5.0|  Comedy|\n",
            "|     1|    296|   5.0|   Crime|\n",
            "|     1|    296|   5.0|   Drama|\n",
            "|     1|    296|   5.0|Thriller|\n",
            "|     1|    306|   3.5|   Drama|\n",
            "|     1|    307|   5.0|   Drama|\n",
            "|     1|    665|   5.0|  Comedy|\n",
            "|     1|    665|   5.0|   Drama|\n",
            "|     1|    665|   5.0|     War|\n",
            "|     1|    899|   3.5|  Comedy|\n",
            "|     1|    899|   3.5| Musical|\n",
            "|     1|    899|   3.5| Romance|\n",
            "|     1|   1088|   4.0|   Drama|\n",
            "|     1|   1088|   4.0| Musical|\n",
            "|     1|   1088|   4.0| Romance|\n",
            "|     1|   1175|   3.5|  Comedy|\n",
            "|     1|   1175|   3.5|   Drama|\n",
            "|     1|   1175|   3.5| Romance|\n",
            "|     1|   1217|   3.5|   Drama|\n",
            "|     1|   1217|   3.5|     War|\n",
            "+------+-------+------+--------+\n",
            "only showing top 20 rows\n",
            "\n"
          ]
        }
      ]
    },
    {
      "cell_type": "code",
      "source": [
        "user_features = user_features.groupBy(\"userId\", \"genres\").agg(f.mean(\"rating\").alias(\"mean_rating\"))\n",
        "user_features.show()"
      ],
      "metadata": {
        "id": "7yo-LyDwt9oP",
        "execution": {
          "iopub.status.busy": "2023-10-18T14:19:46.677053Z",
          "iopub.execute_input": "2023-10-18T14:19:46.677279Z",
          "iopub.status.idle": "2023-10-18T14:19:46.687739Z",
          "shell.execute_reply.started": "2023-10-18T14:19:46.677251Z",
          "shell.execute_reply": "2023-10-18T14:19:46.686786Z"
        },
        "trusted": true,
        "colab": {
          "base_uri": "https://localhost:8080/"
        },
        "outputId": "a6d30290-05ce-4154-bce6-3696a0507f90"
      },
      "execution_count": null,
      "outputs": [
        {
          "output_type": "stream",
          "name": "stdout",
          "text": [
            "+------+---------+------------------+\n",
            "|userId|   genres|       mean_rating|\n",
            "+------+---------+------------------+\n",
            "|    33|    Drama| 4.205882352941177|\n",
            "|    47|  Western|               4.0|\n",
            "|    71|   Action|              4.25|\n",
            "|   139|  Musical|              3.25|\n",
            "|   163|      War|              3.75|\n",
            "|   164|  Fantasy|3.9285714285714284|\n",
            "|   169|  Western|              3.75|\n",
            "|   172|    Drama|           3.84375|\n",
            "|   174|  Musical|               2.5|\n",
            "|   183|    Drama|4.2105263157894735|\n",
            "|   183|      War| 4.666666666666667|\n",
            "|   184|Adventure| 3.730769230769231|\n",
            "|   202|    Drama|             3.125|\n",
            "|   205|  Fantasy|               3.0|\n",
            "|   220|  Western|               3.0|\n",
            "|   229|     IMAX| 4.333333333333333|\n",
            "|   235|   Horror|            4.6875|\n",
            "|   240|    Drama|               4.7|\n",
            "|   266|Adventure|             2.875|\n",
            "|   282|Animation| 4.910714285714286|\n",
            "+------+---------+------------------+\n",
            "only showing top 20 rows\n",
            "\n"
          ]
        }
      ]
    },
    {
      "cell_type": "code",
      "source": [
        "user_features = user_features.groupBy(\"userId\").pivot(\"genres\").agg(f.coalesce(f.mean(\"mean_rating\")))"
      ],
      "metadata": {
        "id": "Clqg7pEzve_N",
        "execution": {
          "iopub.status.busy": "2023-10-18T14:19:46.688713Z",
          "iopub.execute_input": "2023-10-18T14:19:46.689063Z",
          "iopub.status.idle": "2023-10-18T14:19:46.699087Z",
          "shell.execute_reply.started": "2023-10-18T14:19:46.689036Z",
          "shell.execute_reply": "2023-10-18T14:19:46.698251Z"
        },
        "trusted": true
      },
      "execution_count": null,
      "outputs": []
    },
    {
      "cell_type": "code",
      "source": [
        "user_features.show()"
      ],
      "metadata": {
        "id": "vVsk8syov3a0",
        "execution": {
          "iopub.status.busy": "2023-10-18T14:19:46.699993Z",
          "iopub.execute_input": "2023-10-18T14:19:46.700174Z",
          "iopub.status.idle": "2023-10-18T14:19:46.712400Z",
          "shell.execute_reply.started": "2023-10-18T14:19:46.700158Z",
          "shell.execute_reply": "2023-10-18T14:19:46.711646Z"
        },
        "trusted": true,
        "colab": {
          "base_uri": "https://localhost:8080/"
        },
        "outputId": "57ab1aec-df6a-4db2-b427-117f9d2381f4"
      },
      "execution_count": null,
      "outputs": [
        {
          "output_type": "stream",
          "name": "stdout",
          "text": [
            "+------+------------------+------------------+------------------+------------------+------------------+------------------+------------------+------------------+------------------+------------------+------------------+------------------+------------------+------------------+------------------+------------------+------------------+------------------+------------------+------------------+\n",
            "|userId|(no genres listed)|            Action|         Adventure|         Animation|          Children|            Comedy|             Crime|       Documentary|             Drama|           Fantasy|         Film-Noir|            Horror|              IMAX|           Musical|           Mystery|           Romance|            Sci-Fi|          Thriller|               War|           Western|\n",
            "+------+------------------+------------------+------------------+------------------+------------------+------------------+------------------+------------------+------------------+------------------+------------------+------------------+------------------+------------------+------------------+------------------+------------------+------------------+------------------+------------------+\n",
            "|  1572|              NULL|3.5238095238095237|              3.75|               4.0|               4.0|3.5952380952380953| 3.769230769230769|              NULL| 4.170731707317073|3.8333333333333335|              NULL|               3.2|               3.5|              4.25|3.8333333333333335|4.0344827586206895|               3.0|3.6451612903225805|3.8333333333333335|               4.6|\n",
            "|  9993|              NULL| 3.564516129032258| 3.735294117647059|              3.85|              3.85|3.6481481481481484| 3.977272727272727|               5.0| 3.962962962962963|               3.9|               4.0|             3.375|3.3333333333333335|              3.75| 4.153846153846154|3.8684210526315788|               3.3|3.5172413793103448|               4.4|              2.75|\n",
            "| 11888|              NULL| 4.035714285714286| 4.111111111111111|              NULL|              NULL| 4.545454545454546| 4.346153846153846|              NULL|4.2592592592592595|               4.5|              NULL|               4.0|3.3333333333333335|              NULL|               3.7|               4.5| 4.071428571428571| 4.107142857142857|               5.0|              NULL|\n",
            "| 14887|              NULL|              3.25|               3.5| 4.333333333333333|               4.5|             2.875|3.2857142857142856|              NULL| 4.416666666666667|               4.0|              NULL|              NULL| 4.333333333333333| 4.333333333333333|               4.0|               3.8|               4.0|3.6923076923076925| 4.666666666666667|               4.0|\n",
            "| 15574|              NULL|2.8247422680412373| 3.010752688172043|3.6551724137931036|3.5172413793103448| 3.450980392156863|              3.75|               5.0| 3.486842105263158|3.2857142857142856|               5.0|               2.7|3.0232558139534884|               3.1|               3.5|3.1578947368421053|2.6142857142857143|2.9895833333333335|3.2857142857142856|1.6666666666666667|\n",
            "| 16250|              NULL|3.6923076923076925|3.7058823529411766|           3.59375|3.5172413793103448| 3.674107142857143|             3.725|               5.0| 3.811023622047244|3.6805555555555554| 4.666666666666667| 4.166666666666667|3.5344827586206895| 4.071428571428571|3.8947368421052633|3.8732394366197185|3.6971830985915495| 3.696629213483146| 3.789473684210526|               3.8|\n",
            "| 20219|              NULL|3.4444444444444446| 3.272727272727273|               4.0|               3.5|3.3636363636363638|3.4615384615384617|              NULL|               3.5|               3.5|              NULL|               3.0|              NULL|               3.0|3.3333333333333335|3.3846153846153846|               2.5|3.3333333333333335|               3.5|              NULL|\n",
            "| 21259|              NULL|           3.28125|3.5208333333333335|3.2222222222222223|               3.1|3.0576923076923075|               3.0|2.8333333333333335|            3.4375|              3.12|               1.5|3.5714285714285716|              NULL|               4.0|2.6666666666666665|3.4285714285714284|              3.12| 3.357142857142857|              NULL|              NULL|\n",
            "| 28117|              NULL|               4.3|             4.125| 4.333333333333333|               4.0| 4.235294117647059|               4.8|              NULL|            4.3125|              4.75|              NULL|               5.0|               4.0| 4.333333333333333|               5.0|              4.25| 4.166666666666667|               4.5|               5.0|               5.0|\n",
            "| 30966|              NULL|               3.5|               3.7|             4.125|             4.125|3.7083333333333335|3.7142857142857144|              NULL| 3.888888888888889|3.6666666666666665|               4.0|               3.0|              NULL|               3.5|            3.5625|             4.125|               3.0|3.7142857142857144|              4.25|              NULL|\n",
            "|  4821|              NULL|               3.5|               3.0|              NULL|               4.0|               4.1|               4.5|              NULL|3.9210526315789473|               5.0|              NULL|               3.5|              NULL|               1.0|               4.0| 4.066666666666666|               3.0|               3.6|               4.0|               3.0|\n",
            "|  6613|              NULL|            2.5625|2.1666666666666665|               2.0|               2.0|             2.625|             3.125|              NULL|             2.625|               2.5|              NULL|               5.0|               2.0|               2.0|               4.0|               3.0|               2.4|2.8666666666666667|               3.0|               3.0|\n",
            "| 11078|              NULL| 4.282608695652174| 4.076923076923077|               4.0|              3.75|3.9444444444444446| 4.833333333333333|              NULL| 4.222222222222222|             4.375|              NULL|              4.25|              4.25|              NULL| 4.666666666666667|               4.0|            4.1875| 4.333333333333333|               3.5|               3.5|\n",
            "| 11722|              NULL|3.9130434782608696|3.8157894736842106|             3.375|            3.4375|3.5555555555555554| 3.861111111111111|              NULL| 3.732394366197183|               3.5|               4.0|               4.0| 4.055555555555555|               3.0| 4.045454545454546|              3.75|3.7142857142857144|          3.953125| 4.166666666666667|              NULL|\n",
            "| 13442|              NULL|3.3915929203539825| 3.452777777777778|3.7452830188679247| 3.241758241758242|3.3838526912181304| 3.588235294117647|3.7666666666666666|3.6200607902735564|  3.55188679245283|             3.875| 3.404109589041096|3.2857142857142856|3.5576923076923075|              3.67|  3.50709219858156| 3.442857142857143| 3.536082474226804| 3.564516129032258|3.5526315789473686|\n",
            "| 18509|              NULL|3.3421052631578947|3.2169811320754715|2.5714285714285716|               2.5|3.1973684210526314| 3.393939393939394|              NULL| 3.282608695652174| 3.263157894736842|3.6666666666666665|3.5833333333333335|              3.25|2.4166666666666665|3.6363636363636362|3.3448275862068964|3.2884615384615383|           3.46875|3.0555555555555554|               3.0|\n",
            "| 20569|              NULL| 3.727272727272727|3.6363636363636362|               5.0|               5.0|               4.0|               4.0|              NULL| 4.583333333333333|               5.0|              NULL|              NULL|               5.0|               5.0|               4.5|               5.0|               3.6|4.3076923076923075|               5.0|               4.0|\n",
            "| 24114|              NULL|               4.1|           3.71875|              NULL|               1.0|             4.125| 4.185185185185185|              NULL| 4.114583333333333|             3.625|              NULL| 4.222222222222222|             4.125|              NULL|               4.7| 4.357142857142857| 4.444444444444445| 4.153846153846154|             4.125|              NULL|\n",
            "| 28158|              NULL| 3.533333333333333|             3.375|              NULL|              NULL|               2.4|3.6363636363636362|              NULL|               4.6|              NULL|              NULL|               3.5|              NULL|              NULL|               3.8|               4.0|3.3333333333333335|3.7058823529411766|               5.0|               4.0|\n",
            "| 28426|              NULL|3.5288461538461537|3.5357142857142856|3.9210526315789473|3.7941176470588234| 3.576923076923077| 3.925531914893617|              NULL| 3.888157894736842|3.3333333333333335|               2.0| 3.909090909090909|3.8076923076923075|               4.0|3.8958333333333335|              3.75|              3.16|3.7222222222222223|             4.125|              NULL|\n",
            "+------+------------------+------------------+------------------+------------------+------------------+------------------+------------------+------------------+------------------+------------------+------------------+------------------+------------------+------------------+------------------+------------------+------------------+------------------+------------------+------------------+\n",
            "only showing top 20 rows\n",
            "\n"
          ]
        }
      ]
    },
    {
      "cell_type": "code",
      "source": [
        "user_features.count()"
      ],
      "metadata": {
        "id": "K2fz1wrb0XFH",
        "execution": {
          "iopub.status.busy": "2023-10-18T14:19:46.713575Z",
          "iopub.execute_input": "2023-10-18T14:19:46.713760Z",
          "iopub.status.idle": "2023-10-18T14:19:46.724652Z",
          "shell.execute_reply.started": "2023-10-18T14:19:46.713743Z",
          "shell.execute_reply": "2023-10-18T14:19:46.723875Z"
        },
        "trusted": true,
        "colab": {
          "base_uri": "https://localhost:8080/"
        },
        "outputId": "d76e516f-c658-46ce-8370-01aaaec9368a"
      },
      "execution_count": null,
      "outputs": [
        {
          "output_type": "execute_result",
          "data": {
            "text/plain": [
              "162541"
            ]
          },
          "metadata": {},
          "execution_count": 72
        }
      ]
    },
    {
      "cell_type": "code",
      "source": [
        "genres_list = user_features.columns[1:]\n",
        "for genre in genres_list:\n",
        "    user_features = user_features.withColumn(genre, f.coalesce(user_features[genre], f.lit(0)))\n",
        "user_features.show()"
      ],
      "metadata": {
        "id": "OyWLAHOG1lLU",
        "execution": {
          "iopub.status.busy": "2023-10-18T14:19:46.725748Z",
          "iopub.execute_input": "2023-10-18T14:19:46.725998Z",
          "iopub.status.idle": "2023-10-18T14:19:46.739066Z",
          "shell.execute_reply.started": "2023-10-18T14:19:46.725978Z",
          "shell.execute_reply": "2023-10-18T14:19:46.738160Z"
        },
        "trusted": true,
        "colab": {
          "base_uri": "https://localhost:8080/"
        },
        "outputId": "ee3878ba-5276-4347-9ef9-45af9e0971d4"
      },
      "execution_count": null,
      "outputs": [
        {
          "output_type": "stream",
          "name": "stdout",
          "text": [
            "+------+------------------+------------------+------------------+------------------+------------------+------------------+------------------+------------------+------------------+------------------+------------------+------------------+------------------+------------------+------------------+------------------+------------------+------------------+------------------+------------------+\n",
            "|userId|(no genres listed)|            Action|         Adventure|         Animation|          Children|            Comedy|             Crime|       Documentary|             Drama|           Fantasy|         Film-Noir|            Horror|              IMAX|           Musical|           Mystery|           Romance|            Sci-Fi|          Thriller|               War|           Western|\n",
            "+------+------------------+------------------+------------------+------------------+------------------+------------------+------------------+------------------+------------------+------------------+------------------+------------------+------------------+------------------+------------------+------------------+------------------+------------------+------------------+------------------+\n",
            "|  1572|               0.0|3.5238095238095237|              3.75|               4.0|               4.0|3.5952380952380953| 3.769230769230769|               0.0| 4.170731707317073|3.8333333333333335|               0.0|               3.2|               3.5|              4.25|3.8333333333333335|4.0344827586206895|               3.0|3.6451612903225805|3.8333333333333335|               4.6|\n",
            "|  9993|               0.0| 3.564516129032258| 3.735294117647059|              3.85|              3.85|3.6481481481481484| 3.977272727272727|               5.0| 3.962962962962963|               3.9|               4.0|             3.375|3.3333333333333335|              3.75| 4.153846153846154|3.8684210526315788|               3.3|3.5172413793103448|               4.4|              2.75|\n",
            "| 11888|               0.0| 4.035714285714286| 4.111111111111111|               0.0|               0.0| 4.545454545454546| 4.346153846153846|               0.0|4.2592592592592595|               4.5|               0.0|               4.0|3.3333333333333335|               0.0|               3.7|               4.5| 4.071428571428571| 4.107142857142857|               5.0|               0.0|\n",
            "| 14887|               0.0|              3.25|               3.5| 4.333333333333333|               4.5|             2.875|3.2857142857142856|               0.0| 4.416666666666667|               4.0|               0.0|               0.0| 4.333333333333333| 4.333333333333333|               4.0|               3.8|               4.0|3.6923076923076925| 4.666666666666667|               4.0|\n",
            "| 15574|               0.0|2.8247422680412373| 3.010752688172043|3.6551724137931036|3.5172413793103448| 3.450980392156863|              3.75|               5.0| 3.486842105263158|3.2857142857142856|               5.0|               2.7|3.0232558139534884|               3.1|               3.5|3.1578947368421053|2.6142857142857143|2.9895833333333335|3.2857142857142856|1.6666666666666667|\n",
            "| 16250|               0.0|3.6923076923076925|3.7058823529411766|           3.59375|3.5172413793103448| 3.674107142857143|             3.725|               5.0| 3.811023622047244|3.6805555555555554| 4.666666666666667| 4.166666666666667|3.5344827586206895| 4.071428571428571|3.8947368421052633|3.8732394366197185|3.6971830985915495| 3.696629213483146| 3.789473684210526|               3.8|\n",
            "| 20219|               0.0|3.4444444444444446| 3.272727272727273|               4.0|               3.5|3.3636363636363638|3.4615384615384617|               0.0|               3.5|               3.5|               0.0|               3.0|               0.0|               3.0|3.3333333333333335|3.3846153846153846|               2.5|3.3333333333333335|               3.5|               0.0|\n",
            "| 21259|               0.0|           3.28125|3.5208333333333335|3.2222222222222223|               3.1|3.0576923076923075|               3.0|2.8333333333333335|            3.4375|              3.12|               1.5|3.5714285714285716|               0.0|               4.0|2.6666666666666665|3.4285714285714284|              3.12| 3.357142857142857|               0.0|               0.0|\n",
            "| 28117|               0.0|               4.3|             4.125| 4.333333333333333|               4.0| 4.235294117647059|               4.8|               0.0|            4.3125|              4.75|               0.0|               5.0|               4.0| 4.333333333333333|               5.0|              4.25| 4.166666666666667|               4.5|               5.0|               5.0|\n",
            "| 30966|               0.0|               3.5|               3.7|             4.125|             4.125|3.7083333333333335|3.7142857142857144|               0.0| 3.888888888888889|3.6666666666666665|               4.0|               3.0|               0.0|               3.5|            3.5625|             4.125|               3.0|3.7142857142857144|              4.25|               0.0|\n",
            "|  4821|               0.0|               3.5|               3.0|               0.0|               4.0|               4.1|               4.5|               0.0|3.9210526315789473|               5.0|               0.0|               3.5|               0.0|               1.0|               4.0| 4.066666666666666|               3.0|               3.6|               4.0|               3.0|\n",
            "|  6613|               0.0|            2.5625|2.1666666666666665|               2.0|               2.0|             2.625|             3.125|               0.0|             2.625|               2.5|               0.0|               5.0|               2.0|               2.0|               4.0|               3.0|               2.4|2.8666666666666667|               3.0|               3.0|\n",
            "| 11078|               0.0| 4.282608695652174| 4.076923076923077|               4.0|              3.75|3.9444444444444446| 4.833333333333333|               0.0| 4.222222222222222|             4.375|               0.0|              4.25|              4.25|               0.0| 4.666666666666667|               4.0|            4.1875| 4.333333333333333|               3.5|               3.5|\n",
            "| 11722|               0.0|3.9130434782608696|3.8157894736842106|             3.375|            3.4375|3.5555555555555554| 3.861111111111111|               0.0| 3.732394366197183|               3.5|               4.0|               4.0| 4.055555555555555|               3.0| 4.045454545454546|              3.75|3.7142857142857144|          3.953125| 4.166666666666667|               0.0|\n",
            "| 13442|               0.0|3.3915929203539825| 3.452777777777778|3.7452830188679247| 3.241758241758242|3.3838526912181304| 3.588235294117647|3.7666666666666666|3.6200607902735564|  3.55188679245283|             3.875| 3.404109589041096|3.2857142857142856|3.5576923076923075|              3.67|  3.50709219858156| 3.442857142857143| 3.536082474226804| 3.564516129032258|3.5526315789473686|\n",
            "| 18509|               0.0|3.3421052631578947|3.2169811320754715|2.5714285714285716|               2.5|3.1973684210526314| 3.393939393939394|               0.0| 3.282608695652174| 3.263157894736842|3.6666666666666665|3.5833333333333335|              3.25|2.4166666666666665|3.6363636363636362|3.3448275862068964|3.2884615384615383|           3.46875|3.0555555555555554|               3.0|\n",
            "| 20569|               0.0| 3.727272727272727|3.6363636363636362|               5.0|               5.0|               4.0|               4.0|               0.0| 4.583333333333333|               5.0|               0.0|               0.0|               5.0|               5.0|               4.5|               5.0|               3.6|4.3076923076923075|               5.0|               4.0|\n",
            "| 24114|               0.0|               4.1|           3.71875|               0.0|               1.0|             4.125| 4.185185185185185|               0.0| 4.114583333333333|             3.625|               0.0| 4.222222222222222|             4.125|               0.0|               4.7| 4.357142857142857| 4.444444444444445| 4.153846153846154|             4.125|               0.0|\n",
            "| 28158|               0.0| 3.533333333333333|             3.375|               0.0|               0.0|               2.4|3.6363636363636362|               0.0|               4.6|               0.0|               0.0|               3.5|               0.0|               0.0|               3.8|               4.0|3.3333333333333335|3.7058823529411766|               5.0|               4.0|\n",
            "| 28426|               0.0|3.5288461538461537|3.5357142857142856|3.9210526315789473|3.7941176470588234| 3.576923076923077| 3.925531914893617|               0.0| 3.888157894736842|3.3333333333333335|               2.0| 3.909090909090909|3.8076923076923075|               4.0|3.8958333333333335|              3.75|              3.16|3.7222222222222223|             4.125|               0.0|\n",
            "+------+------------------+------------------+------------------+------------------+------------------+------------------+------------------+------------------+------------------+------------------+------------------+------------------+------------------+------------------+------------------+------------------+------------------+------------------+------------------+------------------+\n",
            "only showing top 20 rows\n",
            "\n"
          ]
        }
      ]
    },
    {
      "cell_type": "code",
      "source": [
        "user_features.printSchema()"
      ],
      "metadata": {
        "id": "m1s_i30S3O4L",
        "execution": {
          "iopub.status.busy": "2023-10-18T14:19:46.740228Z",
          "iopub.execute_input": "2023-10-18T14:19:46.740493Z",
          "iopub.status.idle": "2023-10-18T14:19:46.751877Z",
          "shell.execute_reply.started": "2023-10-18T14:19:46.740465Z",
          "shell.execute_reply": "2023-10-18T14:19:46.751115Z"
        },
        "trusted": true,
        "colab": {
          "base_uri": "https://localhost:8080/"
        },
        "outputId": "ce2818aa-950b-4ff3-f06b-38aa849c4bc8"
      },
      "execution_count": null,
      "outputs": [
        {
          "output_type": "stream",
          "name": "stdout",
          "text": [
            "root\n",
            " |-- userId: string (nullable = true)\n",
            " |-- (no genres listed): double (nullable = false)\n",
            " |-- Action: double (nullable = false)\n",
            " |-- Adventure: double (nullable = false)\n",
            " |-- Animation: double (nullable = false)\n",
            " |-- Children: double (nullable = false)\n",
            " |-- Comedy: double (nullable = false)\n",
            " |-- Crime: double (nullable = false)\n",
            " |-- Documentary: double (nullable = false)\n",
            " |-- Drama: double (nullable = false)\n",
            " |-- Fantasy: double (nullable = false)\n",
            " |-- Film-Noir: double (nullable = false)\n",
            " |-- Horror: double (nullable = false)\n",
            " |-- IMAX: double (nullable = false)\n",
            " |-- Musical: double (nullable = false)\n",
            " |-- Mystery: double (nullable = false)\n",
            " |-- Romance: double (nullable = false)\n",
            " |-- Sci-Fi: double (nullable = false)\n",
            " |-- Thriller: double (nullable = false)\n",
            " |-- War: double (nullable = false)\n",
            " |-- Western: double (nullable = false)\n",
            "\n"
          ]
        }
      ]
    },
    {
      "cell_type": "code",
      "source": [
        "user_features = user_features.withColumn(\"userId\", user_features[\"userId\"].cast('integer'))\n",
        "user_features = user_features.orderBy(user_features[\"userId\"])\n",
        "user_features.show()"
      ],
      "metadata": {
        "id": "zA8h4epLBysg",
        "execution": {
          "iopub.status.busy": "2023-10-18T14:19:46.753030Z",
          "iopub.execute_input": "2023-10-18T14:19:46.753229Z",
          "iopub.status.idle": "2023-10-18T14:19:46.762659Z",
          "shell.execute_reply.started": "2023-10-18T14:19:46.753206Z",
          "shell.execute_reply": "2023-10-18T14:19:46.761710Z"
        },
        "trusted": true,
        "colab": {
          "base_uri": "https://localhost:8080/"
        },
        "outputId": "064ead8a-9f9c-4a2b-c814-df669e22cfb1"
      },
      "execution_count": null,
      "outputs": [
        {
          "output_type": "stream",
          "name": "stdout",
          "text": [
            "+------+------------------+------------------+------------------+------------------+------------------+------------------+------------------+------------------+------------------+------------------+------------------+------------------+------------------+------------------+------------------+------------------+------------------+------------------+------------------+------------------+\n",
            "|userId|(no genres listed)|            Action|         Adventure|         Animation|          Children|            Comedy|             Crime|       Documentary|             Drama|           Fantasy|         Film-Noir|            Horror|              IMAX|           Musical|           Mystery|           Romance|            Sci-Fi|          Thriller|               War|           Western|\n",
            "+------+------------------+------------------+------------------+------------------+------------------+------------------+------------------+------------------+------------------+------------------+------------------+------------------+------------------+------------------+------------------+------------------+------------------+------------------+------------------+------------------+\n",
            "|     1|               0.0|             4.125| 3.727272727272727|               4.0|3.8333333333333335| 3.869565217391304|            4.0625|               2.0|3.8679245283018866|               3.6|               3.5|               3.5|               0.0|               3.7|               3.5| 4.166666666666667|               3.7|               4.3|               3.9|               2.5|\n",
            "|     2|               0.0| 3.696969696969697|3.9066666666666667|3.6176470588235294|              3.66|3.3174603174603177| 3.138888888888889|               0.0|3.5714285714285716|3.9827586206896552|               0.0|               4.0|              4.75| 3.272727272727273|            3.6875| 3.161764705882353| 4.017857142857143|3.8333333333333335| 3.433333333333333|               2.5|\n",
            "|     3|               3.5|3.6407185628742513|3.6893939393939394|              3.98|3.7083333333333335|3.4545454545454546|3.8863636363636362|3.1666666666666665|3.8900862068965516|3.7371794871794872|               4.3|3.5444444444444443| 3.734567901234568|3.5833333333333335|3.8916666666666666| 3.533333333333333|3.6964285714285716| 3.692468619246862|3.6923076923076925|              3.75|\n",
            "|     4|               0.0|3.1862068965517243| 3.074561403508772| 3.467741935483871|3.2142857142857144| 3.611111111111111| 3.972972972972973|               4.1|3.7448979591836733|2.8333333333333335|               0.0|              3.15| 2.426829268292683| 3.642857142857143|3.8055555555555554|              3.45| 3.164705882352941| 3.544642857142857|3.3333333333333335|2.8333333333333335|\n",
            "|     5|               0.0|3.7222222222222223| 3.857142857142857|              3.75|3.3333333333333335|3.5714285714285716| 4.142857142857143|               0.0|3.8222222222222224|               3.5|               0.0| 4.666666666666667|               4.0|3.7142857142857144| 4.714285714285714|              3.55| 4.090909090909091|               4.0|               4.5|               3.0|\n",
            "|     6|               0.0|               4.0|               4.5|               0.0|               4.5|               4.5|               4.5|               0.0| 4.052631578947368|               5.0|               4.0|               4.0|               0.0|               4.5|               4.0|               4.0|               4.5|3.6666666666666665|               3.0|               0.0|\n",
            "|     7|               0.0|               3.0|3.3333333333333335|               4.0|3.6666666666666665|             3.625|3.2857142857142856|               0.0| 4.076923076923077|3.6666666666666665|               0.0|               4.0|               4.0|               4.0|               0.0| 4.166666666666667|               3.0|              3.25|               5.0|               3.0|\n",
            "|     8|               0.0|3.6666666666666665|3.4411764705882355|               3.1|3.2142857142857144| 3.847826086956522| 4.136363636363637|               0.0|3.6153846153846154|2.8181818181818183|               5.0|3.7777777777777777|2.6666666666666665|               3.1| 3.888888888888889|3.4827586206896552|3.3076923076923075| 3.830508474576271| 4.142857142857143|               3.0|\n",
            "|     9|               0.0|3.7954545454545454| 4.222222222222222| 4.142857142857143| 4.085714285714285| 3.746031746031746|            3.6875|               5.0| 3.925373134328358| 4.166666666666667|               0.0| 3.238095238095238|               4.0| 4.411764705882353|3.7142857142857144| 4.096774193548387|4.0344827586206895|             4.125|3.8461538461538463|2.7142857142857144|\n",
            "|    10|               0.0| 3.611111111111111|3.5384615384615383|2.8333333333333335|2.8333333333333335|3.2333333333333334| 3.772727272727273|              4.25|             3.475|2.1666666666666665|               0.0|             3.625|               4.0|               3.0|               3.5|             3.125|               4.0| 3.522727272727273|3.8333333333333335|               0.0|\n",
            "|    11|               0.0|               3.5|               3.0|              2.75|               0.0|3.0555555555555554|             3.375|               0.0| 3.269230769230769|              3.25|               0.0|               4.0|               0.0|               0.0|               0.0|               3.4|               0.0|3.6666666666666665|               4.0|               0.0|\n",
            "|    12|               0.0|3.1798245614035086|3.2148760330578514| 3.606060606060606|2.9097222222222223| 3.181701030927835| 3.528409090909091|3.6785714285714284|3.5144927536231885|         3.1953125|              3.75|3.0113636363636362|3.4444444444444446|3.3461538461538463| 3.358974358974359| 3.417682926829268|3.0671641791044775|3.2083333333333335| 3.739130434782609|               3.1|\n",
            "|    13|               0.0|3.5291005291005293|3.5364238410596025| 3.872093023255814| 3.453488372093023| 3.612781954887218| 3.985294117647059|               3.3| 3.753968253968254|3.3666666666666667|3.8333333333333335| 3.324324324324324|            3.4875|3.8636363636363638|3.7794117647058822|3.4027777777777777| 3.414285714285714|3.4473684210526314| 3.392857142857143|3.6481481481481484|\n",
            "|    14|               0.0| 4.571428571428571|               4.0|               4.0|               4.0| 4.708333333333333| 4.730769230769231|               0.0| 4.588235294117647| 4.333333333333333|               0.0|               4.0|               4.5|               0.0|               5.0|            4.6875|               4.5| 4.833333333333333|               5.0|               0.0|\n",
            "|    15|               0.0|3.7903225806451615|            3.4375|               3.5|               3.0| 4.294117647058823|              4.55|               4.5| 4.586206896551724|             3.875|               0.0|3.6666666666666665|               0.0|               4.0|               2.5| 4.266666666666667| 4.111111111111111| 4.340909090909091| 4.166666666666667|               0.0|\n",
            "|    16|               0.0|              4.75|               4.5| 4.285714285714286|3.6666666666666665|               4.5| 4.833333333333333|               0.0| 4.444444444444445|              4.25|               0.0|               0.0|               0.0|               0.0|               4.0| 4.583333333333333|              4.75|              4.75|               4.5|               0.0|\n",
            "|    17|               0.0|3.7941176470588234|3.3666666666666667| 3.727272727272727|              3.65|3.8636363636363638|               5.0|               0.0|               3.4|             2.625|               0.0|               0.0| 3.772727272727273|               3.5|               5.0|               3.5|3.6363636363636362|               4.4|              3.25|               0.0|\n",
            "|    18|               0.0| 3.383720930232558|3.4761904761904763|               3.0| 3.269230769230769|               3.5|3.2758620689655173|              2.25|3.1231884057971016| 3.732142857142857|               0.0|               3.9|3.3333333333333335|              3.75|              3.75|3.2058823529411766| 3.473684210526316| 3.526315789473684|              2.45|             0.875|\n",
            "|    19|               0.0|            3.2375|3.1702127659574466| 3.764925373134328|3.1140350877192984|3.1856060606060606| 3.316326530612245|               4.0|3.6417525773195876|3.5632911392405062|               4.0|3.3846153846153846|               3.0| 2.772727272727273|               3.5|3.4344262295081966|3.5272727272727273| 3.061111111111111|             3.375|3.3333333333333335|\n",
            "|    20|               0.0|  4.27027027027027| 4.205882352941177|               4.0|3.9285714285714284|3.8461538461538463| 4.541666666666667|               0.0| 4.304347826086956| 3.933333333333333|               0.0|3.3333333333333335|               0.0|              2.25|               3.5|              3.25| 4.342105263157895|           4.15625| 4.214285714285714|            4.5625|\n",
            "+------+------------------+------------------+------------------+------------------+------------------+------------------+------------------+------------------+------------------+------------------+------------------+------------------+------------------+------------------+------------------+------------------+------------------+------------------+------------------+------------------+\n",
            "only showing top 20 rows\n",
            "\n"
          ]
        }
      ]
    },
    {
      "cell_type": "code",
      "source": [
        "user_features.printSchema()"
      ],
      "metadata": {
        "id": "cuKojH-DVCFU",
        "execution": {
          "iopub.status.busy": "2023-10-18T14:19:46.764466Z",
          "iopub.execute_input": "2023-10-18T14:19:46.765102Z",
          "iopub.status.idle": "2023-10-18T14:19:46.774654Z",
          "shell.execute_reply.started": "2023-10-18T14:19:46.765071Z",
          "shell.execute_reply": "2023-10-18T14:19:46.773796Z"
        },
        "trusted": true,
        "colab": {
          "base_uri": "https://localhost:8080/"
        },
        "outputId": "b74c0d7a-acb6-40c5-a354-b4de79e3b97a"
      },
      "execution_count": null,
      "outputs": [
        {
          "output_type": "stream",
          "name": "stdout",
          "text": [
            "root\n",
            " |-- userId: integer (nullable = true)\n",
            " |-- (no genres listed): double (nullable = false)\n",
            " |-- Action: double (nullable = false)\n",
            " |-- Adventure: double (nullable = false)\n",
            " |-- Animation: double (nullable = false)\n",
            " |-- Children: double (nullable = false)\n",
            " |-- Comedy: double (nullable = false)\n",
            " |-- Crime: double (nullable = false)\n",
            " |-- Documentary: double (nullable = false)\n",
            " |-- Drama: double (nullable = false)\n",
            " |-- Fantasy: double (nullable = false)\n",
            " |-- Film-Noir: double (nullable = false)\n",
            " |-- Horror: double (nullable = false)\n",
            " |-- IMAX: double (nullable = false)\n",
            " |-- Musical: double (nullable = false)\n",
            " |-- Mystery: double (nullable = false)\n",
            " |-- Romance: double (nullable = false)\n",
            " |-- Sci-Fi: double (nullable = false)\n",
            " |-- Thriller: double (nullable = false)\n",
            " |-- War: double (nullable = false)\n",
            " |-- Western: double (nullable = false)\n",
            "\n"
          ]
        }
      ]
    },
    {
      "cell_type": "code",
      "source": [
        "# user_features_csv = user_features.toPandas()"
      ],
      "metadata": {
        "id": "1xQls8hqf3RR",
        "execution": {
          "iopub.status.busy": "2023-10-18T14:19:46.775642Z",
          "iopub.execute_input": "2023-10-18T14:19:46.776138Z",
          "iopub.status.idle": "2023-10-18T14:19:46.786200Z",
          "shell.execute_reply.started": "2023-10-18T14:19:46.776112Z",
          "shell.execute_reply": "2023-10-18T14:19:46.785297Z"
        },
        "trusted": true
      },
      "execution_count": null,
      "outputs": []
    },
    {
      "cell_type": "code",
      "source": [
        "# user_features_csv.to_csv(\"user_features_csv.csv\", index=False)"
      ],
      "metadata": {
        "id": "Ci6mw91HktMJ",
        "execution": {
          "iopub.status.busy": "2023-10-18T14:19:46.794959Z",
          "iopub.execute_input": "2023-10-18T14:19:46.795190Z",
          "iopub.status.idle": "2023-10-18T14:19:46.798444Z",
          "shell.execute_reply.started": "2023-10-18T14:19:46.795171Z",
          "shell.execute_reply": "2023-10-18T14:19:46.797859Z"
        },
        "trusted": true
      },
      "execution_count": null,
      "outputs": []
    },
    {
      "cell_type": "code",
      "source": [
        "user_to_movies = df_ratings.groupBy(\"userId\").agg(collect_list(\"movieId\").alias(\"MoviesRated\"))\n",
        "user_to_movies.show()"
      ],
      "metadata": {
        "id": "F-LM1d-Fl2tf",
        "execution": {
          "iopub.status.busy": "2023-10-18T14:19:46.799242Z",
          "iopub.execute_input": "2023-10-18T14:19:46.799458Z",
          "iopub.status.idle": "2023-10-18T14:19:46.815664Z",
          "shell.execute_reply.started": "2023-10-18T14:19:46.799440Z",
          "shell.execute_reply": "2023-10-18T14:19:46.814549Z"
        },
        "trusted": true,
        "colab": {
          "base_uri": "https://localhost:8080/"
        },
        "outputId": "c88f7d2e-c774-4a6c-a097-a31820605228"
      },
      "execution_count": null,
      "outputs": [
        {
          "output_type": "stream",
          "name": "stdout",
          "text": [
            "+------+--------------------+\n",
            "|userId|         MoviesRated|\n",
            "+------+--------------------+\n",
            "|   100|[5, 17, 25, 26, 3...|\n",
            "| 10000|[1, 2, 110, 231, ...|\n",
            "|100005|[1, 110, 327, 377...|\n",
            "|100006|[1, 19, 110, 150,...|\n",
            "|100008|[2, 6, 21, 32, 45...|\n",
            "| 10001|[80, 1073, 1707, ...|\n",
            "|100010|[1, 6, 7, 18, 25,...|\n",
            "|100014|[1, 47, 165, 260,...|\n",
            "|100021|[7, 11, 17, 110, ...|\n",
            "|100022|[10, 32, 110, 111...|\n",
            "|100025|[3, 104, 150, 432...|\n",
            "|100029|[304, 603, 858, 1...|\n",
            "|100031|[1, 2, 3, 5, 18, ...|\n",
            "|100039|[1, 2, 3, 7, 11, ...|\n",
            "|100040|[3, 10, 34, 44, 6...|\n",
            "|100046|[1, 2, 16, 17, 47...|\n",
            "|100054|[593, 765, 1029, ...|\n",
            "|100060|[18, 47, 223, 296...|\n",
            "|100062|[6, 23, 32, 50, 1...|\n",
            "|100068|[47, 63, 296, 318...|\n",
            "+------+--------------------+\n",
            "only showing top 20 rows\n",
            "\n"
          ]
        }
      ]
    },
    {
      "cell_type": "code",
      "source": [
        "# user_to_movies_csv = user_to_movies.toPandas()\n",
        "# user_to_movies_csv.to_csv('user_to_movies_csv.csv', index = False)"
      ],
      "metadata": {
        "id": "y8qRIFQh2C8j",
        "execution": {
          "iopub.status.busy": "2023-10-18T14:19:46.816503Z",
          "iopub.execute_input": "2023-10-18T14:19:46.816758Z",
          "iopub.status.idle": "2023-10-18T14:19:46.827282Z",
          "shell.execute_reply.started": "2023-10-18T14:19:46.816740Z",
          "shell.execute_reply": "2023-10-18T14:19:46.826185Z"
        },
        "trusted": true
      },
      "execution_count": null,
      "outputs": []
    },
    {
      "cell_type": "code",
      "source": [
        "user_to_movies_csv = pd.read_csv('/content/drive/MyDrive/MovieLens Dataset/user_to_movies_csv.csv')\n",
        "user_to_movies_csv.head()"
      ],
      "metadata": {
        "id": "ZezFx3At2C8j",
        "execution": {
          "iopub.status.busy": "2023-10-18T14:19:46.828273Z",
          "iopub.execute_input": "2023-10-18T14:19:46.828551Z",
          "iopub.status.idle": "2023-10-18T14:19:46.842460Z",
          "shell.execute_reply.started": "2023-10-18T14:19:46.828533Z",
          "shell.execute_reply": "2023-10-18T14:19:46.841630Z"
        },
        "trusted": true,
        "colab": {
          "base_uri": "https://localhost:8080/",
          "height": 206
        },
        "outputId": "d95a357a-3059-40f9-fd65-c6561a5ccc13"
      },
      "execution_count": null,
      "outputs": [
        {
          "output_type": "execute_result",
          "data": {
            "text/plain": [
              "   userId                                        MoviesRated\n",
              "0     100  ['5', '17', '25', '26', '32', '36', '52', '58'...\n",
              "1   10000  ['1', '2', '110', '231', '318', '356', '364', ...\n",
              "2  100005  ['1', '110', '327', '377', '457', '480', '540'...\n",
              "3  100006  ['1', '19', '110', '150', '160', '185', '208',...\n",
              "4  100008  ['2', '6', '21', '32', '45', '50', '110', '150..."
            ],
            "text/html": [
              "\n",
              "  <div id=\"df-d7855225-40be-452e-a0ad-aaecb54c4fb5\" class=\"colab-df-container\">\n",
              "    <div>\n",
              "<style scoped>\n",
              "    .dataframe tbody tr th:only-of-type {\n",
              "        vertical-align: middle;\n",
              "    }\n",
              "\n",
              "    .dataframe tbody tr th {\n",
              "        vertical-align: top;\n",
              "    }\n",
              "\n",
              "    .dataframe thead th {\n",
              "        text-align: right;\n",
              "    }\n",
              "</style>\n",
              "<table border=\"1\" class=\"dataframe\">\n",
              "  <thead>\n",
              "    <tr style=\"text-align: right;\">\n",
              "      <th></th>\n",
              "      <th>userId</th>\n",
              "      <th>MoviesRated</th>\n",
              "    </tr>\n",
              "  </thead>\n",
              "  <tbody>\n",
              "    <tr>\n",
              "      <th>0</th>\n",
              "      <td>100</td>\n",
              "      <td>['5', '17', '25', '26', '32', '36', '52', '58'...</td>\n",
              "    </tr>\n",
              "    <tr>\n",
              "      <th>1</th>\n",
              "      <td>10000</td>\n",
              "      <td>['1', '2', '110', '231', '318', '356', '364', ...</td>\n",
              "    </tr>\n",
              "    <tr>\n",
              "      <th>2</th>\n",
              "      <td>100005</td>\n",
              "      <td>['1', '110', '327', '377', '457', '480', '540'...</td>\n",
              "    </tr>\n",
              "    <tr>\n",
              "      <th>3</th>\n",
              "      <td>100006</td>\n",
              "      <td>['1', '19', '110', '150', '160', '185', '208',...</td>\n",
              "    </tr>\n",
              "    <tr>\n",
              "      <th>4</th>\n",
              "      <td>100008</td>\n",
              "      <td>['2', '6', '21', '32', '45', '50', '110', '150...</td>\n",
              "    </tr>\n",
              "  </tbody>\n",
              "</table>\n",
              "</div>\n",
              "    <div class=\"colab-df-buttons\">\n",
              "\n",
              "  <div class=\"colab-df-container\">\n",
              "    <button class=\"colab-df-convert\" onclick=\"convertToInteractive('df-d7855225-40be-452e-a0ad-aaecb54c4fb5')\"\n",
              "            title=\"Convert this dataframe to an interactive table.\"\n",
              "            style=\"display:none;\">\n",
              "\n",
              "  <svg xmlns=\"http://www.w3.org/2000/svg\" height=\"24px\" viewBox=\"0 -960 960 960\">\n",
              "    <path d=\"M120-120v-720h720v720H120Zm60-500h600v-160H180v160Zm220 220h160v-160H400v160Zm0 220h160v-160H400v160ZM180-400h160v-160H180v160Zm440 0h160v-160H620v160ZM180-180h160v-160H180v160Zm440 0h160v-160H620v160Z\"/>\n",
              "  </svg>\n",
              "    </button>\n",
              "\n",
              "  <style>\n",
              "    .colab-df-container {\n",
              "      display:flex;\n",
              "      gap: 12px;\n",
              "    }\n",
              "\n",
              "    .colab-df-convert {\n",
              "      background-color: #E8F0FE;\n",
              "      border: none;\n",
              "      border-radius: 50%;\n",
              "      cursor: pointer;\n",
              "      display: none;\n",
              "      fill: #1967D2;\n",
              "      height: 32px;\n",
              "      padding: 0 0 0 0;\n",
              "      width: 32px;\n",
              "    }\n",
              "\n",
              "    .colab-df-convert:hover {\n",
              "      background-color: #E2EBFA;\n",
              "      box-shadow: 0px 1px 2px rgba(60, 64, 67, 0.3), 0px 1px 3px 1px rgba(60, 64, 67, 0.15);\n",
              "      fill: #174EA6;\n",
              "    }\n",
              "\n",
              "    .colab-df-buttons div {\n",
              "      margin-bottom: 4px;\n",
              "    }\n",
              "\n",
              "    [theme=dark] .colab-df-convert {\n",
              "      background-color: #3B4455;\n",
              "      fill: #D2E3FC;\n",
              "    }\n",
              "\n",
              "    [theme=dark] .colab-df-convert:hover {\n",
              "      background-color: #434B5C;\n",
              "      box-shadow: 0px 1px 3px 1px rgba(0, 0, 0, 0.15);\n",
              "      filter: drop-shadow(0px 1px 2px rgba(0, 0, 0, 0.3));\n",
              "      fill: #FFFFFF;\n",
              "    }\n",
              "  </style>\n",
              "\n",
              "    <script>\n",
              "      const buttonEl =\n",
              "        document.querySelector('#df-d7855225-40be-452e-a0ad-aaecb54c4fb5 button.colab-df-convert');\n",
              "      buttonEl.style.display =\n",
              "        google.colab.kernel.accessAllowed ? 'block' : 'none';\n",
              "\n",
              "      async function convertToInteractive(key) {\n",
              "        const element = document.querySelector('#df-d7855225-40be-452e-a0ad-aaecb54c4fb5');\n",
              "        const dataTable =\n",
              "          await google.colab.kernel.invokeFunction('convertToInteractive',\n",
              "                                                    [key], {});\n",
              "        if (!dataTable) return;\n",
              "\n",
              "        const docLinkHtml = 'Like what you see? Visit the ' +\n",
              "          '<a target=\"_blank\" href=https://colab.research.google.com/notebooks/data_table.ipynb>data table notebook</a>'\n",
              "          + ' to learn more about interactive tables.';\n",
              "        element.innerHTML = '';\n",
              "        dataTable['output_type'] = 'display_data';\n",
              "        await google.colab.output.renderOutput(dataTable, element);\n",
              "        const docLink = document.createElement('div');\n",
              "        docLink.innerHTML = docLinkHtml;\n",
              "        element.appendChild(docLink);\n",
              "      }\n",
              "    </script>\n",
              "  </div>\n",
              "\n",
              "\n",
              "<div id=\"df-b522a608-ac78-4ec6-91fd-1a00d51179f6\">\n",
              "  <button class=\"colab-df-quickchart\" onclick=\"quickchart('df-b522a608-ac78-4ec6-91fd-1a00d51179f6')\"\n",
              "            title=\"Suggest charts.\"\n",
              "            style=\"display:none;\">\n",
              "\n",
              "<svg xmlns=\"http://www.w3.org/2000/svg\" height=\"24px\"viewBox=\"0 0 24 24\"\n",
              "     width=\"24px\">\n",
              "    <g>\n",
              "        <path d=\"M19 3H5c-1.1 0-2 .9-2 2v14c0 1.1.9 2 2 2h14c1.1 0 2-.9 2-2V5c0-1.1-.9-2-2-2zM9 17H7v-7h2v7zm4 0h-2V7h2v10zm4 0h-2v-4h2v4z\"/>\n",
              "    </g>\n",
              "</svg>\n",
              "  </button>\n",
              "\n",
              "<style>\n",
              "  .colab-df-quickchart {\n",
              "      --bg-color: #E8F0FE;\n",
              "      --fill-color: #1967D2;\n",
              "      --hover-bg-color: #E2EBFA;\n",
              "      --hover-fill-color: #174EA6;\n",
              "      --disabled-fill-color: #AAA;\n",
              "      --disabled-bg-color: #DDD;\n",
              "  }\n",
              "\n",
              "  [theme=dark] .colab-df-quickchart {\n",
              "      --bg-color: #3B4455;\n",
              "      --fill-color: #D2E3FC;\n",
              "      --hover-bg-color: #434B5C;\n",
              "      --hover-fill-color: #FFFFFF;\n",
              "      --disabled-bg-color: #3B4455;\n",
              "      --disabled-fill-color: #666;\n",
              "  }\n",
              "\n",
              "  .colab-df-quickchart {\n",
              "    background-color: var(--bg-color);\n",
              "    border: none;\n",
              "    border-radius: 50%;\n",
              "    cursor: pointer;\n",
              "    display: none;\n",
              "    fill: var(--fill-color);\n",
              "    height: 32px;\n",
              "    padding: 0;\n",
              "    width: 32px;\n",
              "  }\n",
              "\n",
              "  .colab-df-quickchart:hover {\n",
              "    background-color: var(--hover-bg-color);\n",
              "    box-shadow: 0 1px 2px rgba(60, 64, 67, 0.3), 0 1px 3px 1px rgba(60, 64, 67, 0.15);\n",
              "    fill: var(--button-hover-fill-color);\n",
              "  }\n",
              "\n",
              "  .colab-df-quickchart-complete:disabled,\n",
              "  .colab-df-quickchart-complete:disabled:hover {\n",
              "    background-color: var(--disabled-bg-color);\n",
              "    fill: var(--disabled-fill-color);\n",
              "    box-shadow: none;\n",
              "  }\n",
              "\n",
              "  .colab-df-spinner {\n",
              "    border: 2px solid var(--fill-color);\n",
              "    border-color: transparent;\n",
              "    border-bottom-color: var(--fill-color);\n",
              "    animation:\n",
              "      spin 1s steps(1) infinite;\n",
              "  }\n",
              "\n",
              "  @keyframes spin {\n",
              "    0% {\n",
              "      border-color: transparent;\n",
              "      border-bottom-color: var(--fill-color);\n",
              "      border-left-color: var(--fill-color);\n",
              "    }\n",
              "    20% {\n",
              "      border-color: transparent;\n",
              "      border-left-color: var(--fill-color);\n",
              "      border-top-color: var(--fill-color);\n",
              "    }\n",
              "    30% {\n",
              "      border-color: transparent;\n",
              "      border-left-color: var(--fill-color);\n",
              "      border-top-color: var(--fill-color);\n",
              "      border-right-color: var(--fill-color);\n",
              "    }\n",
              "    40% {\n",
              "      border-color: transparent;\n",
              "      border-right-color: var(--fill-color);\n",
              "      border-top-color: var(--fill-color);\n",
              "    }\n",
              "    60% {\n",
              "      border-color: transparent;\n",
              "      border-right-color: var(--fill-color);\n",
              "    }\n",
              "    80% {\n",
              "      border-color: transparent;\n",
              "      border-right-color: var(--fill-color);\n",
              "      border-bottom-color: var(--fill-color);\n",
              "    }\n",
              "    90% {\n",
              "      border-color: transparent;\n",
              "      border-bottom-color: var(--fill-color);\n",
              "    }\n",
              "  }\n",
              "</style>\n",
              "\n",
              "  <script>\n",
              "    async function quickchart(key) {\n",
              "      const quickchartButtonEl =\n",
              "        document.querySelector('#' + key + ' button');\n",
              "      quickchartButtonEl.disabled = true;  // To prevent multiple clicks.\n",
              "      quickchartButtonEl.classList.add('colab-df-spinner');\n",
              "      try {\n",
              "        const charts = await google.colab.kernel.invokeFunction(\n",
              "            'suggestCharts', [key], {});\n",
              "      } catch (error) {\n",
              "        console.error('Error during call to suggestCharts:', error);\n",
              "      }\n",
              "      quickchartButtonEl.classList.remove('colab-df-spinner');\n",
              "      quickchartButtonEl.classList.add('colab-df-quickchart-complete');\n",
              "    }\n",
              "    (() => {\n",
              "      let quickchartButtonEl =\n",
              "        document.querySelector('#df-b522a608-ac78-4ec6-91fd-1a00d51179f6 button');\n",
              "      quickchartButtonEl.style.display =\n",
              "        google.colab.kernel.accessAllowed ? 'block' : 'none';\n",
              "    })();\n",
              "  </script>\n",
              "</div>\n",
              "    </div>\n",
              "  </div>\n"
            ]
          },
          "metadata": {},
          "execution_count": 78
        }
      ]
    },
    {
      "cell_type": "code",
      "source": [
        "userToMoviesRated = pd.Series(user_to_movies_csv['MoviesRated'], index=user_to_movies_csv['userId']).to_dict()"
      ],
      "metadata": {
        "id": "oDrcHKWj2C8j",
        "execution": {
          "iopub.status.busy": "2023-10-18T14:19:46.843315Z",
          "iopub.execute_input": "2023-10-18T14:19:46.843522Z",
          "iopub.status.idle": "2023-10-18T14:19:46.855055Z",
          "shell.execute_reply.started": "2023-10-18T14:19:46.843503Z",
          "shell.execute_reply": "2023-10-18T14:19:46.854327Z"
        },
        "trusted": true
      },
      "execution_count": null,
      "outputs": []
    },
    {
      "cell_type": "code",
      "source": [
        "with open(\"userToMoviesRated.pickle\",\"wb\") as f:\n",
        "    pickle.dump(userToMoviesRated,f)"
      ],
      "metadata": {
        "id": "0NiJoxWM2C8j",
        "execution": {
          "iopub.status.busy": "2023-10-18T14:19:46.855955Z",
          "iopub.execute_input": "2023-10-18T14:19:46.856660Z",
          "iopub.status.idle": "2023-10-18T14:19:46.866525Z",
          "shell.execute_reply.started": "2023-10-18T14:19:46.856637Z",
          "shell.execute_reply": "2023-10-18T14:19:46.865770Z"
        },
        "trusted": true
      },
      "execution_count": null,
      "outputs": []
    },
    {
      "cell_type": "code",
      "source": [
        "X_users_data = df_ratings.select('userId').join(user_features, on=\"userId\", how=\"left\")\n",
        "X_users_data = X_users_data.drop(\"userId\")"
      ],
      "metadata": {
        "execution": {
          "iopub.status.busy": "2023-10-18T14:20:01.213084Z",
          "iopub.execute_input": "2023-10-18T14:20:01.213382Z",
          "iopub.status.idle": "2023-10-18T14:20:06.952464Z",
          "shell.execute_reply.started": "2023-10-18T14:20:01.213356Z",
          "shell.execute_reply": "2023-10-18T14:20:06.951728Z"
        },
        "trusted": true,
        "id": "dY6U9m6kSF0m"
      },
      "execution_count": null,
      "outputs": []
    },
    {
      "cell_type": "code",
      "source": [
        "X_users_data.show()"
      ],
      "metadata": {
        "colab": {
          "base_uri": "https://localhost:8080/"
        },
        "id": "OO6uXVnQTX65",
        "outputId": "638442db-3600-4b29-f69a-fef5e016e602"
      },
      "execution_count": null,
      "outputs": [
        {
          "output_type": "stream",
          "name": "stdout",
          "text": [
            "+------------------+------+-----------------+---------+------------------+-----------------+------+-----------+------------------+-------+---------+------+----+-------+-------+-----------------+------+--------+---+-------+\n",
            "|(no genres listed)|Action|        Adventure|Animation|          Children|           Comedy| Crime|Documentary|             Drama|Fantasy|Film-Noir|Horror|IMAX|Musical|Mystery|          Romance|Sci-Fi|Thriller|War|Western|\n",
            "+------------------+------+-----------------+---------+------------------+-----------------+------+-----------+------------------+-------+---------+------+----+-------+-------+-----------------+------+--------+---+-------+\n",
            "|               0.0| 4.125|3.727272727272727|      4.0|3.8333333333333335|3.869565217391304|4.0625|        2.0|3.8679245283018866|    3.6|      3.5|   3.5| 0.0|    3.7|    3.5|4.166666666666667|   3.7|     4.3|3.9|    2.5|\n",
            "|               0.0| 4.125|3.727272727272727|      4.0|3.8333333333333335|3.869565217391304|4.0625|        2.0|3.8679245283018866|    3.6|      3.5|   3.5| 0.0|    3.7|    3.5|4.166666666666667|   3.7|     4.3|3.9|    2.5|\n",
            "|               0.0| 4.125|3.727272727272727|      4.0|3.8333333333333335|3.869565217391304|4.0625|        2.0|3.8679245283018866|    3.6|      3.5|   3.5| 0.0|    3.7|    3.5|4.166666666666667|   3.7|     4.3|3.9|    2.5|\n",
            "|               0.0| 4.125|3.727272727272727|      4.0|3.8333333333333335|3.869565217391304|4.0625|        2.0|3.8679245283018866|    3.6|      3.5|   3.5| 0.0|    3.7|    3.5|4.166666666666667|   3.7|     4.3|3.9|    2.5|\n",
            "|               0.0| 4.125|3.727272727272727|      4.0|3.8333333333333335|3.869565217391304|4.0625|        2.0|3.8679245283018866|    3.6|      3.5|   3.5| 0.0|    3.7|    3.5|4.166666666666667|   3.7|     4.3|3.9|    2.5|\n",
            "|               0.0| 4.125|3.727272727272727|      4.0|3.8333333333333335|3.869565217391304|4.0625|        2.0|3.8679245283018866|    3.6|      3.5|   3.5| 0.0|    3.7|    3.5|4.166666666666667|   3.7|     4.3|3.9|    2.5|\n",
            "|               0.0| 4.125|3.727272727272727|      4.0|3.8333333333333335|3.869565217391304|4.0625|        2.0|3.8679245283018866|    3.6|      3.5|   3.5| 0.0|    3.7|    3.5|4.166666666666667|   3.7|     4.3|3.9|    2.5|\n",
            "|               0.0| 4.125|3.727272727272727|      4.0|3.8333333333333335|3.869565217391304|4.0625|        2.0|3.8679245283018866|    3.6|      3.5|   3.5| 0.0|    3.7|    3.5|4.166666666666667|   3.7|     4.3|3.9|    2.5|\n",
            "|               0.0| 4.125|3.727272727272727|      4.0|3.8333333333333335|3.869565217391304|4.0625|        2.0|3.8679245283018866|    3.6|      3.5|   3.5| 0.0|    3.7|    3.5|4.166666666666667|   3.7|     4.3|3.9|    2.5|\n",
            "|               0.0| 4.125|3.727272727272727|      4.0|3.8333333333333335|3.869565217391304|4.0625|        2.0|3.8679245283018866|    3.6|      3.5|   3.5| 0.0|    3.7|    3.5|4.166666666666667|   3.7|     4.3|3.9|    2.5|\n",
            "|               0.0| 4.125|3.727272727272727|      4.0|3.8333333333333335|3.869565217391304|4.0625|        2.0|3.8679245283018866|    3.6|      3.5|   3.5| 0.0|    3.7|    3.5|4.166666666666667|   3.7|     4.3|3.9|    2.5|\n",
            "|               0.0| 4.125|3.727272727272727|      4.0|3.8333333333333335|3.869565217391304|4.0625|        2.0|3.8679245283018866|    3.6|      3.5|   3.5| 0.0|    3.7|    3.5|4.166666666666667|   3.7|     4.3|3.9|    2.5|\n",
            "|               0.0| 4.125|3.727272727272727|      4.0|3.8333333333333335|3.869565217391304|4.0625|        2.0|3.8679245283018866|    3.6|      3.5|   3.5| 0.0|    3.7|    3.5|4.166666666666667|   3.7|     4.3|3.9|    2.5|\n",
            "|               0.0| 4.125|3.727272727272727|      4.0|3.8333333333333335|3.869565217391304|4.0625|        2.0|3.8679245283018866|    3.6|      3.5|   3.5| 0.0|    3.7|    3.5|4.166666666666667|   3.7|     4.3|3.9|    2.5|\n",
            "|               0.0| 4.125|3.727272727272727|      4.0|3.8333333333333335|3.869565217391304|4.0625|        2.0|3.8679245283018866|    3.6|      3.5|   3.5| 0.0|    3.7|    3.5|4.166666666666667|   3.7|     4.3|3.9|    2.5|\n",
            "|               0.0| 4.125|3.727272727272727|      4.0|3.8333333333333335|3.869565217391304|4.0625|        2.0|3.8679245283018866|    3.6|      3.5|   3.5| 0.0|    3.7|    3.5|4.166666666666667|   3.7|     4.3|3.9|    2.5|\n",
            "|               0.0| 4.125|3.727272727272727|      4.0|3.8333333333333335|3.869565217391304|4.0625|        2.0|3.8679245283018866|    3.6|      3.5|   3.5| 0.0|    3.7|    3.5|4.166666666666667|   3.7|     4.3|3.9|    2.5|\n",
            "|               0.0| 4.125|3.727272727272727|      4.0|3.8333333333333335|3.869565217391304|4.0625|        2.0|3.8679245283018866|    3.6|      3.5|   3.5| 0.0|    3.7|    3.5|4.166666666666667|   3.7|     4.3|3.9|    2.5|\n",
            "|               0.0| 4.125|3.727272727272727|      4.0|3.8333333333333335|3.869565217391304|4.0625|        2.0|3.8679245283018866|    3.6|      3.5|   3.5| 0.0|    3.7|    3.5|4.166666666666667|   3.7|     4.3|3.9|    2.5|\n",
            "|               0.0| 4.125|3.727272727272727|      4.0|3.8333333333333335|3.869565217391304|4.0625|        2.0|3.8679245283018866|    3.6|      3.5|   3.5| 0.0|    3.7|    3.5|4.166666666666667|   3.7|     4.3|3.9|    2.5|\n",
            "+------------------+------+-----------------+---------+------------------+-----------------+------+-----------+------------------+-------+---------+------+----+-------+-------+-----------------+------+--------+---+-------+\n",
            "only showing top 20 rows\n",
            "\n"
          ]
        }
      ]
    },
    {
      "cell_type": "code",
      "source": [
        "X_movies_data = df_ratings.select('movieId').join(movie_features, on=\"movieId\", how=\"left\")\n",
        "X_movies_data = X_users_data.drop(\"movieId\")"
      ],
      "metadata": {
        "execution": {
          "iopub.status.busy": "2023-10-18T14:22:02.800883Z",
          "iopub.execute_input": "2023-10-18T14:22:02.801183Z"
        },
        "trusted": true,
        "id": "j3xcvUClSF0m"
      },
      "execution_count": null,
      "outputs": []
    },
    {
      "cell_type": "code",
      "source": [
        "X_movies_data.show()"
      ],
      "metadata": {
        "colab": {
          "base_uri": "https://localhost:8080/"
        },
        "id": "w7Q_s1CYXTMx",
        "outputId": "fc72f03b-fb94-4fba-c648-faa10ec2a34f"
      },
      "execution_count": null,
      "outputs": [
        {
          "output_type": "stream",
          "name": "stdout",
          "text": [
            "+------------------+------+-----------------+---------+------------------+-----------------+------+-----------+------------------+-------+---------+------+----+-------+-------+-----------------+------+--------+---+-------+\n",
            "|(no genres listed)|Action|        Adventure|Animation|          Children|           Comedy| Crime|Documentary|             Drama|Fantasy|Film-Noir|Horror|IMAX|Musical|Mystery|          Romance|Sci-Fi|Thriller|War|Western|\n",
            "+------------------+------+-----------------+---------+------------------+-----------------+------+-----------+------------------+-------+---------+------+----+-------+-------+-----------------+------+--------+---+-------+\n",
            "|               0.0| 4.125|3.727272727272727|      4.0|3.8333333333333335|3.869565217391304|4.0625|        2.0|3.8679245283018866|    3.6|      3.5|   3.5| 0.0|    3.7|    3.5|4.166666666666667|   3.7|     4.3|3.9|    2.5|\n",
            "|               0.0| 4.125|3.727272727272727|      4.0|3.8333333333333335|3.869565217391304|4.0625|        2.0|3.8679245283018866|    3.6|      3.5|   3.5| 0.0|    3.7|    3.5|4.166666666666667|   3.7|     4.3|3.9|    2.5|\n",
            "|               0.0| 4.125|3.727272727272727|      4.0|3.8333333333333335|3.869565217391304|4.0625|        2.0|3.8679245283018866|    3.6|      3.5|   3.5| 0.0|    3.7|    3.5|4.166666666666667|   3.7|     4.3|3.9|    2.5|\n",
            "|               0.0| 4.125|3.727272727272727|      4.0|3.8333333333333335|3.869565217391304|4.0625|        2.0|3.8679245283018866|    3.6|      3.5|   3.5| 0.0|    3.7|    3.5|4.166666666666667|   3.7|     4.3|3.9|    2.5|\n",
            "|               0.0| 4.125|3.727272727272727|      4.0|3.8333333333333335|3.869565217391304|4.0625|        2.0|3.8679245283018866|    3.6|      3.5|   3.5| 0.0|    3.7|    3.5|4.166666666666667|   3.7|     4.3|3.9|    2.5|\n",
            "|               0.0| 4.125|3.727272727272727|      4.0|3.8333333333333335|3.869565217391304|4.0625|        2.0|3.8679245283018866|    3.6|      3.5|   3.5| 0.0|    3.7|    3.5|4.166666666666667|   3.7|     4.3|3.9|    2.5|\n",
            "|               0.0| 4.125|3.727272727272727|      4.0|3.8333333333333335|3.869565217391304|4.0625|        2.0|3.8679245283018866|    3.6|      3.5|   3.5| 0.0|    3.7|    3.5|4.166666666666667|   3.7|     4.3|3.9|    2.5|\n",
            "|               0.0| 4.125|3.727272727272727|      4.0|3.8333333333333335|3.869565217391304|4.0625|        2.0|3.8679245283018866|    3.6|      3.5|   3.5| 0.0|    3.7|    3.5|4.166666666666667|   3.7|     4.3|3.9|    2.5|\n",
            "|               0.0| 4.125|3.727272727272727|      4.0|3.8333333333333335|3.869565217391304|4.0625|        2.0|3.8679245283018866|    3.6|      3.5|   3.5| 0.0|    3.7|    3.5|4.166666666666667|   3.7|     4.3|3.9|    2.5|\n",
            "|               0.0| 4.125|3.727272727272727|      4.0|3.8333333333333335|3.869565217391304|4.0625|        2.0|3.8679245283018866|    3.6|      3.5|   3.5| 0.0|    3.7|    3.5|4.166666666666667|   3.7|     4.3|3.9|    2.5|\n",
            "|               0.0| 4.125|3.727272727272727|      4.0|3.8333333333333335|3.869565217391304|4.0625|        2.0|3.8679245283018866|    3.6|      3.5|   3.5| 0.0|    3.7|    3.5|4.166666666666667|   3.7|     4.3|3.9|    2.5|\n",
            "|               0.0| 4.125|3.727272727272727|      4.0|3.8333333333333335|3.869565217391304|4.0625|        2.0|3.8679245283018866|    3.6|      3.5|   3.5| 0.0|    3.7|    3.5|4.166666666666667|   3.7|     4.3|3.9|    2.5|\n",
            "|               0.0| 4.125|3.727272727272727|      4.0|3.8333333333333335|3.869565217391304|4.0625|        2.0|3.8679245283018866|    3.6|      3.5|   3.5| 0.0|    3.7|    3.5|4.166666666666667|   3.7|     4.3|3.9|    2.5|\n",
            "|               0.0| 4.125|3.727272727272727|      4.0|3.8333333333333335|3.869565217391304|4.0625|        2.0|3.8679245283018866|    3.6|      3.5|   3.5| 0.0|    3.7|    3.5|4.166666666666667|   3.7|     4.3|3.9|    2.5|\n",
            "|               0.0| 4.125|3.727272727272727|      4.0|3.8333333333333335|3.869565217391304|4.0625|        2.0|3.8679245283018866|    3.6|      3.5|   3.5| 0.0|    3.7|    3.5|4.166666666666667|   3.7|     4.3|3.9|    2.5|\n",
            "|               0.0| 4.125|3.727272727272727|      4.0|3.8333333333333335|3.869565217391304|4.0625|        2.0|3.8679245283018866|    3.6|      3.5|   3.5| 0.0|    3.7|    3.5|4.166666666666667|   3.7|     4.3|3.9|    2.5|\n",
            "|               0.0| 4.125|3.727272727272727|      4.0|3.8333333333333335|3.869565217391304|4.0625|        2.0|3.8679245283018866|    3.6|      3.5|   3.5| 0.0|    3.7|    3.5|4.166666666666667|   3.7|     4.3|3.9|    2.5|\n",
            "|               0.0| 4.125|3.727272727272727|      4.0|3.8333333333333335|3.869565217391304|4.0625|        2.0|3.8679245283018866|    3.6|      3.5|   3.5| 0.0|    3.7|    3.5|4.166666666666667|   3.7|     4.3|3.9|    2.5|\n",
            "|               0.0| 4.125|3.727272727272727|      4.0|3.8333333333333335|3.869565217391304|4.0625|        2.0|3.8679245283018866|    3.6|      3.5|   3.5| 0.0|    3.7|    3.5|4.166666666666667|   3.7|     4.3|3.9|    2.5|\n",
            "|               0.0| 4.125|3.727272727272727|      4.0|3.8333333333333335|3.869565217391304|4.0625|        2.0|3.8679245283018866|    3.6|      3.5|   3.5| 0.0|    3.7|    3.5|4.166666666666667|   3.7|     4.3|3.9|    2.5|\n",
            "+------------------+------+-----------------+---------+------------------+-----------------+------+-----------+------------------+-------+---------+------+----+-------+-------+-----------------+------+--------+---+-------+\n",
            "only showing top 20 rows\n",
            "\n"
          ]
        }
      ]
    },
    {
      "cell_type": "code",
      "source": [
        "X_movies_data.show()"
      ],
      "metadata": {
        "id": "ExMxZy69Tdhs"
      },
      "execution_count": null,
      "outputs": []
    },
    {
      "cell_type": "code",
      "source": [
        "# X_movies_data.to_csv('X_movies_data.csv')"
      ],
      "metadata": {
        "execution": {
          "iopub.status.busy": "2023-10-18T14:20:06.959260Z",
          "iopub.execute_input": "2023-10-18T14:20:06.959556Z",
          "iopub.status.idle": "2023-10-18T14:20:06.969793Z",
          "shell.execute_reply.started": "2023-10-18T14:20:06.959535Z",
          "shell.execute_reply": "2023-10-18T14:20:06.969005Z"
        },
        "trusted": true,
        "id": "cGGn6Sa8SF0n"
      },
      "execution_count": null,
      "outputs": []
    },
    {
      "cell_type": "code",
      "source": [
        "ratings_df = pd.read_csv('/content/drive/MyDrive/MovieLens Dataset/ratings.csv')"
      ],
      "metadata": {
        "id": "tHy6FWXlTo_e"
      },
      "execution_count": null,
      "outputs": []
    },
    {
      "cell_type": "code",
      "source": [
        "Y_ratings = ratings_df[[\"rating\"]]\n",
        "Y_ratings"
      ],
      "metadata": {
        "execution": {
          "iopub.status.busy": "2023-10-20T05:44:42.758672Z",
          "iopub.execute_input": "2023-10-20T05:44:42.759519Z",
          "iopub.status.idle": "2023-10-20T05:44:42.888522Z",
          "shell.execute_reply.started": "2023-10-20T05:44:42.759484Z",
          "shell.execute_reply": "2023-10-20T05:44:42.887514Z"
        },
        "trusted": true,
        "id": "ms76VSW7SF0n",
        "outputId": "434adead-7e80-4977-ccab-3e33a22fcf3b"
      },
      "execution_count": null,
      "outputs": [
        {
          "execution_count": 13,
          "output_type": "execute_result",
          "data": {
            "text/plain": "          rating\n0            5.0\n1            3.5\n2            5.0\n3            5.0\n4            3.5\n...          ...\n25000090     4.5\n25000091     2.5\n25000092     2.0\n25000093     4.0\n25000094     5.0\n\n[25000095 rows x 1 columns]",
            "text/html": "<div>\n<style scoped>\n    .dataframe tbody tr th:only-of-type {\n        vertical-align: middle;\n    }\n\n    .dataframe tbody tr th {\n        vertical-align: top;\n    }\n\n    .dataframe thead th {\n        text-align: right;\n    }\n</style>\n<table border=\"1\" class=\"dataframe\">\n  <thead>\n    <tr style=\"text-align: right;\">\n      <th></th>\n      <th>rating</th>\n    </tr>\n  </thead>\n  <tbody>\n    <tr>\n      <th>0</th>\n      <td>5.0</td>\n    </tr>\n    <tr>\n      <th>1</th>\n      <td>3.5</td>\n    </tr>\n    <tr>\n      <th>2</th>\n      <td>5.0</td>\n    </tr>\n    <tr>\n      <th>3</th>\n      <td>5.0</td>\n    </tr>\n    <tr>\n      <th>4</th>\n      <td>3.5</td>\n    </tr>\n    <tr>\n      <th>...</th>\n      <td>...</td>\n    </tr>\n    <tr>\n      <th>25000090</th>\n      <td>4.5</td>\n    </tr>\n    <tr>\n      <th>25000091</th>\n      <td>2.5</td>\n    </tr>\n    <tr>\n      <th>25000092</th>\n      <td>2.0</td>\n    </tr>\n    <tr>\n      <th>25000093</th>\n      <td>4.0</td>\n    </tr>\n    <tr>\n      <th>25000094</th>\n      <td>5.0</td>\n    </tr>\n  </tbody>\n</table>\n<p>25000095 rows × 1 columns</p>\n</div>"
          },
          "metadata": {}
        }
      ]
    },
    {
      "cell_type": "code",
      "source": [
        "del movie_features, user_features, ratings_df\n",
        "gc.collect()"
      ],
      "metadata": {
        "execution": {
          "iopub.status.busy": "2023-10-18T14:20:07.099128Z",
          "iopub.execute_input": "2023-10-18T14:20:07.099344Z",
          "iopub.status.idle": "2023-10-18T14:20:07.274859Z",
          "shell.execute_reply.started": "2023-10-18T14:20:07.099326Z",
          "shell.execute_reply": "2023-10-18T14:20:07.274200Z"
        },
        "trusted": true,
        "id": "eJ7s4o9bSF0n",
        "outputId": "c2198779-84ff-4fe2-ce95-a2cf6e805e51"
      },
      "execution_count": null,
      "outputs": [
        {
          "execution_count": 95,
          "output_type": "execute_result",
          "data": {
            "text/plain": "0"
          },
          "metadata": {}
        }
      ]
    },
    {
      "cell_type": "code",
      "source": [
        "X_movies_scaled = X_movies_data.values\n",
        "\n",
        "scalerMovie = StandardScaler()\n",
        "X_movies_scaled[:,0:2] = scalerMovie.fit_transform(X_movies_data.iloc[:,0:2])\n",
        "\n",
        "scalerUser = MaxAbsScaler()\n",
        "X_users_scaled = scalerUser.fit_transform(X_users_data)\n",
        "\n",
        "scalerTarget = MinMaxScaler((-1,1))\n",
        "Y_ratings_scaled = scalerTarget.fit_transform(Y_ratings)"
      ],
      "metadata": {
        "execution": {
          "iopub.status.busy": "2023-10-20T05:45:00.855601Z",
          "iopub.execute_input": "2023-10-20T05:45:00.857120Z",
          "iopub.status.idle": "2023-10-20T05:45:01.071024Z",
          "shell.execute_reply.started": "2023-10-20T05:45:00.857055Z",
          "shell.execute_reply": "2023-10-20T05:45:01.070192Z"
        },
        "trusted": true,
        "id": "fcTxFMvMSF0o"
      },
      "execution_count": null,
      "outputs": []
    },
    {
      "cell_type": "code",
      "source": [
        "with open(\"scalerUser.pickle\",\"wb\") as f:\n",
        "    pickle.dump(scalerUser, f)\n",
        "with open(\"scalerMovie.pickle\",\"wb\") as f:\n",
        "    pickle.dump(scalerMovie, f)\n",
        "with open(\"scalerTarget.pickle\",\"wb\") as f:\n",
        "    pickle.dump(scalerTarget, f)"
      ],
      "metadata": {
        "execution": {
          "iopub.status.busy": "2023-10-18T14:20:07.775381Z",
          "iopub.status.idle": "2023-10-18T14:20:07.775809Z",
          "shell.execute_reply.started": "2023-10-18T14:20:07.775668Z",
          "shell.execute_reply": "2023-10-18T14:20:07.775684Z"
        },
        "trusted": true,
        "id": "P1yQBUvASF0o"
      },
      "execution_count": null,
      "outputs": []
    },
    {
      "cell_type": "code",
      "source": [
        "np.savez_compressed(\"data\",X_movies_scaled,X_users_scaled, Y_ratings_scaled)"
      ],
      "metadata": {
        "execution": {
          "iopub.status.busy": "2023-10-18T14:20:07.776581Z",
          "iopub.status.idle": "2023-10-18T14:20:07.776979Z",
          "shell.execute_reply.started": "2023-10-18T14:20:07.776838Z",
          "shell.execute_reply": "2023-10-18T14:20:07.776863Z"
        },
        "trusted": true,
        "id": "WZJGpXuHSF0p"
      },
      "execution_count": null,
      "outputs": []
    },
    {
      "cell_type": "code",
      "source": [
        "del X_users_data, X_movies_data, Y_ratings\n",
        "gc.collect()"
      ],
      "metadata": {
        "execution": {
          "iopub.status.busy": "2023-10-18T14:20:07.777706Z",
          "iopub.status.idle": "2023-10-18T14:20:07.778126Z",
          "shell.execute_reply.started": "2023-10-18T14:20:07.777990Z",
          "shell.execute_reply": "2023-10-18T14:20:07.778005Z"
        },
        "trusted": true,
        "id": "-37CTWCdSF0p"
      },
      "execution_count": null,
      "outputs": []
    },
    {
      "cell_type": "code",
      "source": [
        "import numpy as np\n",
        "data = np.load(\"/content/drive/MyDrive/MovieLens Dataset/data.npz\")"
      ],
      "metadata": {
        "execution": {
          "iopub.status.busy": "2023-10-20T05:41:25.617361Z",
          "iopub.execute_input": "2023-10-20T05:41:25.617704Z",
          "iopub.status.idle": "2023-10-20T05:41:25.658020Z",
          "shell.execute_reply.started": "2023-10-20T05:41:25.617676Z",
          "shell.execute_reply": "2023-10-20T05:41:25.657158Z"
        },
        "trusted": true,
        "id": "fzbyeeqaSF0p"
      },
      "execution_count": null,
      "outputs": []
    },
    {
      "cell_type": "code",
      "source": [
        "X_movies_scaled = data[\"arr_0\"]\n",
        "X_users_scaled = data[\"arr_1\"]\n",
        "Y_ratings_scaled = data[\"arr_2\"]"
      ],
      "metadata": {
        "execution": {
          "iopub.status.busy": "2023-10-20T05:41:29.261607Z",
          "iopub.execute_input": "2023-10-20T05:41:29.261967Z",
          "iopub.status.idle": "2023-10-20T05:41:47.069416Z",
          "shell.execute_reply.started": "2023-10-20T05:41:29.261916Z",
          "shell.execute_reply": "2023-10-20T05:41:47.068680Z"
        },
        "trusted": true,
        "id": "TgvA-vZiSF0q"
      },
      "execution_count": null,
      "outputs": []
    },
    {
      "cell_type": "code",
      "source": [
        "Y_ratings_scaled"
      ],
      "metadata": {
        "execution": {
          "iopub.status.busy": "2023-10-20T05:45:09.653726Z",
          "iopub.execute_input": "2023-10-20T05:45:09.654093Z",
          "iopub.status.idle": "2023-10-20T05:45:09.660788Z",
          "shell.execute_reply.started": "2023-10-20T05:45:09.654057Z",
          "shell.execute_reply": "2023-10-20T05:45:09.659640Z"
        },
        "trusted": true,
        "id": "WqJ3rTmwSF0q",
        "outputId": "9bad36b6-bba2-4679-d156-7c22f30b5950"
      },
      "execution_count": null,
      "outputs": [
        {
          "execution_count": 15,
          "output_type": "execute_result",
          "data": {
            "text/plain": "array([[ 1.        ],\n       [ 0.33333333],\n       [ 1.        ],\n       ...,\n       [-0.33333333],\n       [ 0.55555556],\n       [ 1.        ]])"
          },
          "metadata": {}
        }
      ]
    },
    {
      "cell_type": "code",
      "source": [
        "x_movies_train, x_movies_test = train_test_split(X_movies_scaled, train_size=0.98, shuffle=True, random_state=1)\n",
        "x_users_train, x_users_test = train_test_split(X_users_scaled, train_size=0.98, shuffle=True, random_state=1)\n",
        "y_train, y_test = train_test_split(Y_ratings_scaled,    train_size=0.98, shuffle=True, random_state=1)\n",
        "print(f\"movie/item training data shape: {x_movies_train.shape}\")\n",
        "print(f\"movie/item test data shape: {x_movies_test.shape}\")"
      ],
      "metadata": {
        "execution": {
          "iopub.status.busy": "2023-10-20T05:42:18.675716Z",
          "iopub.execute_input": "2023-10-20T05:42:18.676064Z",
          "iopub.status.idle": "2023-10-20T05:42:37.424667Z",
          "shell.execute_reply.started": "2023-10-20T05:42:18.676038Z",
          "shell.execute_reply": "2023-10-20T05:42:37.423774Z"
        },
        "trusted": true,
        "id": "XICbCQEJSF0q",
        "outputId": "86078722-8834-427d-d538-5ee474cced77"
      },
      "execution_count": null,
      "outputs": [
        {
          "name": "stdout",
          "text": "movie/item training data shape: (24500093, 22)\nmovie/item test data shape: (500002, 22)\n",
          "output_type": "stream"
        }
      ]
    },
    {
      "cell_type": "code",
      "source": [
        "from numpy import asarray\n",
        "from numpy import save\n",
        "x_movies_train = asarray(x_movies_train)\n",
        "save('x_movies_train.npy', x_movies_train)"
      ],
      "metadata": {
        "execution": {
          "iopub.status.busy": "2023-10-19T04:27:43.085462Z",
          "iopub.execute_input": "2023-10-19T04:27:43.085884Z",
          "iopub.status.idle": "2023-10-19T04:27:55.396376Z",
          "shell.execute_reply.started": "2023-10-19T04:27:43.085855Z",
          "shell.execute_reply": "2023-10-19T04:27:55.395170Z"
        },
        "trusted": true,
        "id": "HMkgHm7rSF0r"
      },
      "execution_count": null,
      "outputs": []
    },
    {
      "cell_type": "code",
      "source": [
        "y_train"
      ],
      "metadata": {
        "execution": {
          "iopub.status.busy": "2023-10-20T05:45:20.653960Z",
          "iopub.execute_input": "2023-10-20T05:45:20.654419Z",
          "iopub.status.idle": "2023-10-20T05:45:20.663431Z",
          "shell.execute_reply.started": "2023-10-20T05:45:20.654377Z",
          "shell.execute_reply": "2023-10-20T05:45:20.661965Z"
        },
        "trusted": true,
        "id": "Inbr4oz2SF0r",
        "outputId": "33a72bcd-6566-49ea-ce06-eb52c31b69e4"
      },
      "execution_count": null,
      "outputs": [
        {
          "execution_count": 16,
          "output_type": "execute_result",
          "data": {
            "text/plain": "array([[-0.33333333],\n       [ 0.11111111],\n       [ 0.11111111],\n       ...,\n       [ 1.        ],\n       [ 0.11111111],\n       [ 0.55555556]])"
          },
          "metadata": {}
        }
      ]
    },
    {
      "cell_type": "code",
      "source": [
        "x_users_train = asarray(x_users_train)\n",
        "save('x_users_train.npy', x_users_train)"
      ],
      "metadata": {
        "execution": {
          "iopub.status.busy": "2023-10-19T04:29:56.561208Z",
          "iopub.execute_input": "2023-10-19T04:29:56.563092Z",
          "iopub.status.idle": "2023-10-19T04:30:08.817223Z",
          "shell.execute_reply.started": "2023-10-19T04:29:56.562944Z",
          "shell.execute_reply": "2023-10-19T04:30:08.815856Z"
        },
        "trusted": true,
        "id": "JjyeyqOjSF0r"
      },
      "execution_count": null,
      "outputs": []
    },
    {
      "cell_type": "code",
      "source": [
        "import gc\n",
        "del X_movies_scaled, X_users_scaled, Y_ratings_scaled\n",
        "gc.collect()"
      ],
      "metadata": {
        "execution": {
          "iopub.status.busy": "2023-10-20T05:43:12.046526Z",
          "iopub.execute_input": "2023-10-20T05:43:12.046850Z",
          "iopub.status.idle": "2023-10-20T05:43:12.255337Z",
          "shell.execute_reply.started": "2023-10-20T05:43:12.046826Z",
          "shell.execute_reply": "2023-10-20T05:43:12.254463Z"
        },
        "trusted": true,
        "id": "hCw2tj9aSF0r",
        "outputId": "481284cd-d80b-4c1a-8ac7-73e0e5b1faa6"
      },
      "execution_count": null,
      "outputs": [
        {
          "execution_count": 6,
          "output_type": "execute_result",
          "data": {
            "text/plain": "813"
          },
          "metadata": {}
        }
      ]
    },
    {
      "cell_type": "code",
      "source": [
        "num_user_features = 20 #x_users_train.shape[1]\n",
        "num_item_features = 22 #x_movies_train.shape[1]\n",
        "print(\"Number of user contents: \",num_user_features)\n",
        "print(\"Number of movie contents: \",num_item_features)"
      ],
      "metadata": {
        "execution": {
          "iopub.status.busy": "2023-10-20T05:43:24.161514Z",
          "iopub.execute_input": "2023-10-20T05:43:24.162249Z",
          "iopub.status.idle": "2023-10-20T05:43:24.167323Z",
          "shell.execute_reply.started": "2023-10-20T05:43:24.162219Z",
          "shell.execute_reply": "2023-10-20T05:43:24.166102Z"
        },
        "trusted": true,
        "id": "Me73o8_VSF0s",
        "outputId": "a5b657e7-da4b-4d40-95f3-bfe39d8bf8de"
      },
      "execution_count": null,
      "outputs": [
        {
          "name": "stdout",
          "text": "Number of user contents:  20\nNumber of movie contents:  22\n",
          "output_type": "stream"
        }
      ]
    },
    {
      "cell_type": "code",
      "source": [
        "gpus = tf.config.list_physical_devices('GPU');\n",
        "if len(gpus) == 1:\n",
        "    strategy = tf.distribute.OneDeviceStrategy(device='/gpu:0')\n",
        "elif len(gpus) > 1:\n",
        "    strategy = tf.distribute.MirroredStrategy()\n",
        "else:\n",
        "    #strategy = tf.distribute.OneDeviceStrategy(device='/cpu:0')\n",
        "    strategy = None"
      ],
      "metadata": {
        "execution": {
          "iopub.status.busy": "2023-10-19T06:07:24.469701Z",
          "iopub.execute_input": "2023-10-19T06:07:24.470430Z",
          "iopub.status.idle": "2023-10-19T06:07:24.475479Z",
          "shell.execute_reply.started": "2023-10-19T06:07:24.470402Z",
          "shell.execute_reply": "2023-10-19T06:07:24.474482Z"
        },
        "trusted": true,
        "id": "HPL7WQfqSF0s"
      },
      "execution_count": null,
      "outputs": []
    },
    {
      "cell_type": "code",
      "source": [
        "num_user_features"
      ],
      "metadata": {
        "execution": {
          "iopub.status.busy": "2023-10-19T06:10:36.325697Z",
          "iopub.execute_input": "2023-10-19T06:10:36.326040Z",
          "iopub.status.idle": "2023-10-19T06:10:36.331873Z",
          "shell.execute_reply.started": "2023-10-19T06:10:36.326012Z",
          "shell.execute_reply": "2023-10-19T06:10:36.330826Z"
        },
        "trusted": true,
        "id": "Flgsq4u8SF0s",
        "outputId": "53b206c4-9005-43d0-9576-e4e3cef94a16"
      },
      "execution_count": null,
      "outputs": [
        {
          "execution_count": 48,
          "output_type": "execute_result",
          "data": {
            "text/plain": "20"
          },
          "metadata": {}
        }
      ]
    },
    {
      "cell_type": "code",
      "source": [
        "num_item_features"
      ],
      "metadata": {
        "execution": {
          "iopub.status.busy": "2023-10-19T06:10:49.002418Z",
          "iopub.execute_input": "2023-10-19T06:10:49.002786Z",
          "iopub.status.idle": "2023-10-19T06:10:49.009067Z",
          "shell.execute_reply.started": "2023-10-19T06:10:49.002751Z",
          "shell.execute_reply": "2023-10-19T06:10:49.008005Z"
        },
        "trusted": true,
        "id": "yrsB8h8CSF0s",
        "outputId": "d95c8986-d60c-4a65-efee-b0563dbce248"
      },
      "execution_count": null,
      "outputs": [
        {
          "execution_count": 49,
          "output_type": "execute_result",
          "data": {
            "text/plain": "22"
          },
          "metadata": {}
        }
      ]
    },
    {
      "cell_type": "code",
      "source": [
        "num_outputs = 32\n",
        "\n",
        "def get_model():\n",
        "    input_user  = tf.keras.layers.Input(shape=(num_user_features))\n",
        "    input_item = tf.keras.layers.Input(shape=(num_item_features))\n",
        "\n",
        "    user_NN = tf.keras.Sequential([\n",
        "        tf.keras.layers.Dense(128, activation = 'relu'),\n",
        "        tf.keras.layers.Dense(256, activation = 'relu'),\n",
        "        #tf.keras.layers.Dropout(rate=0.1),\n",
        "        tf.keras.layers.Dense(128, activation = 'relu'),\n",
        "        #tf.keras.layers.Dropout(0.1),\n",
        "        tf.keras.layers.Dense(num_outputs)\n",
        "    ])\n",
        "\n",
        "    item_NN = tf.keras.Sequential([\n",
        "        tf.keras.layers.Dense(128, activation = 'relu'),\n",
        "        tf.keras.layers.Dense(256, activation = 'relu'),\n",
        "        #tf.keras.layers.Dropout(rate=0.1),\n",
        "        tf.keras.layers.Dense(128, activation = 'relu'),\n",
        "        #tf.keras.layers.Dropout(0.1),\n",
        "        tf.keras.layers.Dense(num_outputs)\n",
        "    ])\n",
        "\n",
        "    dotProduct = tf.keras.layers.Dot(axes=1)\n",
        "\n",
        "\n",
        "\n",
        "    output_user = user_NN(input_user)\n",
        "    vu = tf.linalg.l2_normalize(output_user,axis=1)\n",
        "    output_item = item_NN(input_item)\n",
        "    vi = tf.linalg.l2_normalize(output_item,axis=1)\n",
        "    #output = dotProduct([vu, vi])\n",
        "\n",
        "    multiplied = tf.keras.layers.Multiply()([vu, vi])\n",
        "    dense1 = tf.keras.layers.Dense(64, activation='relu')(multiplied)\n",
        "    dense1 = tf.keras.layers.Dropout(0.1)(dense1)\n",
        "    output = tf.keras.layers.Dense(1,activation='tanh')(dense1)\n",
        "\n",
        "\n",
        "\n",
        "    model = tf.keras.Model([input_user, input_item],output)\n",
        "\n",
        "    return model, user_NN, item_NN\n"
      ],
      "metadata": {
        "execution": {
          "iopub.status.busy": "2023-10-20T05:43:35.968160Z",
          "iopub.execute_input": "2023-10-20T05:43:35.968471Z",
          "iopub.status.idle": "2023-10-20T05:43:35.976584Z",
          "shell.execute_reply.started": "2023-10-20T05:43:35.968446Z",
          "shell.execute_reply": "2023-10-20T05:43:35.975389Z"
        },
        "trusted": true,
        "id": "YcPs3hR2SF0t"
      },
      "execution_count": null,
      "outputs": []
    },
    {
      "cell_type": "code",
      "source": [
        "# exponential decay fn for the learning rate schedule\n",
        "lr_schedule = tf.keras.optimizers.schedules.ExponentialDecay(initial_learning_rate=0.005,\n",
        "                                                            decay_steps=100000,\n",
        "                                                            decay_rate=0.96)\n",
        "\n",
        "adam = tf.keras.optimizers.Adam(learning_rate=lr_schedule)\n",
        "mae = tf.keras.losses.MeanAbsoluteError()\n",
        "\n",
        "def rmse(y_true,y_pred):\n",
        "    return tf.sqrt(tf.reduce_mean(tf.square(tf.subtract(y_true,y_pred))))\n",
        "\n",
        "# model, user_NN, movie_NN = get_model()\n",
        "# model.compile(optimizer=adam, loss=mae)\n",
        "# else:\n",
        "model, user_NN, movie_NN = get_model()\n",
        "model.compile(optimizer=adam, loss='huber_loss', metrics=['mse'])\n",
        "\n",
        "model.summary()"
      ],
      "metadata": {
        "execution": {
          "iopub.status.busy": "2023-10-20T05:43:38.675713Z",
          "iopub.execute_input": "2023-10-20T05:43:38.676597Z",
          "iopub.status.idle": "2023-10-20T05:43:42.300228Z",
          "shell.execute_reply.started": "2023-10-20T05:43:38.676563Z",
          "shell.execute_reply": "2023-10-20T05:43:42.299375Z"
        },
        "trusted": true,
        "id": "xUDpmVe-SF0t",
        "outputId": "2494e21a-1cc3-47c8-ae44-deec579928e9"
      },
      "execution_count": null,
      "outputs": [
        {
          "name": "stdout",
          "text": "Model: \"model\"\n__________________________________________________________________________________________________\n Layer (type)                   Output Shape         Param #     Connected to                     \n==================================================================================================\n input_1 (InputLayer)           [(None, 20)]         0           []                               \n                                                                                                  \n input_2 (InputLayer)           [(None, 22)]         0           []                               \n                                                                                                  \n sequential (Sequential)        (None, 32)           72736       ['input_1[0][0]']                \n                                                                                                  \n sequential_1 (Sequential)      (None, 32)           72992       ['input_2[0][0]']                \n                                                                                                  \n tf.math.l2_normalize (TFOpLamb  (None, 32)          0           ['sequential[0][0]']             \n da)                                                                                              \n                                                                                                  \n tf.math.l2_normalize_1 (TFOpLa  (None, 32)          0           ['sequential_1[0][0]']           \n mbda)                                                                                            \n                                                                                                  \n multiply (Multiply)            (None, 32)           0           ['tf.math.l2_normalize[0][0]',   \n                                                                  'tf.math.l2_normalize_1[0][0]'] \n                                                                                                  \n dense_8 (Dense)                (None, 64)           2112        ['multiply[0][0]']               \n                                                                                                  \n dropout (Dropout)              (None, 64)           0           ['dense_8[0][0]']                \n                                                                                                  \n dense_9 (Dense)                (None, 1)            65          ['dropout[0][0]']                \n                                                                                                  \n==================================================================================================\nTotal params: 147,905\nTrainable params: 147,905\nNon-trainable params: 0\n__________________________________________________________________________________________________\n",
          "output_type": "stream"
        }
      ]
    },
    {
      "cell_type": "code",
      "source": [
        "# making a separate model for outputing user feature vector\n",
        "user_inp = tf.keras.layers.Input(shape=(num_user_features))\n",
        "user_out = user_NN(user_inp)\n",
        "user_out = tf.linalg.l2_normalize(user_out,axis=1)\n",
        "\n",
        "model_user = tf.keras.Model(user_inp, user_out)\n",
        "\n",
        "# separate model to output movie feature vectors\n",
        "item_inp = tf.keras.layers.Input(shape=(num_item_features))\n",
        "item_out = movie_NN(item_inp)\n",
        "item_out = tf.linalg.l2_normalize(item_out,axis=1)\n",
        "\n",
        "model_movie = tf.keras.Model(item_inp, item_out)"
      ],
      "metadata": {
        "execution": {
          "iopub.status.busy": "2023-10-20T05:43:48.121812Z",
          "iopub.execute_input": "2023-10-20T05:43:48.122172Z",
          "iopub.status.idle": "2023-10-20T05:43:48.176266Z",
          "shell.execute_reply.started": "2023-10-20T05:43:48.122145Z",
          "shell.execute_reply": "2023-10-20T05:43:48.175627Z"
        },
        "trusted": true,
        "id": "MPxVAqyMSF0t"
      },
      "execution_count": null,
      "outputs": []
    },
    {
      "cell_type": "code",
      "source": [
        "tf.keras.utils.plot_model(model,\"model.png\",show_shapes=True, expand_nested=True)"
      ],
      "metadata": {
        "execution": {
          "iopub.status.busy": "2023-10-19T06:13:11.724987Z",
          "iopub.execute_input": "2023-10-19T06:13:11.725323Z",
          "iopub.status.idle": "2023-10-19T06:13:11.842032Z",
          "shell.execute_reply.started": "2023-10-19T06:13:11.725295Z",
          "shell.execute_reply": "2023-10-19T06:13:11.841149Z"
        },
        "trusted": true,
        "id": "ijwptGqZSF0u",
        "outputId": "9b845350-9b44-47d1-b799-44063e2354ad"
      },
      "execution_count": null,
      "outputs": [
        {
          "execution_count": 53,
          "output_type": "execute_result",
          "data": {
            "image/png": "[encoded data removed]",
            "text/plain": "<IPython.core.display.Image object>"
          },
          "metadata": {}
        }
      ]
    },
    {
      "cell_type": "code",
      "source": [
        "y_train"
      ],
      "metadata": {
        "execution": {
          "iopub.status.busy": "2023-10-19T06:13:56.500952Z",
          "iopub.execute_input": "2023-10-19T06:13:56.501289Z",
          "iopub.status.idle": "2023-10-19T06:13:56.507533Z",
          "shell.execute_reply.started": "2023-10-19T06:13:56.501259Z",
          "shell.execute_reply": "2023-10-19T06:13:56.506557Z"
        },
        "trusted": true,
        "id": "EQuKhFs7SF0u",
        "outputId": "3c5b1296-9950-4337-c90a-a3c1b1540cc5"
      },
      "execution_count": null,
      "outputs": [
        {
          "execution_count": 57,
          "output_type": "execute_result",
          "data": {
            "text/plain": "array([[-0.33333333],\n       [ 0.11111111],\n       [ 0.11111111],\n       ...,\n       [ 1.        ],\n       [ 0.11111111],\n       [ 0.55555556]])"
          },
          "metadata": {}
        }
      ]
    },
    {
      "cell_type": "markdown",
      "source": [
        "# Testing From Here."
      ],
      "metadata": {
        "id": "w3KWb-QbSF0u"
      }
    },
    {
      "cell_type": "code",
      "source": [
        "hist = model.fit([x_users_train, x_movies_train],y_train, batch_size=1024, epochs=20,\n",
        "                validation_split=0.01,\n",
        "                shuffle=True)"
      ],
      "metadata": {
        "execution": {
          "iopub.status.busy": "2023-10-20T13:54:25.707183Z",
          "iopub.execute_input": "2023-10-20T13:54:25.707962Z",
          "iopub.status.idle": "2023-10-20T14:29:21.112753Z",
          "shell.execute_reply.started": "2023-10-20T13:54:25.707930Z",
          "shell.execute_reply": "2023-10-20T14:29:21.111999Z"
        },
        "trusted": true,
        "id": "CWyF2WN2SF01",
        "outputId": "01a1365b-0a56-4b88-e19d-f7f0c806b907"
      },
      "execution_count": null,
      "outputs": [
        {
          "name": "stdout",
          "text": "Epoch 1/20\n23687/23687 [==============================] - 112s 4ms/step - loss: 0.0677 - mse: 0.1364 - val_loss: 0.0654 - val_mse: 0.1318\nEpoch 2/20\n23687/23687 [==============================] - 104s 4ms/step - loss: 0.0649 - mse: 0.1307 - val_loss: 0.0644 - val_mse: 0.1296\nEpoch 3/20\n23687/23687 [==============================] - 105s 4ms/step - loss: 0.0639 - mse: 0.1288 - val_loss: 0.0629 - val_mse: 0.1267\nEpoch 4/20\n23687/23687 [==============================] - 104s 4ms/step - loss: 0.0630 - mse: 0.1268 - val_loss: 0.0625 - val_mse: 0.1258\nEpoch 5/20\n23687/23687 [==============================] - 104s 4ms/step - loss: 0.0626 - mse: 0.1260 - val_loss: 0.0632 - val_mse: 0.1275\nEpoch 6/20\n23687/23687 [==============================] - 104s 4ms/step - loss: 0.0623 - mse: 0.1253 - val_loss: 0.0618 - val_mse: 0.1245\nEpoch 7/20\n23687/23687 [==============================] - 103s 4ms/step - loss: 0.0619 - mse: 0.1247 - val_loss: 0.0616 - val_mse: 0.1240\nEpoch 8/20\n23687/23687 [==============================] - 103s 4ms/step - loss: 0.0616 - mse: 0.1240 - val_loss: 0.0615 - val_mse: 0.1237\nEpoch 9/20\n23687/23687 [==============================] - 104s 4ms/step - loss: 0.0613 - mse: 0.1233 - val_loss: 0.0608 - val_mse: 0.1223\nEpoch 10/20\n23687/23687 [==============================] - 103s 4ms/step - loss: 0.0610 - mse: 0.1227 - val_loss: 0.0607 - val_mse: 0.1222\nEpoch 11/20\n23687/23687 [==============================] - 104s 4ms/step - loss: 0.0606 - mse: 0.1220 - val_loss: 0.0605 - val_mse: 0.1219\nEpoch 12/20\n23687/23687 [==============================] - 104s 4ms/step - loss: 0.0604 - mse: 0.1216 - val_loss: 0.0608 - val_mse: 0.1224\nEpoch 13/20\n23687/23687 [==============================] - 104s 4ms/step - loss: 0.0603 - mse: 0.1213 - val_loss: 0.0601 - val_mse: 0.1209\nEpoch 14/20\n23687/23687 [==============================] - 103s 4ms/step - loss: 0.0602 - mse: 0.1211 - val_loss: 0.0601 - val_mse: 0.1209\nEpoch 15/20\n23687/23687 [==============================] - 104s 4ms/step - loss: 0.0601 - mse: 0.1209 - val_loss: 0.0600 - val_mse: 0.1207\nEpoch 16/20\n23687/23687 [==============================] - 103s 4ms/step - loss: 0.0599 - mse: 0.1206 - val_loss: 0.0597 - val_mse: 0.1201\nEpoch 17/20\n23687/23687 [==============================] - 103s 4ms/step - loss: 0.0598 - mse: 0.1203 - val_loss: 0.0599 - val_mse: 0.1206\nEpoch 18/20\n23687/23687 [==============================] - 104s 4ms/step - loss: 0.0597 - mse: 0.1202 - val_loss: 0.0597 - val_mse: 0.1201\nEpoch 19/20\n23687/23687 [==============================] - 104s 4ms/step - loss: 0.0596 - mse: 0.1200 - val_loss: 0.0595 - val_mse: 0.1198\nEpoch 20/20\n23687/23687 [==============================] - 103s 4ms/step - loss: 0.0595 - mse: 0.1198 - val_loss: 0.0594 - val_mse: 0.1196\n",
          "output_type": "stream"
        }
      ]
    },
    {
      "cell_type": "code",
      "source": [
        "plt.plot(range(11,10+len(hist.history['loss'])+1),hist.history['loss'],label=\"train_loss\")\n",
        "plt.plot(range(11,10+len(hist.history['val_loss'])+1),hist.history['val_loss'],label=\"val_loss\")\n",
        "plt.legend()\n",
        "plt.show()"
      ],
      "metadata": {
        "execution": {
          "iopub.status.busy": "2023-10-20T14:30:06.547269Z",
          "iopub.execute_input": "2023-10-20T14:30:06.547606Z",
          "iopub.status.idle": "2023-10-20T14:30:06.793453Z",
          "shell.execute_reply.started": "2023-10-20T14:30:06.547581Z",
          "shell.execute_reply": "2023-10-20T14:30:06.792584Z"
        },
        "trusted": true,
        "id": "sdz7jUZ_SF01",
        "outputId": "ae49575a-ab63-41d4-ae6f-2f5ae5949dfa"
      },
      "execution_count": null,
      "outputs": [
        {
          "output_type": "display_data",
          "data": {
            "text/plain": "<Figure size 640x480 with 1 Axes>",
            "image/png": "[encoded data removed]"
          },
          "metadata": {}
        }
      ]
    },
    {
      "cell_type": "code",
      "source": [
        "model.evaluate([x_users_test, x_movies_test],y_test, batch_size=256, steps=10000)"
      ],
      "metadata": {
        "execution": {
          "iopub.status.busy": "2023-10-20T14:30:44.068703Z",
          "iopub.execute_input": "2023-10-20T14:30:44.069084Z",
          "iopub.status.idle": "2023-10-20T14:30:49.203686Z",
          "shell.execute_reply.started": "2023-10-20T14:30:44.069055Z",
          "shell.execute_reply": "2023-10-20T14:30:49.203004Z"
        },
        "trusted": true,
        "id": "BMHxLYgQSF01",
        "outputId": "6e1904d0-c220-471a-d557-79f409fe2d50"
      },
      "execution_count": null,
      "outputs": [
        {
          "name": "stdout",
          "text": "10000/10000 [==============================] - 5s 485us/step - loss: 0.0592 - mse: 0.1191\n",
          "output_type": "stream"
        },
        {
          "execution_count": 12,
          "output_type": "execute_result",
          "data": {
            "text/plain": "[0.05921623483300209, 0.11914531141519547]"
          },
          "metadata": {}
        }
      ]
    },
    {
      "cell_type": "code",
      "source": [
        "model.save_weights(\"model_weights.h5\")\n",
        "model_user.save_weights(\"model_user_weights.h5\")\n",
        "model_movie.save_weights(\"model_item_weights.h5\")"
      ],
      "metadata": {
        "execution": {
          "iopub.status.busy": "2023-10-20T14:31:17.542303Z",
          "iopub.execute_input": "2023-10-20T14:31:17.543097Z",
          "iopub.status.idle": "2023-10-20T14:31:17.596734Z",
          "shell.execute_reply.started": "2023-10-20T14:31:17.543066Z",
          "shell.execute_reply": "2023-10-20T14:31:17.595515Z"
        },
        "trusted": true,
        "id": "vvub9HxMSF01"
      },
      "execution_count": null,
      "outputs": []
    },
    {
      "cell_type": "code",
      "source": [
        "del x_users_train,x_movies_train\n",
        "gc.collect()"
      ],
      "metadata": {
        "execution": {
          "iopub.status.busy": "2023-10-20T14:31:27.008606Z",
          "iopub.execute_input": "2023-10-20T14:31:27.009234Z",
          "iopub.status.idle": "2023-10-20T14:31:27.594595Z",
          "shell.execute_reply.started": "2023-10-20T14:31:27.009205Z",
          "shell.execute_reply": "2023-10-20T14:31:27.593635Z"
        },
        "trusted": true,
        "id": "dcLz-pJVSF01",
        "outputId": "a0899546-0f8f-4325-c3f2-de52c3ffe1a9"
      },
      "execution_count": null,
      "outputs": [
        {
          "execution_count": 14,
          "output_type": "execute_result",
          "data": {
            "text/plain": "5398"
          },
          "metadata": {}
        }
      ]
    },
    {
      "cell_type": "code",
      "source": [
        "model, user_NN, movie_NN = get_model()\n",
        "\n",
        "# making a separate model for outputing user feature vector\n",
        "user_inp = tf.keras.layers.Input(shape=(num_user_features))\n",
        "user_out = user_NN(user_inp)\n",
        "user_out = tf.linalg.l2_normalize(user_out,axis=1)\n",
        "\n",
        "model_user = tf.keras.Model(user_inp, user_out)\n",
        "\n",
        "# separate model to output movie feature vectors\n",
        "item_inp = tf.keras.layers.Input(shape=(num_item_features))\n",
        "item_out = movie_NN(item_inp)\n",
        "item_out = tf.linalg.l2_normalize(item_out,axis=1)\n",
        "\n",
        "model_movie = tf.keras.Model(item_inp, item_out)"
      ],
      "metadata": {
        "execution": {
          "iopub.status.busy": "2023-10-20T14:31:38.926197Z",
          "iopub.execute_input": "2023-10-20T14:31:38.926509Z",
          "iopub.status.idle": "2023-10-20T14:31:39.101180Z",
          "shell.execute_reply.started": "2023-10-20T14:31:38.926483Z",
          "shell.execute_reply": "2023-10-20T14:31:39.100519Z"
        },
        "trusted": true,
        "id": "9_KSzX3GSF01"
      },
      "execution_count": null,
      "outputs": []
    },
    {
      "cell_type": "code",
      "source": [
        "model.load_weights(\"/kaggle/working/model_weights.h5\")\n",
        "model_user.load_weights(\"/kaggle/working/model_user_weights.h5\")\n",
        "model_movie.load_weights(\"/kaggle/working/model_item_weights.h5\")"
      ],
      "metadata": {
        "execution": {
          "iopub.status.busy": "2023-10-20T14:32:51.730190Z",
          "iopub.execute_input": "2023-10-20T14:32:51.731189Z",
          "iopub.status.idle": "2023-10-20T14:32:51.779027Z",
          "shell.execute_reply.started": "2023-10-20T14:32:51.731143Z",
          "shell.execute_reply": "2023-10-20T14:32:51.778155Z"
        },
        "trusted": true,
        "id": "gHskkyFOSF02"
      },
      "execution_count": null,
      "outputs": []
    },
    {
      "cell_type": "code",
      "source": [
        "movie_features = pd.read_csv('/kaggle/input/data-and-pickle/movie_features.csv')"
      ],
      "metadata": {
        "execution": {
          "iopub.status.busy": "2023-10-20T14:36:04.476486Z",
          "iopub.execute_input": "2023-10-20T14:36:04.476780Z",
          "iopub.status.idle": "2023-10-20T14:36:04.547341Z",
          "shell.execute_reply.started": "2023-10-20T14:36:04.476758Z",
          "shell.execute_reply": "2023-10-20T14:36:04.546651Z"
        },
        "trusted": true,
        "id": "8KGbu--iSF02"
      },
      "execution_count": null,
      "outputs": []
    },
    {
      "cell_type": "code",
      "source": [
        "with open(\"/kaggle/input/data-and-pickle/scalerUser.pickle\",\"rb\") as f:\n",
        "    scalerUser = pickle.load(f)\n",
        "with open(\"/kaggle/input/data-and-pickle/scalerMovie.pickle\",\"rb\") as f:\n",
        "    scalerMovie = pickle.load(f)\n",
        "with open(\"/kaggle/input/data-and-pickle/scalerTarget.pickle\",\"rb\") as f:\n",
        "    scalerTarget = pickle.load(f)"
      ],
      "metadata": {
        "execution": {
          "iopub.status.busy": "2023-10-20T14:35:42.761778Z",
          "iopub.execute_input": "2023-10-20T14:35:42.762446Z",
          "iopub.status.idle": "2023-10-20T14:35:42.781257Z",
          "shell.execute_reply.started": "2023-10-20T14:35:42.762416Z",
          "shell.execute_reply": "2023-10-20T14:35:42.780562Z"
        },
        "trusted": true,
        "id": "wDTylPMySF02"
      },
      "execution_count": null,
      "outputs": []
    },
    {
      "cell_type": "code",
      "source": [
        "movie_vecs_scaled = movie_features.drop(columns=\"movieId\").values\n",
        "movie_vecs_scaled[:,0:2] = scalerMovie.transform(movie_features.drop(columns=\"movieId\").iloc[:,0:2])"
      ],
      "metadata": {
        "execution": {
          "iopub.status.busy": "2023-10-20T14:36:07.231753Z",
          "iopub.execute_input": "2023-10-20T14:36:07.232589Z",
          "iopub.status.idle": "2023-10-20T14:36:07.256801Z",
          "shell.execute_reply.started": "2023-10-20T14:36:07.232559Z",
          "shell.execute_reply": "2023-10-20T14:36:07.255884Z"
        },
        "trusted": true,
        "id": "si5Be3OjSF02"
      },
      "execution_count": null,
      "outputs": []
    },
    {
      "cell_type": "code",
      "source": [
        "num_movies = movie_features.shape[0]\n",
        "# num_users = user_features.shape[0]\n",
        "print(\"Total Number of movies: \",num_movies)\n",
        "# print(\"Total Number of uses: \",num_users)"
      ],
      "metadata": {
        "execution": {
          "iopub.status.busy": "2023-10-20T14:39:19.513032Z",
          "iopub.execute_input": "2023-10-20T14:39:19.513318Z",
          "iopub.status.idle": "2023-10-20T14:39:19.518105Z",
          "shell.execute_reply.started": "2023-10-20T14:39:19.513297Z",
          "shell.execute_reply": "2023-10-20T14:39:19.517222Z"
        },
        "trusted": true,
        "id": "pnqqbsu2SF02",
        "outputId": "f613af8b-2167-431e-ded6-7f01010e121d"
      },
      "execution_count": null,
      "outputs": [
        {
          "name": "stdout",
          "text": "Total Number of movies:  62423\n",
          "output_type": "stream"
        }
      ]
    },
    {
      "cell_type": "code",
      "source": [
        "getMovieId = dict(movies_df['movieId'])\n",
        "# mapper to get movie index in matrix given movie id\n",
        "getMovieIdx = {value:key for key,value in getMovieId.items()}\n",
        "# mapper from title to movie index\n",
        "titleToMovieIdx = {movies_df.iloc[idx,1]:idx for idx in range(num_movies)}"
      ],
      "metadata": {
        "execution": {
          "iopub.status.busy": "2023-10-20T14:39:21.700102Z",
          "iopub.execute_input": "2023-10-20T14:39:21.700425Z",
          "iopub.status.idle": "2023-10-20T14:39:22.851425Z",
          "shell.execute_reply.started": "2023-10-20T14:39:21.700401Z",
          "shell.execute_reply": "2023-10-20T14:39:22.850483Z"
        },
        "trusted": true,
        "id": "AhE1dbyASF03"
      },
      "execution_count": null,
      "outputs": []
    },
    {
      "cell_type": "code",
      "source": [
        "# getting model generated feature vectors for movies\n",
        "movie_vecs_m = model_movie.predict(movie_vecs_scaled)\n",
        "\n",
        "# store the similarity score of each movie with every other movie\n",
        "similarMovies = cosine_similarity(movie_vecs_m)\n",
        "\n",
        "#mask the diagonal scores as it represents similarity score with itself\n",
        "similarMovies = ma.masked_array(similarMovies, mask=np.identity(num_movies))\n",
        "\n",
        "print(similarMovies.shape)"
      ],
      "metadata": {
        "execution": {
          "iopub.status.busy": "2023-10-20T14:40:06.367552Z",
          "iopub.execute_input": "2023-10-20T14:40:06.368403Z",
          "iopub.status.idle": "2023-10-20T14:40:40.338283Z",
          "shell.execute_reply.started": "2023-10-20T14:40:06.368370Z",
          "shell.execute_reply": "2023-10-20T14:40:40.337400Z"
        },
        "trusted": true,
        "id": "HEDT1gGPSF03",
        "outputId": "b4b7c7d2-4815-40a2-9596-d4d71946e8fb"
      },
      "execution_count": null,
      "outputs": [
        {
          "name": "stdout",
          "text": "1951/1951 [==============================] - 2s 1ms/step\n(62423, 62423)\n",
          "output_type": "stream"
        }
      ]
    },
    {
      "cell_type": "code",
      "source": [
        "def get_recommendations_movie(mtitle, top_N=10, similarMovies=similarMovies, titleToMovieIdx=titleToMovieIdx):\n",
        "    movieIdx = titleToMovieIdx[mtitle]\n",
        "    # negate the values to get highest score first\n",
        "    sorted_idx = np.argsort(-similarMovies[movieIdx])\n",
        "\n",
        "    sorted_movies = movies_df.iloc[sorted_idx].iloc[0:top_N]\n",
        "    sorted_movies[\"similarity\"] = similarMovies[movieIdx][sorted_idx][0:top_N]\n",
        "\n",
        "    return sorted_movies.reset_index(drop=True)"
      ],
      "metadata": {
        "execution": {
          "iopub.status.busy": "2023-10-20T14:41:31.726337Z",
          "iopub.execute_input": "2023-10-20T14:41:31.727017Z",
          "iopub.status.idle": "2023-10-20T14:41:31.732492Z",
          "shell.execute_reply.started": "2023-10-20T14:41:31.726987Z",
          "shell.execute_reply": "2023-10-20T14:41:31.731460Z"
        },
        "trusted": true,
        "id": "DpRl2kraSF03"
      },
      "execution_count": null,
      "outputs": []
    },
    {
      "cell_type": "code",
      "source": [
        "top_N = 10\n",
        "\n",
        "# movie_idx = getMovieIdx[1]\n",
        "movie_name  = \"Iron Man (2008)\"\n",
        "# movie_genre = movies_df.iloc[movie_idx,2]\n",
        "# print(f\"Similar movies to {movie_name} with genre {movie_genre} are:\\n\\n\")\n",
        "sorted_movies = get_recommendations_movie(movie_name, top_N)\n",
        "sorted_movies.head(top_N)"
      ],
      "metadata": {
        "execution": {
          "iopub.status.busy": "2023-10-20T14:55:15.343623Z",
          "iopub.execute_input": "2023-10-20T14:55:15.344465Z",
          "iopub.status.idle": "2023-10-20T14:55:15.392868Z",
          "shell.execute_reply.started": "2023-10-20T14:55:15.344434Z",
          "shell.execute_reply": "2023-10-20T14:55:15.392051Z"
        },
        "trusted": true,
        "id": "h1JX39GASF03",
        "outputId": "f3484fcb-d469-4c17-c1d3-544cd890f7c3"
      },
      "execution_count": null,
      "outputs": [
        {
          "execution_count": 48,
          "output_type": "execute_result",
          "data": {
            "text/plain": "   movieId                                   title                   genres  \\\n0    63433   Farscape: The Peacekeeper Wars (2004)  Action|Adventure|Sci-Fi   \n1   111362       X-Men: Days of Future Past (2014)  Action|Adventure|Sci-Fi   \n2     3793                            X-Men (2000)  Action|Adventure|Sci-Fi   \n3   112852          Guardians of the Galaxy (2014)  Action|Adventure|Sci-Fi   \n4   122918        Guardians of the Galaxy 2 (2017)  Action|Adventure|Sci-Fi   \n5   122922                   Doctor Strange (2016)  Action|Adventure|Sci-Fi   \n6    34405                         Serenity (2005)  Action|Adventure|Sci-Fi   \n7   122916                   Thor: Ragnarok (2017)  Action|Adventure|Sci-Fi   \n8   191831                      Nostradamus (2000)  Action|Adventure|Sci-Fi   \n9   122912  Avengers: Infinity War - Part I (2018)  Action|Adventure|Sci-Fi   \n\n                         genre  (no genres listed)  Action  Adventure  \\\n0  [Action, Adventure, Sci-Fi]                   0       1          1   \n1  [Action, Adventure, Sci-Fi]                   0       1          1   \n2  [Action, Adventure, Sci-Fi]                   0       1          1   \n3  [Action, Adventure, Sci-Fi]                   0       1          1   \n4  [Action, Adventure, Sci-Fi]                   0       1          1   \n5  [Action, Adventure, Sci-Fi]                   0       1          1   \n6  [Action, Adventure, Sci-Fi]                   0       1          1   \n7  [Action, Adventure, Sci-Fi]                   0       1          1   \n8  [Action, Adventure, Sci-Fi]                   0       1          1   \n9  [Action, Adventure, Sci-Fi]                   0       1          1   \n\n   Animation  Children  Comedy  ...  IMAX  Musical  Mystery  Romance  Sci-Fi  \\\n0          0         0       0  ...     0        0        0        0       1   \n1          0         0       0  ...     0        0        0        0       1   \n2          0         0       0  ...     0        0        0        0       1   \n3          0         0       0  ...     0        0        0        0       1   \n4          0         0       0  ...     0        0        0        0       1   \n5          0         0       0  ...     0        0        0        0       1   \n6          0         0       0  ...     0        0        0        0       1   \n7          0         0       0  ...     0        0        0        0       1   \n8          0         0       0  ...     0        0        0        0       1   \n9          0         0       0  ...     0        0        0        0       1   \n\n   Thriller  War  Western  year  similarity  \n0         0    0        0  2004    0.997086  \n1         0    0        0  2014    0.991376  \n2         0    0        0  2000    0.990487  \n3         0    0        0  2014    0.990431  \n4         0    0        0  2017    0.989606  \n5         0    0        0  2016    0.989479  \n6         0    0        0  2005    0.988946  \n7         0    0        0  2017    0.988731  \n8         0    0        0  2000    0.988501  \n9         0    0        0  2018    0.986162  \n\n[10 rows x 26 columns]",
            "text/html": "<div>\n<style scoped>\n    .dataframe tbody tr th:only-of-type {\n        vertical-align: middle;\n    }\n\n    .dataframe tbody tr th {\n        vertical-align: top;\n    }\n\n    .dataframe thead th {\n        text-align: right;\n    }\n</style>\n<table border=\"1\" class=\"dataframe\">\n  <thead>\n    <tr style=\"text-align: right;\">\n      <th></th>\n      <th>movieId</th>\n      <th>title</th>\n      <th>genres</th>\n      <th>genre</th>\n      <th>(no genres listed)</th>\n      <th>Action</th>\n      <th>Adventure</th>\n      <th>Animation</th>\n      <th>Children</th>\n      <th>Comedy</th>\n      <th>...</th>\n      <th>IMAX</th>\n      <th>Musical</th>\n      <th>Mystery</th>\n      <th>Romance</th>\n      <th>Sci-Fi</th>\n      <th>Thriller</th>\n      <th>War</th>\n      <th>Western</th>\n      <th>year</th>\n      <th>similarity</th>\n    </tr>\n  </thead>\n  <tbody>\n    <tr>\n      <th>0</th>\n      <td>63433</td>\n      <td>Farscape: The Peacekeeper Wars (2004)</td>\n      <td>Action|Adventure|Sci-Fi</td>\n      <td>[Action, Adventure, Sci-Fi]</td>\n      <td>0</td>\n      <td>1</td>\n      <td>1</td>\n      <td>0</td>\n      <td>0</td>\n      <td>0</td>\n      <td>...</td>\n      <td>0</td>\n      <td>0</td>\n      <td>0</td>\n      <td>0</td>\n      <td>1</td>\n      <td>0</td>\n      <td>0</td>\n      <td>0</td>\n      <td>2004</td>\n      <td>0.997086</td>\n    </tr>\n    <tr>\n      <th>1</th>\n      <td>111362</td>\n      <td>X-Men: Days of Future Past (2014)</td>\n      <td>Action|Adventure|Sci-Fi</td>\n      <td>[Action, Adventure, Sci-Fi]</td>\n      <td>0</td>\n      <td>1</td>\n      <td>1</td>\n      <td>0</td>\n      <td>0</td>\n      <td>0</td>\n      <td>...</td>\n      <td>0</td>\n      <td>0</td>\n      <td>0</td>\n      <td>0</td>\n      <td>1</td>\n      <td>0</td>\n      <td>0</td>\n      <td>0</td>\n      <td>2014</td>\n      <td>0.991376</td>\n    </tr>\n    <tr>\n      <th>2</th>\n      <td>3793</td>\n      <td>X-Men (2000)</td>\n      <td>Action|Adventure|Sci-Fi</td>\n      <td>[Action, Adventure, Sci-Fi]</td>\n      <td>0</td>\n      <td>1</td>\n      <td>1</td>\n      <td>0</td>\n      <td>0</td>\n      <td>0</td>\n      <td>...</td>\n      <td>0</td>\n      <td>0</td>\n      <td>0</td>\n      <td>0</td>\n      <td>1</td>\n      <td>0</td>\n      <td>0</td>\n      <td>0</td>\n      <td>2000</td>\n      <td>0.990487</td>\n    </tr>\n    <tr>\n      <th>3</th>\n      <td>112852</td>\n      <td>Guardians of the Galaxy (2014)</td>\n      <td>Action|Adventure|Sci-Fi</td>\n      <td>[Action, Adventure, Sci-Fi]</td>\n      <td>0</td>\n      <td>1</td>\n      <td>1</td>\n      <td>0</td>\n      <td>0</td>\n      <td>0</td>\n      <td>...</td>\n      <td>0</td>\n      <td>0</td>\n      <td>0</td>\n      <td>0</td>\n      <td>1</td>\n      <td>0</td>\n      <td>0</td>\n      <td>0</td>\n      <td>2014</td>\n      <td>0.990431</td>\n    </tr>\n    <tr>\n      <th>4</th>\n      <td>122918</td>\n      <td>Guardians of the Galaxy 2 (2017)</td>\n      <td>Action|Adventure|Sci-Fi</td>\n      <td>[Action, Adventure, Sci-Fi]</td>\n      <td>0</td>\n      <td>1</td>\n      <td>1</td>\n      <td>0</td>\n      <td>0</td>\n      <td>0</td>\n      <td>...</td>\n      <td>0</td>\n      <td>0</td>\n      <td>0</td>\n      <td>0</td>\n      <td>1</td>\n      <td>0</td>\n      <td>0</td>\n      <td>0</td>\n      <td>2017</td>\n      <td>0.989606</td>\n    </tr>\n    <tr>\n      <th>5</th>\n      <td>122922</td>\n      <td>Doctor Strange (2016)</td>\n      <td>Action|Adventure|Sci-Fi</td>\n      <td>[Action, Adventure, Sci-Fi]</td>\n      <td>0</td>\n      <td>1</td>\n      <td>1</td>\n      <td>0</td>\n      <td>0</td>\n      <td>0</td>\n      <td>...</td>\n      <td>0</td>\n      <td>0</td>\n      <td>0</td>\n      <td>0</td>\n      <td>1</td>\n      <td>0</td>\n      <td>0</td>\n      <td>0</td>\n      <td>2016</td>\n      <td>0.989479</td>\n    </tr>\n    <tr>\n      <th>6</th>\n      <td>34405</td>\n      <td>Serenity (2005)</td>\n      <td>Action|Adventure|Sci-Fi</td>\n      <td>[Action, Adventure, Sci-Fi]</td>\n      <td>0</td>\n      <td>1</td>\n      <td>1</td>\n      <td>0</td>\n      <td>0</td>\n      <td>0</td>\n      <td>...</td>\n      <td>0</td>\n      <td>0</td>\n      <td>0</td>\n      <td>0</td>\n      <td>1</td>\n      <td>0</td>\n      <td>0</td>\n      <td>0</td>\n      <td>2005</td>\n      <td>0.988946</td>\n    </tr>\n    <tr>\n      <th>7</th>\n      <td>122916</td>\n      <td>Thor: Ragnarok (2017)</td>\n      <td>Action|Adventure|Sci-Fi</td>\n      <td>[Action, Adventure, Sci-Fi]</td>\n      <td>0</td>\n      <td>1</td>\n      <td>1</td>\n      <td>0</td>\n      <td>0</td>\n      <td>0</td>\n      <td>...</td>\n      <td>0</td>\n      <td>0</td>\n      <td>0</td>\n      <td>0</td>\n      <td>1</td>\n      <td>0</td>\n      <td>0</td>\n      <td>0</td>\n      <td>2017</td>\n      <td>0.988731</td>\n    </tr>\n    <tr>\n      <th>8</th>\n      <td>191831</td>\n      <td>Nostradamus (2000)</td>\n      <td>Action|Adventure|Sci-Fi</td>\n      <td>[Action, Adventure, Sci-Fi]</td>\n      <td>0</td>\n      <td>1</td>\n      <td>1</td>\n      <td>0</td>\n      <td>0</td>\n      <td>0</td>\n      <td>...</td>\n      <td>0</td>\n      <td>0</td>\n      <td>0</td>\n      <td>0</td>\n      <td>1</td>\n      <td>0</td>\n      <td>0</td>\n      <td>0</td>\n      <td>2000</td>\n      <td>0.988501</td>\n    </tr>\n    <tr>\n      <th>9</th>\n      <td>122912</td>\n      <td>Avengers: Infinity War - Part I (2018)</td>\n      <td>Action|Adventure|Sci-Fi</td>\n      <td>[Action, Adventure, Sci-Fi]</td>\n      <td>0</td>\n      <td>1</td>\n      <td>1</td>\n      <td>0</td>\n      <td>0</td>\n      <td>0</td>\n      <td>...</td>\n      <td>0</td>\n      <td>0</td>\n      <td>0</td>\n      <td>0</td>\n      <td>1</td>\n      <td>0</td>\n      <td>0</td>\n      <td>0</td>\n      <td>2018</td>\n      <td>0.986162</td>\n    </tr>\n  </tbody>\n</table>\n<p>10 rows × 26 columns</p>\n</div>"
          },
          "metadata": {}
        }
      ]
    },
    {
      "cell_type": "code",
      "source": [
        "sorted_movies[['movieId', 'title', 'genres', 'year', 'similarity']]"
      ],
      "metadata": {
        "execution": {
          "iopub.status.busy": "2023-10-20T14:56:47.470943Z",
          "iopub.execute_input": "2023-10-20T14:56:47.471286Z",
          "iopub.status.idle": "2023-10-20T14:56:47.482688Z",
          "shell.execute_reply.started": "2023-10-20T14:56:47.471263Z",
          "shell.execute_reply": "2023-10-20T14:56:47.481773Z"
        },
        "trusted": true,
        "id": "c7aaP4DFSF04",
        "outputId": "2cb13e5f-1b9f-4103-b3b5-4472ffce06b7"
      },
      "execution_count": null,
      "outputs": [
        {
          "execution_count": 52,
          "output_type": "execute_result",
          "data": {
            "text/plain": "   movieId                                   title                   genres  \\\n0    63433   Farscape: The Peacekeeper Wars (2004)  Action|Adventure|Sci-Fi   \n1   111362       X-Men: Days of Future Past (2014)  Action|Adventure|Sci-Fi   \n2     3793                            X-Men (2000)  Action|Adventure|Sci-Fi   \n3   112852          Guardians of the Galaxy (2014)  Action|Adventure|Sci-Fi   \n4   122918        Guardians of the Galaxy 2 (2017)  Action|Adventure|Sci-Fi   \n5   122922                   Doctor Strange (2016)  Action|Adventure|Sci-Fi   \n6    34405                         Serenity (2005)  Action|Adventure|Sci-Fi   \n7   122916                   Thor: Ragnarok (2017)  Action|Adventure|Sci-Fi   \n8   191831                      Nostradamus (2000)  Action|Adventure|Sci-Fi   \n9   122912  Avengers: Infinity War - Part I (2018)  Action|Adventure|Sci-Fi   \n\n   year  similarity  \n0  2004    0.997086  \n1  2014    0.991376  \n2  2000    0.990487  \n3  2014    0.990431  \n4  2017    0.989606  \n5  2016    0.989479  \n6  2005    0.988946  \n7  2017    0.988731  \n8  2000    0.988501  \n9  2018    0.986162  ",
            "text/html": "<div>\n<style scoped>\n    .dataframe tbody tr th:only-of-type {\n        vertical-align: middle;\n    }\n\n    .dataframe tbody tr th {\n        vertical-align: top;\n    }\n\n    .dataframe thead th {\n        text-align: right;\n    }\n</style>\n<table border=\"1\" class=\"dataframe\">\n  <thead>\n    <tr style=\"text-align: right;\">\n      <th></th>\n      <th>movieId</th>\n      <th>title</th>\n      <th>genres</th>\n      <th>year</th>\n      <th>similarity</th>\n    </tr>\n  </thead>\n  <tbody>\n    <tr>\n      <th>0</th>\n      <td>63433</td>\n      <td>Farscape: The Peacekeeper Wars (2004)</td>\n      <td>Action|Adventure|Sci-Fi</td>\n      <td>2004</td>\n      <td>0.997086</td>\n    </tr>\n    <tr>\n      <th>1</th>\n      <td>111362</td>\n      <td>X-Men: Days of Future Past (2014)</td>\n      <td>Action|Adventure|Sci-Fi</td>\n      <td>2014</td>\n      <td>0.991376</td>\n    </tr>\n    <tr>\n      <th>2</th>\n      <td>3793</td>\n      <td>X-Men (2000)</td>\n      <td>Action|Adventure|Sci-Fi</td>\n      <td>2000</td>\n      <td>0.990487</td>\n    </tr>\n    <tr>\n      <th>3</th>\n      <td>112852</td>\n      <td>Guardians of the Galaxy (2014)</td>\n      <td>Action|Adventure|Sci-Fi</td>\n      <td>2014</td>\n      <td>0.990431</td>\n    </tr>\n    <tr>\n      <th>4</th>\n      <td>122918</td>\n      <td>Guardians of the Galaxy 2 (2017)</td>\n      <td>Action|Adventure|Sci-Fi</td>\n      <td>2017</td>\n      <td>0.989606</td>\n    </tr>\n    <tr>\n      <th>5</th>\n      <td>122922</td>\n      <td>Doctor Strange (2016)</td>\n      <td>Action|Adventure|Sci-Fi</td>\n      <td>2016</td>\n      <td>0.989479</td>\n    </tr>\n    <tr>\n      <th>6</th>\n      <td>34405</td>\n      <td>Serenity (2005)</td>\n      <td>Action|Adventure|Sci-Fi</td>\n      <td>2005</td>\n      <td>0.988946</td>\n    </tr>\n    <tr>\n      <th>7</th>\n      <td>122916</td>\n      <td>Thor: Ragnarok (2017)</td>\n      <td>Action|Adventure|Sci-Fi</td>\n      <td>2017</td>\n      <td>0.988731</td>\n    </tr>\n    <tr>\n      <th>8</th>\n      <td>191831</td>\n      <td>Nostradamus (2000)</td>\n      <td>Action|Adventure|Sci-Fi</td>\n      <td>2000</td>\n      <td>0.988501</td>\n    </tr>\n    <tr>\n      <th>9</th>\n      <td>122912</td>\n      <td>Avengers: Infinity War - Part I (2018)</td>\n      <td>Action|Adventure|Sci-Fi</td>\n      <td>2018</td>\n      <td>0.986162</td>\n    </tr>\n  </tbody>\n</table>\n</div>"
          },
          "metadata": {}
        }
      ]
    },
    {
      "cell_type": "code",
      "source": [],
      "metadata": {
        "id": "V1-zjN8_SF04"
      },
      "execution_count": null,
      "outputs": []
    }
  ]
}